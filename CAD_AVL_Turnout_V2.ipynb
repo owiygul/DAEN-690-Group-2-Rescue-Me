{
 "cells": [
  {
   "cell_type": "code",
   "execution_count": 84,
   "id": "53400b7b",
   "metadata": {},
   "outputs": [],
   "source": [
    "import pandas as pd\n",
    "import numpy as np\n",
    "from datetime import datetime"
   ]
  },
  {
   "cell_type": "code",
   "execution_count": 85,
   "id": "aa556008",
   "metadata": {},
   "outputs": [
    {
     "data": {
      "text/plain": [
       "AVL_IncidentNumber    0\n",
       "AVL_UnitID            0\n",
       "AVL_Timestamp         0\n",
       "AVL_UnitStatus        0\n",
       "AVL_Speed             0\n",
       "dtype: int64"
      ]
     },
     "execution_count": 85,
     "metadata": {},
     "output_type": "execute_result"
    }
   ],
   "source": [
    "cad = pd.read_csv('GMU_2021_Summer_CAD.csv')\n",
    "avl = pd.read_csv('GMU_2021_Summer_AVL.csv')\n",
    "avl.columns = ['AVL_IncidentNumber',\n",
    "               'AVL_UnitID',\n",
    "               'AVL_Timestamp',\n",
    "               'AVL_UnitStatus',\n",
    "               'AVL_Speed']\n",
    "avl.dropna(subset = ['AVL_IncidentNumber'],\n",
    "           inplace = True)\n",
    "avl.reset_index(inplace = True, drop = True)\n",
    "avl.isna().sum()"
   ]
  },
  {
   "cell_type": "code",
   "execution_count": 87,
   "id": "98947a19",
   "metadata": {},
   "outputs": [],
   "source": [
    "# convert object to timestamp proper\n",
    "avl['AVL_Timestamp'] = avl['AVL_Timestamp'].str.replace('ED', '')\n",
    "cad['CAD_Timestamp'] = cad['CAD_Timestamp'].str.replace('ED', '')\n",
    "avl['AVL_Timestamp'] = avl['AVL_Timestamp'].str.replace('ES', '')\n",
    "cad['CAD_Timestamp'] = cad['CAD_Timestamp'].str.replace('ES', '')\n",
    "avl['AVL_Timestamp'] = pd.to_datetime(avl['AVL_Timestamp'], format = '%Y%m%d%H%M%S')\n",
    "cad['CAD_Timestamp'] = pd.to_datetime(cad['CAD_Timestamp'], format = '%Y%m%d%H%M%S')"
   ]
  },
  {
   "cell_type": "code",
   "execution_count": 88,
   "id": "ad9de31f",
   "metadata": {},
   "outputs": [],
   "source": [
    "#Create separate dat sets of ER and DP to then be joined to to form \"transport\" entry\n",
    "cad_er = cad[cad['CAD_UnitStatus'].isin(['ER'])]\n",
    "cad_dp= cad[cad['CAD_UnitStatus'].isin(['DP'])]\n",
    "avl_er = avl[avl['AVL_UnitStatus'].isin(['ER'])]\n",
    "avl_dp= avl[avl['AVL_UnitStatus'].isin(['DP'])]"
   ]
  },
  {
   "cell_type": "code",
   "execution_count": 89,
   "id": "3233bcc2",
   "metadata": {},
   "outputs": [],
   "source": [
    "#rename the columns so that that are labeled CAD or AVL and er or dp data frame\n",
    "cad_er=cad_er.rename(columns={\"CAD_IncidentNumber\":\"cad_er_IncidentNumber\",\"CAD_UnitID\":\"cad_er_UnitID\",\"CAD_Timestamp\":\"cad_er_Timestamp\", \"CAD_UnitStatus\":\"cad_er_UnitStatus\"})\n",
    "cad_dp=cad_dp.rename(columns={\"CAD_IncidentNumber\":\"cad_dp_IncidentNumber\",\"CAD_UnitID\":\"cad_dp_UnitID\",\"CAD_Timestamp\":\"cad_dp_Timestamp\", \"CAD_UnitStatus\":\"cad_dp_UnitStatus\"})\n",
    "\n",
    "avl_er=avl_er.rename(columns={\"AVL_IncidentNumber\":\"avl_er_IncidentNumber\",\"AVL_UnitID\":\"avl_er_UnitID\",\"AVL_Timestamp\":\"avl_er_Timestamp\", \"AVL_UnitStatus\":\"avl_er_UnitStatus\", \"AVL_Speed\":\"avl_er_Speed\"})\n",
    "avl_dp=avl_dp.rename(columns={\"AVL_IncidentNumber\":\"avl_dp_IncidentNumber\",\"AVL_UnitID\":\"avl_dp_UnitID\",\"AVL_Timestamp\":\"avl_dp_Timestamp\", \"AVL_UnitStatus\":\"avl_dp_UnitStatus\", \"AVL_Speed\":\"avl_dp_Speed\"})"
   ]
  },
  {
   "cell_type": "code",
   "execution_count": 92,
   "id": "05e62d73",
   "metadata": {},
   "outputs": [
    {
     "name": "stdout",
     "output_type": "stream",
     "text": [
      "cad_er_FullKey\n",
      "E191120999M417     470\n",
      "E180652335M424      92\n",
      "E192510953E404      91\n",
      "E200211385M418      90\n",
      "E170101343M440      89\n",
      "                  ... \n",
      "E181430071M437       1\n",
      "E181430071R419       1\n",
      "E181430081TT410      1\n",
      "E181430091E421       1\n",
      "E203662422M413       1\n",
      "Length: 822765, dtype: int64\n",
      "cad_dp_FullKey\n",
      "E181160891E422B    9\n",
      "E180441607T441     7\n",
      "E180431602T440     6\n",
      "E181591821A410E    6\n",
      "E191582251A414E    6\n",
      "                  ..\n",
      "E181353295TT410    1\n",
      "E181353327E429     1\n",
      "E181353327T429     1\n",
      "E181353332E427     1\n",
      "E203662422M413     1\n",
      "Length: 829830, dtype: int64\n",
      "avl_er_FullKey\n",
      "E191120999M417     477\n",
      "E183130717M401E    455\n",
      "E170333099E423     353\n",
      "E182842013R439     350\n",
      "E170333099E401     334\n",
      "                  ... \n",
      "E181241800T405       1\n",
      "E190731525M413       1\n",
      "E190731454M413       1\n",
      "E190731322M401       1\n",
      "E203662422M413       1\n",
      "Length: 711508, dtype: int64\n",
      "avl_dp_FullKey\n",
      "E180431163M435     69\n",
      "E203610099M408B    34\n",
      "E200390725E420     28\n",
      "E171920096E422     28\n",
      "E201111766E439     27\n",
      "                   ..\n",
      "E183172323M421      1\n",
      "E183172438E415      1\n",
      "E183172438M415      1\n",
      "E183172448M430      1\n",
      "E203662422M401      1\n",
      "Length: 46281, dtype: int64\n"
     ]
    }
   ],
   "source": [
    "#Create the FullKey to make sure the first time entry for the ER and DP status are being taken\n",
    "cad_er['cad_er_FullKey'] = cad_er['cad_er_IncidentNumber'].map(str) +  cad_er['cad_er_UnitID'].map(str)\n",
    "cad_dp['cad_dp_FullKey'] = cad_dp['cad_dp_IncidentNumber'].map(str) +  cad_dp['cad_dp_UnitID'].map(str)\n",
    "\n",
    "avl_er['avl_er_FullKey'] = avl_er['avl_er_IncidentNumber'].map(str) +  avl_er['avl_er_UnitID'].map(str)\n",
    "avl_dp['avl_dp_FullKey'] = avl_dp['avl_dp_IncidentNumber'].map(str) +  avl_dp['avl_dp_UnitID'].map(str)\n",
    "\n",
    "#for validation note that there are currently duplicates in the data frames\n",
    "dups_cad_er = cad_er.pivot_table(index = ['cad_er_FullKey'], aggfunc ='size').sort_values(ascending=False)\n",
    "print(dups_cad_er)\n",
    "dups_cad_dp = cad_dp.pivot_table(index = ['cad_dp_FullKey'], aggfunc ='size').sort_values(ascending=False)\n",
    "print(dups_cad_dp)\n",
    "\n",
    "dups_avl_er = avl_er.pivot_table(index = ['avl_er_FullKey'], aggfunc ='size').sort_values(ascending=False)\n",
    "print(dups_avl_er)\n",
    "dups_avl_dp = avl_dp.pivot_table(index = ['avl_dp_FullKey'], aggfunc ='size').sort_values(ascending=False)\n",
    "print(dups_avl_dp)"
   ]
  },
  {
   "cell_type": "code",
   "execution_count": 94,
   "id": "2add3c5b",
   "metadata": {},
   "outputs": [],
   "source": [
    "#sort both dataframes by timestamp so when dups are removed taking the first time stamp\n",
    "cad_er.sort_values(by='cad_er_Timestamp', ascending=True)\n",
    "cad_dp.sort_values(by='cad_dp_Timestamp', ascending=True)\n",
    "\n",
    "avl_er.sort_values(by='avl_er_Timestamp', ascending=True)\n",
    "avl_dp.sort_values(by='avl_dp_Timestamp', ascending=True)\n",
    "\n",
    "#Remove duplicates from each dataframe, so each unit ID is only DP or ER to an incident once\n",
    "cad_er_NEW = cad_er.drop_duplicates(subset='cad_er_FullKey', keep=\"first\", inplace=False)\n",
    "cad_dp_NEW = cad_dp.drop_duplicates(subset='cad_dp_FullKey', keep=\"first\", inplace=False)\n",
    "\n",
    "avl_er_NEW = avl_er.drop_duplicates(subset='avl_er_FullKey', keep=\"first\", inplace=False)\n",
    "avl_dp_NEW = avl_dp.drop_duplicates(subset='avl_dp_FullKey', keep=\"first\", inplace=False)"
   ]
  },
  {
   "cell_type": "code",
   "execution_count": 95,
   "id": "135db3a5",
   "metadata": {},
   "outputs": [
    {
     "name": "stdout",
     "output_type": "stream",
     "text": [
      "cad_er_FullKey\n",
      "70135E413          1\n",
      "E192412172TL405    1\n",
      "E192412119M438     1\n",
      "E192412125E401     1\n",
      "E192412125M401     1\n",
      "                  ..\n",
      "E181350940M439     1\n",
      "E181350940R439     1\n",
      "E181350947E415     1\n",
      "E181350952E405     1\n",
      "E203662422M413     1\n",
      "Length: 822765, dtype: int64\n",
      "cad_dp_FullKey\n",
      "E170010002E410    1\n",
      "E192402558E435    1\n",
      "E192402493M418    1\n",
      "E192402493M430    1\n",
      "E192402493R421    1\n",
      "                 ..\n",
      "E181342009E422    1\n",
      "E181342009M405    1\n",
      "E181342010E415    1\n",
      "E181342010M415    1\n",
      "E203662422M413    1\n",
      "Length: 829830, dtype: int64\n",
      "avl_er_FullKey\n",
      "E163662597E421    1\n",
      "E192421902E417    1\n",
      "E192421879E421    1\n",
      "E192421879E430    1\n",
      "E192421879M417    1\n",
      "                 ..\n",
      "E181210350M434    1\n",
      "E181210369E414    1\n",
      "E181210369M414    1\n",
      "E181210369R419    1\n",
      "E203662422M413    1\n",
      "Length: 711508, dtype: int64\n",
      "avl_dp_FullKey\n",
      "E170010030E428     1\n",
      "E200611859TT430    1\n",
      "E200612028E419     1\n",
      "E200612028M419     1\n",
      "E200612129E410     1\n",
      "                  ..\n",
      "E182822249E418     1\n",
      "E182822272E427     1\n",
      "E182822329M411     1\n",
      "E182822389M432     1\n",
      "E203662422M401     1\n",
      "Length: 46281, dtype: int64\n"
     ]
    }
   ],
   "source": [
    "#For Validation confirm that there are NOT currently duplicate values\n",
    "dups_cad_er_NEW = cad_er_NEW.pivot_table(index = ['cad_er_FullKey'], aggfunc ='size').sort_values(ascending=False)\n",
    "print(dups_cad_er_NEW)\n",
    "dups_cad_dp_NEW = cad_dp_NEW.pivot_table(index = ['cad_dp_FullKey'], aggfunc ='size').sort_values(ascending=False)\n",
    "print(dups_cad_dp_NEW)\n",
    "\n",
    "dups_avl_er_NEW = avl_er_NEW.pivot_table(index = ['avl_er_FullKey'], aggfunc ='size').sort_values(ascending=False)\n",
    "print(dups_avl_er_NEW)\n",
    "dups_avl_dp_NEW = avl_dp_NEW.pivot_table(index = ['avl_dp_FullKey'], aggfunc ='size').sort_values(ascending=False)\n",
    "print(dups_avl_dp_NEW)"
   ]
  },
  {
   "cell_type": "code",
   "execution_count": 98,
   "id": "83ca0da6",
   "metadata": {},
   "outputs": [],
   "source": [
    "#join the CAD data framaes together and then the AVL dataframes together\n",
    "df_cad = cad_dp_NEW.merge(cad_er_NEW, \n",
    "               how = 'inner', \n",
    "               left_on = ['cad_dp_IncidentNumber',\n",
    "                          'cad_dp_UnitID'],\n",
    "               right_on = ['cad_er_IncidentNumber',\n",
    "                           'cad_er_UnitID'],\n",
    "               suffixes = ('cad_dp', 'cad_er'))\n",
    "\n",
    "df_avl = avl_dp_NEW.merge(avl_er_NEW, \n",
    "               how = 'inner', \n",
    "               left_on = ['avl_dp_IncidentNumber',\n",
    "                          'avl_dp_UnitID'],\n",
    "               right_on = ['avl_er_IncidentNumber',\n",
    "                           'avl_er_UnitID'],\n",
    "               suffixes = ('avl_dp', 'avl_er'))"
   ]
  },
  {
   "cell_type": "code",
   "execution_count": 100,
   "id": "5e516a27",
   "metadata": {},
   "outputs": [],
   "source": [
    "# create turnout col in merged dataframe\n",
    "df_cad['cad_Timestamp_Turnout'] = abs(df_cad['cad_er_Timestamp'] - df_cad['cad_dp_Timestamp'])\n",
    "\n",
    "df_avl['avl_Timestamp_Turnout'] = abs(df_avl['avl_er_Timestamp'] - df_avl['avl_dp_Timestamp'])"
   ]
  },
  {
   "cell_type": "code",
   "execution_count": 103,
   "id": "34a130f1",
   "metadata": {},
   "outputs": [],
   "source": [
    "#convert the turnout time into seconds for simplier analysis\n",
    "df_CADless60 = df_cad[df_cad['cad_Timestamp_Turnout'].dt.total_seconds() <= 60]\n",
    "df_AVLless60 = df_avl[df_avl['avl_Timestamp_Turnout'].dt.total_seconds() <= 60]"
   ]
  },
  {
   "cell_type": "code",
   "execution_count": 110,
   "id": "f35b90ad",
   "metadata": {},
   "outputs": [
    {
     "name": "stdout",
     "output_type": "stream",
     "text": [
      "<class 'pandas.core.frame.DataFrame'>\n",
      "Int64Index: 822376 entries, 0 to 822375\n",
      "Data columns (total 11 columns):\n",
      " #   Column                 Non-Null Count   Dtype          \n",
      "---  ------                 --------------   -----          \n",
      " 0   cad_dp_IncidentNumber  822376 non-null  object         \n",
      " 1   cad_dp_UnitID          822376 non-null  object         \n",
      " 2   cad_dp_Timestamp       822376 non-null  datetime64[ns] \n",
      " 3   cad_dp_UnitStatus      822376 non-null  object         \n",
      " 4   cad_dp_FullKey         822376 non-null  object         \n",
      " 5   cad_er_IncidentNumber  822376 non-null  object         \n",
      " 6   cad_er_UnitID          822376 non-null  object         \n",
      " 7   cad_er_Timestamp       822376 non-null  datetime64[ns] \n",
      " 8   cad_er_UnitStatus      822376 non-null  object         \n",
      " 9   cad_er_FullKey         822376 non-null  object         \n",
      " 10  cad_Timestamp_Turnout  822376 non-null  timedelta64[ns]\n",
      "dtypes: datetime64[ns](2), object(8), timedelta64[ns](1)\n",
      "memory usage: 75.3+ MB\n",
      "<class 'pandas.core.frame.DataFrame'>\n",
      "Int64Index: 516138 entries, 2 to 822375\n",
      "Data columns (total 11 columns):\n",
      " #   Column                 Non-Null Count   Dtype          \n",
      "---  ------                 --------------   -----          \n",
      " 0   cad_dp_IncidentNumber  516138 non-null  object         \n",
      " 1   cad_dp_UnitID          516138 non-null  object         \n",
      " 2   cad_dp_Timestamp       516138 non-null  datetime64[ns] \n",
      " 3   cad_dp_UnitStatus      516138 non-null  object         \n",
      " 4   cad_dp_FullKey         516138 non-null  object         \n",
      " 5   cad_er_IncidentNumber  516138 non-null  object         \n",
      " 6   cad_er_UnitID          516138 non-null  object         \n",
      " 7   cad_er_Timestamp       516138 non-null  datetime64[ns] \n",
      " 8   cad_er_UnitStatus      516138 non-null  object         \n",
      " 9   cad_er_FullKey         516138 non-null  object         \n",
      " 10  cad_Timestamp_Turnout  516138 non-null  timedelta64[ns]\n",
      "dtypes: datetime64[ns](2), object(8), timedelta64[ns](1)\n",
      "memory usage: 47.3+ MB\n",
      "<class 'pandas.core.frame.DataFrame'>\n",
      "Int64Index: 44420 entries, 0 to 44419\n",
      "Data columns (total 13 columns):\n",
      " #   Column                 Non-Null Count  Dtype          \n",
      "---  ------                 --------------  -----          \n",
      " 0   avl_dp_IncidentNumber  44420 non-null  object         \n",
      " 1   avl_dp_UnitID          44420 non-null  object         \n",
      " 2   avl_dp_Timestamp       44420 non-null  datetime64[ns] \n",
      " 3   avl_dp_UnitStatus      44420 non-null  object         \n",
      " 4   avl_dp_Speed           44420 non-null  object         \n",
      " 5   avl_dp_FullKey         44420 non-null  object         \n",
      " 6   avl_er_IncidentNumber  44420 non-null  object         \n",
      " 7   avl_er_UnitID          44420 non-null  object         \n",
      " 8   avl_er_Timestamp       44420 non-null  datetime64[ns] \n",
      " 9   avl_er_UnitStatus      44420 non-null  object         \n",
      " 10  avl_er_Speed           44420 non-null  object         \n",
      " 11  avl_er_FullKey         44420 non-null  object         \n",
      " 12  avl_Timestamp_Turnout  44420 non-null  timedelta64[ns]\n",
      "dtypes: datetime64[ns](2), object(10), timedelta64[ns](1)\n",
      "memory usage: 4.7+ MB\n",
      "<class 'pandas.core.frame.DataFrame'>\n",
      "Int64Index: 23061 entries, 0 to 44418\n",
      "Data columns (total 13 columns):\n",
      " #   Column                 Non-Null Count  Dtype          \n",
      "---  ------                 --------------  -----          \n",
      " 0   avl_dp_IncidentNumber  23061 non-null  object         \n",
      " 1   avl_dp_UnitID          23061 non-null  object         \n",
      " 2   avl_dp_Timestamp       23061 non-null  datetime64[ns] \n",
      " 3   avl_dp_UnitStatus      23061 non-null  object         \n",
      " 4   avl_dp_Speed           23061 non-null  object         \n",
      " 5   avl_dp_FullKey         23061 non-null  object         \n",
      " 6   avl_er_IncidentNumber  23061 non-null  object         \n",
      " 7   avl_er_UnitID          23061 non-null  object         \n",
      " 8   avl_er_Timestamp       23061 non-null  datetime64[ns] \n",
      " 9   avl_er_UnitStatus      23061 non-null  object         \n",
      " 10  avl_er_Speed           23061 non-null  object         \n",
      " 11  avl_er_FullKey         23061 non-null  object         \n",
      " 12  avl_Timestamp_Turnout  23061 non-null  timedelta64[ns]\n",
      "dtypes: datetime64[ns](2), object(10), timedelta64[ns](1)\n",
      "memory usage: 2.5+ MB\n"
     ]
    },
    {
     "data": {
      "text/plain": [
       "0.5191580369203062"
      ]
     },
     "execution_count": 110,
     "metadata": {},
     "output_type": "execute_result"
    }
   ],
   "source": [
    "#Different Analytics\n",
    "df_cad.info()\n",
    "df_CADless60.info()\n",
    "516138/822376\n",
    "#about 63% of incidents had a turnout time of 60 seconds or less in CAD dataset\n",
    "\n",
    "df_avl.info()\n",
    "df_AVLless60.info()\n",
    "23061/44420\n",
    "#only about 52% of incidents had a turnout time of 60 seconds or less in CAD dataset"
   ]
  },
  {
   "cell_type": "code",
   "execution_count": 121,
   "id": "ea9d90fe",
   "metadata": {},
   "outputs": [
    {
     "data": {
      "text/plain": [
       "Timedelta('0 days 00:03:37.305920756')"
      ]
     },
     "execution_count": 121,
     "metadata": {},
     "output_type": "execute_result"
    }
   ],
   "source": [
    "df_avl[\"avl_Timestamp_Turnout\"].mean()"
   ]
  },
  {
   "cell_type": "code",
   "execution_count": 122,
   "id": "f2171a2c",
   "metadata": {},
   "outputs": [
    {
     "data": {
      "text/plain": [
       "Timedelta('0 days 00:01:17.788538332')"
      ]
     },
     "execution_count": 122,
     "metadata": {},
     "output_type": "execute_result"
    }
   ],
   "source": [
    "df_cad[\"cad_Timestamp_Turnout\"].mean()"
   ]
  },
  {
   "cell_type": "code",
   "execution_count": 123,
   "id": "c7caf0ac",
   "metadata": {},
   "outputs": [
    {
     "data": {
      "text/plain": [
       "Timedelta('11 days 05:19:44')"
      ]
     },
     "execution_count": 123,
     "metadata": {},
     "output_type": "execute_result"
    }
   ],
   "source": [
    "df_cad[\"cad_Timestamp_Turnout\"].max()"
   ]
  },
  {
   "cell_type": "code",
   "execution_count": 124,
   "id": "b1e1c707",
   "metadata": {},
   "outputs": [
    {
     "data": {
      "text/plain": [
       "Timedelta('11 days 05:24:47')"
      ]
     },
     "execution_count": 124,
     "metadata": {},
     "output_type": "execute_result"
    }
   ],
   "source": [
    "df_avl[\"avl_Timestamp_Turnout\"].max()"
   ]
  },
  {
   "cell_type": "code",
   "execution_count": 125,
   "id": "c6c457e8",
   "metadata": {},
   "outputs": [
    {
     "data": {
      "text/plain": [
       "Timedelta('0 days 00:00:00')"
      ]
     },
     "execution_count": 125,
     "metadata": {},
     "output_type": "execute_result"
    }
   ],
   "source": [
    "df_cad[\"cad_Timestamp_Turnout\"].min()"
   ]
  },
  {
   "cell_type": "code",
   "execution_count": 126,
   "id": "f3e27f53",
   "metadata": {},
   "outputs": [
    {
     "data": {
      "text/plain": [
       "Timedelta('0 days 00:00:00')"
      ]
     },
     "execution_count": 126,
     "metadata": {},
     "output_type": "execute_result"
    }
   ],
   "source": [
    "df_avl[\"avl_Timestamp_Turnout\"].min()"
   ]
  },
  {
   "cell_type": "code",
   "execution_count": 128,
   "id": "1082ed00",
   "metadata": {},
   "outputs": [
    {
     "name": "stdout",
     "output_type": "stream",
     "text": [
      "<class 'pandas.core.frame.DataFrame'>\n",
      "Int64Index: 28855 entries, 45 to 822343\n",
      "Data columns (total 11 columns):\n",
      " #   Column                 Non-Null Count  Dtype          \n",
      "---  ------                 --------------  -----          \n",
      " 0   cad_dp_IncidentNumber  28855 non-null  object         \n",
      " 1   cad_dp_UnitID          28855 non-null  object         \n",
      " 2   cad_dp_Timestamp       28855 non-null  datetime64[ns] \n",
      " 3   cad_dp_UnitStatus      28855 non-null  object         \n",
      " 4   cad_dp_FullKey         28855 non-null  object         \n",
      " 5   cad_er_IncidentNumber  28855 non-null  object         \n",
      " 6   cad_er_UnitID          28855 non-null  object         \n",
      " 7   cad_er_Timestamp       28855 non-null  datetime64[ns] \n",
      " 8   cad_er_UnitStatus      28855 non-null  object         \n",
      " 9   cad_er_FullKey         28855 non-null  object         \n",
      " 10  cad_Timestamp_Turnout  28855 non-null  timedelta64[ns]\n",
      "dtypes: datetime64[ns](2), object(8), timedelta64[ns](1)\n",
      "memory usage: 2.6+ MB\n"
     ]
    }
   ],
   "source": [
    "df_cad[df_cad['cad_Timestamp_Turnout'].isin(['0 days 00:00:00'])].info()"
   ]
  },
  {
   "cell_type": "code",
   "execution_count": 129,
   "id": "d40f7b3a",
   "metadata": {},
   "outputs": [
    {
     "name": "stdout",
     "output_type": "stream",
     "text": [
      "<class 'pandas.core.frame.DataFrame'>\n",
      "Int64Index: 40 entries, 998 to 36197\n",
      "Data columns (total 13 columns):\n",
      " #   Column                 Non-Null Count  Dtype          \n",
      "---  ------                 --------------  -----          \n",
      " 0   avl_dp_IncidentNumber  40 non-null     object         \n",
      " 1   avl_dp_UnitID          40 non-null     object         \n",
      " 2   avl_dp_Timestamp       40 non-null     datetime64[ns] \n",
      " 3   avl_dp_UnitStatus      40 non-null     object         \n",
      " 4   avl_dp_Speed           40 non-null     object         \n",
      " 5   avl_dp_FullKey         40 non-null     object         \n",
      " 6   avl_er_IncidentNumber  40 non-null     object         \n",
      " 7   avl_er_UnitID          40 non-null     object         \n",
      " 8   avl_er_Timestamp       40 non-null     datetime64[ns] \n",
      " 9   avl_er_UnitStatus      40 non-null     object         \n",
      " 10  avl_er_Speed           40 non-null     object         \n",
      " 11  avl_er_FullKey         40 non-null     object         \n",
      " 12  avl_Timestamp_Turnout  40 non-null     timedelta64[ns]\n",
      "dtypes: datetime64[ns](2), object(10), timedelta64[ns](1)\n",
      "memory usage: 4.4+ KB\n"
     ]
    }
   ],
   "source": [
    "df_avl[df_avl['avl_Timestamp_Turnout'].isin(['0 days 00:00:00'])].info()"
   ]
  },
  {
   "cell_type": "code",
   "execution_count": 130,
   "id": "0c86b8b6",
   "metadata": {},
   "outputs": [
    {
     "data": {
      "text/html": [
       "<div>\n",
       "<style scoped>\n",
       "    .dataframe tbody tr th:only-of-type {\n",
       "        vertical-align: middle;\n",
       "    }\n",
       "\n",
       "    .dataframe tbody tr th {\n",
       "        vertical-align: top;\n",
       "    }\n",
       "\n",
       "    .dataframe thead th {\n",
       "        text-align: right;\n",
       "    }\n",
       "</style>\n",
       "<table border=\"1\" class=\"dataframe\">\n",
       "  <thead>\n",
       "    <tr style=\"text-align: right;\">\n",
       "      <th></th>\n",
       "      <th>cad_dp_IncidentNumber</th>\n",
       "      <th>cad_dp_UnitID</th>\n",
       "      <th>cad_dp_Timestamp</th>\n",
       "      <th>cad_dp_UnitStatus</th>\n",
       "      <th>cad_dp_FullKey</th>\n",
       "      <th>cad_er_IncidentNumber</th>\n",
       "      <th>cad_er_UnitID</th>\n",
       "      <th>cad_er_Timestamp</th>\n",
       "      <th>cad_er_UnitStatus</th>\n",
       "      <th>cad_er_FullKey</th>\n",
       "      <th>cad_Timestamp_Turnout</th>\n",
       "    </tr>\n",
       "  </thead>\n",
       "  <tbody>\n",
       "    <tr>\n",
       "      <th>206080</th>\n",
       "      <td>E170333099</td>\n",
       "      <td>R419</td>\n",
       "      <td>2017-02-14 02:30:56</td>\n",
       "      <td>DP</td>\n",
       "      <td>E170333099R419</td>\n",
       "      <td>E170333099</td>\n",
       "      <td>R419</td>\n",
       "      <td>2017-02-02 21:11:12</td>\n",
       "      <td>ER</td>\n",
       "      <td>E170333099R419</td>\n",
       "      <td>11 days 05:19:44</td>\n",
       "    </tr>\n",
       "  </tbody>\n",
       "</table>\n",
       "</div>"
      ],
      "text/plain": [
       "       cad_dp_IncidentNumber cad_dp_UnitID    cad_dp_Timestamp  \\\n",
       "206080            E170333099          R419 2017-02-14 02:30:56   \n",
       "\n",
       "       cad_dp_UnitStatus  cad_dp_FullKey cad_er_IncidentNumber cad_er_UnitID  \\\n",
       "206080                DP  E170333099R419            E170333099          R419   \n",
       "\n",
       "          cad_er_Timestamp cad_er_UnitStatus  cad_er_FullKey  \\\n",
       "206080 2017-02-02 21:11:12                ER  E170333099R419   \n",
       "\n",
       "       cad_Timestamp_Turnout  \n",
       "206080      11 days 05:19:44  "
      ]
     },
     "execution_count": 130,
     "metadata": {},
     "output_type": "execute_result"
    }
   ],
   "source": [
    "df_cad[df_cad['cad_Timestamp_Turnout'].isin(['11 days 05:19:44'])]"
   ]
  },
  {
   "cell_type": "code",
   "execution_count": 131,
   "id": "1f5354bb",
   "metadata": {},
   "outputs": [
    {
     "data": {
      "text/html": [
       "<div>\n",
       "<style scoped>\n",
       "    .dataframe tbody tr th:only-of-type {\n",
       "        vertical-align: middle;\n",
       "    }\n",
       "\n",
       "    .dataframe tbody tr th {\n",
       "        vertical-align: top;\n",
       "    }\n",
       "\n",
       "    .dataframe thead th {\n",
       "        text-align: right;\n",
       "    }\n",
       "</style>\n",
       "<table border=\"1\" class=\"dataframe\">\n",
       "  <thead>\n",
       "    <tr style=\"text-align: right;\">\n",
       "      <th></th>\n",
       "      <th>avl_dp_IncidentNumber</th>\n",
       "      <th>avl_dp_UnitID</th>\n",
       "      <th>avl_dp_Timestamp</th>\n",
       "      <th>avl_dp_UnitStatus</th>\n",
       "      <th>avl_dp_Speed</th>\n",
       "      <th>avl_dp_FullKey</th>\n",
       "      <th>avl_er_IncidentNumber</th>\n",
       "      <th>avl_er_UnitID</th>\n",
       "      <th>avl_er_Timestamp</th>\n",
       "      <th>avl_er_UnitStatus</th>\n",
       "      <th>avl_er_Speed</th>\n",
       "      <th>avl_er_FullKey</th>\n",
       "      <th>avl_Timestamp_Turnout</th>\n",
       "    </tr>\n",
       "  </thead>\n",
       "  <tbody>\n",
       "    <tr>\n",
       "      <th>14726</th>\n",
       "      <td>E170333099</td>\n",
       "      <td>R419</td>\n",
       "      <td>2017-02-14 02:37:33</td>\n",
       "      <td>DP</td>\n",
       "      <td>not moving</td>\n",
       "      <td>E170333099R419</td>\n",
       "      <td>E170333099</td>\n",
       "      <td>R419</td>\n",
       "      <td>2017-02-02 21:12:46</td>\n",
       "      <td>ER</td>\n",
       "      <td>moving</td>\n",
       "      <td>E170333099R419</td>\n",
       "      <td>11 days 05:24:47</td>\n",
       "    </tr>\n",
       "  </tbody>\n",
       "</table>\n",
       "</div>"
      ],
      "text/plain": [
       "      avl_dp_IncidentNumber avl_dp_UnitID    avl_dp_Timestamp  \\\n",
       "14726            E170333099          R419 2017-02-14 02:37:33   \n",
       "\n",
       "      avl_dp_UnitStatus avl_dp_Speed  avl_dp_FullKey avl_er_IncidentNumber  \\\n",
       "14726                DP   not moving  E170333099R419            E170333099   \n",
       "\n",
       "      avl_er_UnitID    avl_er_Timestamp avl_er_UnitStatus avl_er_Speed  \\\n",
       "14726          R419 2017-02-02 21:12:46                ER       moving   \n",
       "\n",
       "       avl_er_FullKey avl_Timestamp_Turnout  \n",
       "14726  E170333099R419      11 days 05:24:47  "
      ]
     },
     "execution_count": 131,
     "metadata": {},
     "output_type": "execute_result"
    }
   ],
   "source": [
    "df_avl[df_avl['avl_Timestamp_Turnout'].isin(['11 days 05:24:47'])]"
   ]
  },
  {
   "cell_type": "code",
   "execution_count": 132,
   "id": "97bdb329",
   "metadata": {},
   "outputs": [],
   "source": [
    "cad_SORT = cad.sort_values('CAD_Timestamp').groupby(['CAD_IncidentNumber','CAD_UnitID','CAD_UnitStatus'])['CAD_Timestamp'].agg(['first'])"
   ]
  },
  {
   "cell_type": "code",
   "execution_count": 133,
   "id": "8313647a",
   "metadata": {},
   "outputs": [
    {
     "data": {
      "text/html": [
       "<div>\n",
       "<style scoped>\n",
       "    .dataframe tbody tr th:only-of-type {\n",
       "        vertical-align: middle;\n",
       "    }\n",
       "\n",
       "    .dataframe tbody tr th {\n",
       "        vertical-align: top;\n",
       "    }\n",
       "\n",
       "    .dataframe thead th {\n",
       "        text-align: right;\n",
       "    }\n",
       "</style>\n",
       "<table border=\"1\" class=\"dataframe\">\n",
       "  <thead>\n",
       "    <tr style=\"text-align: right;\">\n",
       "      <th></th>\n",
       "      <th>cad_dp_IncidentNumber</th>\n",
       "      <th>cad_dp_UnitID</th>\n",
       "      <th>cad_dp_Timestamp</th>\n",
       "      <th>cad_dp_UnitStatus</th>\n",
       "      <th>cad_dp_FullKey</th>\n",
       "      <th>cad_er_IncidentNumber</th>\n",
       "      <th>cad_er_UnitID</th>\n",
       "      <th>cad_er_Timestamp</th>\n",
       "      <th>cad_er_UnitStatus</th>\n",
       "      <th>cad_er_FullKey</th>\n",
       "      <th>cad_Timestamp_Turnout</th>\n",
       "    </tr>\n",
       "  </thead>\n",
       "  <tbody>\n",
       "    <tr>\n",
       "      <th>0</th>\n",
       "      <td>E200890111</td>\n",
       "      <td>E430</td>\n",
       "      <td>2020-03-29 01:35:54</td>\n",
       "      <td>DP</td>\n",
       "      <td>E200890111E430</td>\n",
       "      <td>E200890111</td>\n",
       "      <td>E430</td>\n",
       "      <td>2020-03-29 01:37:33</td>\n",
       "      <td>ER</td>\n",
       "      <td>E200890111E430</td>\n",
       "      <td>0 days 00:01:39</td>\n",
       "    </tr>\n",
       "    <tr>\n",
       "      <th>1</th>\n",
       "      <td>E182263037</td>\n",
       "      <td>M414</td>\n",
       "      <td>2018-08-14 22:39:08</td>\n",
       "      <td>DP</td>\n",
       "      <td>E182263037M414</td>\n",
       "      <td>E182263037</td>\n",
       "      <td>M414</td>\n",
       "      <td>2018-08-14 22:40:21</td>\n",
       "      <td>ER</td>\n",
       "      <td>E182263037M414</td>\n",
       "      <td>0 days 00:01:13</td>\n",
       "    </tr>\n",
       "    <tr>\n",
       "      <th>2</th>\n",
       "      <td>E191072366</td>\n",
       "      <td>E405</td>\n",
       "      <td>2019-04-17 19:23:23</td>\n",
       "      <td>DP</td>\n",
       "      <td>E191072366E405</td>\n",
       "      <td>E191072366</td>\n",
       "      <td>E405</td>\n",
       "      <td>2019-04-17 19:24:22</td>\n",
       "      <td>ER</td>\n",
       "      <td>E191072366E405</td>\n",
       "      <td>0 days 00:00:59</td>\n",
       "    </tr>\n",
       "    <tr>\n",
       "      <th>3</th>\n",
       "      <td>E172781213</td>\n",
       "      <td>E405</td>\n",
       "      <td>2017-10-05 10:27:15</td>\n",
       "      <td>DP</td>\n",
       "      <td>E172781213E405</td>\n",
       "      <td>E172781213</td>\n",
       "      <td>E405</td>\n",
       "      <td>2017-10-05 10:28:13</td>\n",
       "      <td>ER</td>\n",
       "      <td>E172781213E405</td>\n",
       "      <td>0 days 00:00:58</td>\n",
       "    </tr>\n",
       "    <tr>\n",
       "      <th>4</th>\n",
       "      <td>E202371418</td>\n",
       "      <td>E421</td>\n",
       "      <td>2020-08-24 14:28:10</td>\n",
       "      <td>DP</td>\n",
       "      <td>E202371418E421</td>\n",
       "      <td>E202371418</td>\n",
       "      <td>E421</td>\n",
       "      <td>2020-08-24 14:28:37</td>\n",
       "      <td>ER</td>\n",
       "      <td>E202371418E421</td>\n",
       "      <td>0 days 00:00:27</td>\n",
       "    </tr>\n",
       "    <tr>\n",
       "      <th>...</th>\n",
       "      <td>...</td>\n",
       "      <td>...</td>\n",
       "      <td>...</td>\n",
       "      <td>...</td>\n",
       "      <td>...</td>\n",
       "      <td>...</td>\n",
       "      <td>...</td>\n",
       "      <td>...</td>\n",
       "      <td>...</td>\n",
       "      <td>...</td>\n",
       "      <td>...</td>\n",
       "    </tr>\n",
       "    <tr>\n",
       "      <th>822371</th>\n",
       "      <td>E192481812</td>\n",
       "      <td>M411B</td>\n",
       "      <td>2019-09-05 13:34:08</td>\n",
       "      <td>DP</td>\n",
       "      <td>E192481812M411B</td>\n",
       "      <td>E192481812</td>\n",
       "      <td>M411B</td>\n",
       "      <td>2019-09-05 13:35:05</td>\n",
       "      <td>ER</td>\n",
       "      <td>E192481812M411B</td>\n",
       "      <td>0 days 00:00:57</td>\n",
       "    </tr>\n",
       "    <tr>\n",
       "      <th>822372</th>\n",
       "      <td>E201811823</td>\n",
       "      <td>M402</td>\n",
       "      <td>2020-06-29 17:25:12</td>\n",
       "      <td>DP</td>\n",
       "      <td>E201811823M402</td>\n",
       "      <td>E201811823</td>\n",
       "      <td>M402</td>\n",
       "      <td>2020-06-29 17:26:00</td>\n",
       "      <td>ER</td>\n",
       "      <td>E201811823M402</td>\n",
       "      <td>0 days 00:00:48</td>\n",
       "    </tr>\n",
       "    <tr>\n",
       "      <th>822373</th>\n",
       "      <td>E173070886</td>\n",
       "      <td>E402</td>\n",
       "      <td>2017-11-03 08:24:23</td>\n",
       "      <td>DP</td>\n",
       "      <td>E173070886E402</td>\n",
       "      <td>E173070886</td>\n",
       "      <td>E402</td>\n",
       "      <td>2017-11-03 08:25:36</td>\n",
       "      <td>ER</td>\n",
       "      <td>E173070886E402</td>\n",
       "      <td>0 days 00:01:13</td>\n",
       "    </tr>\n",
       "    <tr>\n",
       "      <th>822374</th>\n",
       "      <td>E193442345</td>\n",
       "      <td>M438</td>\n",
       "      <td>2019-12-10 17:11:34</td>\n",
       "      <td>DP</td>\n",
       "      <td>E193442345M438</td>\n",
       "      <td>E193442345</td>\n",
       "      <td>M438</td>\n",
       "      <td>2019-12-10 17:11:38</td>\n",
       "      <td>ER</td>\n",
       "      <td>E193442345M438</td>\n",
       "      <td>0 days 00:00:04</td>\n",
       "    </tr>\n",
       "    <tr>\n",
       "      <th>822375</th>\n",
       "      <td>E180550922</td>\n",
       "      <td>T411</td>\n",
       "      <td>2018-02-24 11:44:09</td>\n",
       "      <td>DP</td>\n",
       "      <td>E180550922T411</td>\n",
       "      <td>E180550922</td>\n",
       "      <td>T411</td>\n",
       "      <td>2018-02-24 11:44:49</td>\n",
       "      <td>ER</td>\n",
       "      <td>E180550922T411</td>\n",
       "      <td>0 days 00:00:40</td>\n",
       "    </tr>\n",
       "  </tbody>\n",
       "</table>\n",
       "<p>822376 rows × 11 columns</p>\n",
       "</div>"
      ],
      "text/plain": [
       "       cad_dp_IncidentNumber cad_dp_UnitID    cad_dp_Timestamp  \\\n",
       "0                 E200890111          E430 2020-03-29 01:35:54   \n",
       "1                 E182263037          M414 2018-08-14 22:39:08   \n",
       "2                 E191072366          E405 2019-04-17 19:23:23   \n",
       "3                 E172781213          E405 2017-10-05 10:27:15   \n",
       "4                 E202371418          E421 2020-08-24 14:28:10   \n",
       "...                      ...           ...                 ...   \n",
       "822371            E192481812         M411B 2019-09-05 13:34:08   \n",
       "822372            E201811823          M402 2020-06-29 17:25:12   \n",
       "822373            E173070886          E402 2017-11-03 08:24:23   \n",
       "822374            E193442345          M438 2019-12-10 17:11:34   \n",
       "822375            E180550922          T411 2018-02-24 11:44:09   \n",
       "\n",
       "       cad_dp_UnitStatus   cad_dp_FullKey cad_er_IncidentNumber cad_er_UnitID  \\\n",
       "0                     DP   E200890111E430            E200890111          E430   \n",
       "1                     DP   E182263037M414            E182263037          M414   \n",
       "2                     DP   E191072366E405            E191072366          E405   \n",
       "3                     DP   E172781213E405            E172781213          E405   \n",
       "4                     DP   E202371418E421            E202371418          E421   \n",
       "...                  ...              ...                   ...           ...   \n",
       "822371                DP  E192481812M411B            E192481812         M411B   \n",
       "822372                DP   E201811823M402            E201811823          M402   \n",
       "822373                DP   E173070886E402            E173070886          E402   \n",
       "822374                DP   E193442345M438            E193442345          M438   \n",
       "822375                DP   E180550922T411            E180550922          T411   \n",
       "\n",
       "          cad_er_Timestamp cad_er_UnitStatus   cad_er_FullKey  \\\n",
       "0      2020-03-29 01:37:33                ER   E200890111E430   \n",
       "1      2018-08-14 22:40:21                ER   E182263037M414   \n",
       "2      2019-04-17 19:24:22                ER   E191072366E405   \n",
       "3      2017-10-05 10:28:13                ER   E172781213E405   \n",
       "4      2020-08-24 14:28:37                ER   E202371418E421   \n",
       "...                    ...               ...              ...   \n",
       "822371 2019-09-05 13:35:05                ER  E192481812M411B   \n",
       "822372 2020-06-29 17:26:00                ER   E201811823M402   \n",
       "822373 2017-11-03 08:25:36                ER   E173070886E402   \n",
       "822374 2019-12-10 17:11:38                ER   E193442345M438   \n",
       "822375 2018-02-24 11:44:49                ER   E180550922T411   \n",
       "\n",
       "       cad_Timestamp_Turnout  \n",
       "0            0 days 00:01:39  \n",
       "1            0 days 00:01:13  \n",
       "2            0 days 00:00:59  \n",
       "3            0 days 00:00:58  \n",
       "4            0 days 00:00:27  \n",
       "...                      ...  \n",
       "822371       0 days 00:00:57  \n",
       "822372       0 days 00:00:48  \n",
       "822373       0 days 00:01:13  \n",
       "822374       0 days 00:00:04  \n",
       "822375       0 days 00:00:40  \n",
       "\n",
       "[822376 rows x 11 columns]"
      ]
     },
     "execution_count": 133,
     "metadata": {},
     "output_type": "execute_result"
    }
   ],
   "source": [
    "df_cad"
   ]
  },
  {
   "cell_type": "code",
   "execution_count": 138,
   "id": "3782b309",
   "metadata": {},
   "outputs": [],
   "source": [
    "df_ALL = df_avl.merge(df_cad, \n",
    "               how = 'inner', \n",
    "               left_on = ['avl_er_FullKey'],\n",
    "               right_on = ['cad_er_FullKey'],\n",
    "               suffixes = ('avl_er', 'cad_er'))"
   ]
  },
  {
   "cell_type": "code",
   "execution_count": 142,
   "id": "ef193adf",
   "metadata": {},
   "outputs": [
    {
     "name": "stdout",
     "output_type": "stream",
     "text": [
      "<class 'pandas.core.frame.DataFrame'>\n",
      "Int64Index: 44415 entries, 0 to 44414\n",
      "Data columns (total 25 columns):\n",
      " #   Column                 Non-Null Count  Dtype          \n",
      "---  ------                 --------------  -----          \n",
      " 0   avl_dp_IncidentNumber  44415 non-null  object         \n",
      " 1   avl_dp_UnitID          44415 non-null  object         \n",
      " 2   avl_dp_Timestamp       44415 non-null  datetime64[ns] \n",
      " 3   avl_dp_UnitStatus      44415 non-null  object         \n",
      " 4   avl_dp_Speed           44415 non-null  object         \n",
      " 5   avl_dp_FullKey         44415 non-null  object         \n",
      " 6   avl_er_IncidentNumber  44415 non-null  object         \n",
      " 7   avl_er_UnitID          44415 non-null  object         \n",
      " 8   avl_er_Timestamp       44415 non-null  datetime64[ns] \n",
      " 9   avl_er_UnitStatus      44415 non-null  object         \n",
      " 10  avl_er_Speed           44415 non-null  object         \n",
      " 11  avl_er_FullKey         44415 non-null  object         \n",
      " 12  avl_Timestamp_Turnout  44415 non-null  timedelta64[ns]\n",
      " 13  cad_dp_IncidentNumber  44415 non-null  object         \n",
      " 14  cad_dp_UnitID          44415 non-null  object         \n",
      " 15  cad_dp_Timestamp       44415 non-null  datetime64[ns] \n",
      " 16  cad_dp_UnitStatus      44415 non-null  object         \n",
      " 17  cad_dp_FullKey         44415 non-null  object         \n",
      " 18  cad_er_IncidentNumber  44415 non-null  object         \n",
      " 19  cad_er_UnitID          44415 non-null  object         \n",
      " 20  cad_er_Timestamp       44415 non-null  datetime64[ns] \n",
      " 21  cad_er_UnitStatus      44415 non-null  object         \n",
      " 22  cad_er_FullKey         44415 non-null  object         \n",
      " 23  cad_Timestamp_Turnout  44415 non-null  timedelta64[ns]\n",
      " 24  CAD_vs_AVL_Turnout     44415 non-null  timedelta64[ns]\n",
      "dtypes: datetime64[ns](4), object(18), timedelta64[ns](3)\n",
      "memory usage: 8.8+ MB\n"
     ]
    }
   ],
   "source": [
    "df_ALL.info()"
   ]
  },
  {
   "cell_type": "code",
   "execution_count": 141,
   "id": "e68f997f",
   "metadata": {},
   "outputs": [],
   "source": [
    "df_ALL['CAD_vs_AVL_Turnout'] = abs(df_ALL['avl_Timestamp_Turnout'] - df_ALL['cad_Timestamp_Turnout'])"
   ]
  },
  {
   "cell_type": "code",
   "execution_count": 143,
   "id": "14459219",
   "metadata": {},
   "outputs": [
    {
     "data": {
      "text/plain": [
       "Timedelta('0 days 00:02:45.606326691')"
      ]
     },
     "execution_count": 143,
     "metadata": {},
     "output_type": "execute_result"
    }
   ],
   "source": [
    "df_ALL['CAD_vs_AVL_Turnout'].mean()"
   ]
  },
  {
   "cell_type": "code",
   "execution_count": 147,
   "id": "3df5947f",
   "metadata": {},
   "outputs": [
    {
     "data": {
      "text/plain": [
       "Timedelta('0 days 00:00:00')"
      ]
     },
     "execution_count": 147,
     "metadata": {},
     "output_type": "execute_result"
    }
   ],
   "source": [
    "df_ALL['CAD_vs_AVL_Turnout'].min()"
   ]
  },
  {
   "cell_type": "code",
   "execution_count": 150,
   "id": "f8302199",
   "metadata": {},
   "outputs": [],
   "source": [
    "equal = df_ALL[df_ALL['CAD_vs_AVL_Turnout'].isin(['0 days 00:00:00'])]"
   ]
  },
  {
   "cell_type": "code",
   "execution_count": 154,
   "id": "78d9d902",
   "metadata": {},
   "outputs": [
    {
     "data": {
      "text/plain": [
       "0.010446921085218958"
      ]
     },
     "execution_count": 154,
     "metadata": {},
     "output_type": "execute_result"
    }
   ],
   "source": [
    "464/(44415)"
   ]
  },
  {
   "cell_type": "code",
   "execution_count": 155,
   "id": "0e1fa40f",
   "metadata": {},
   "outputs": [],
   "source": [
    "dfALL_CADless60 = df_ALL[df_ALL['cad_Timestamp_Turnout'].dt.total_seconds() <= 60]"
   ]
  },
  {
   "cell_type": "code",
   "execution_count": 156,
   "id": "c9a954f0",
   "metadata": {},
   "outputs": [
    {
     "name": "stdout",
     "output_type": "stream",
     "text": [
      "<class 'pandas.core.frame.DataFrame'>\n",
      "Int64Index: 23997 entries, 2 to 44412\n",
      "Data columns (total 25 columns):\n",
      " #   Column                 Non-Null Count  Dtype          \n",
      "---  ------                 --------------  -----          \n",
      " 0   avl_dp_IncidentNumber  23997 non-null  object         \n",
      " 1   avl_dp_UnitID          23997 non-null  object         \n",
      " 2   avl_dp_Timestamp       23997 non-null  datetime64[ns] \n",
      " 3   avl_dp_UnitStatus      23997 non-null  object         \n",
      " 4   avl_dp_Speed           23997 non-null  object         \n",
      " 5   avl_dp_FullKey         23997 non-null  object         \n",
      " 6   avl_er_IncidentNumber  23997 non-null  object         \n",
      " 7   avl_er_UnitID          23997 non-null  object         \n",
      " 8   avl_er_Timestamp       23997 non-null  datetime64[ns] \n",
      " 9   avl_er_UnitStatus      23997 non-null  object         \n",
      " 10  avl_er_Speed           23997 non-null  object         \n",
      " 11  avl_er_FullKey         23997 non-null  object         \n",
      " 12  avl_Timestamp_Turnout  23997 non-null  timedelta64[ns]\n",
      " 13  cad_dp_IncidentNumber  23997 non-null  object         \n",
      " 14  cad_dp_UnitID          23997 non-null  object         \n",
      " 15  cad_dp_Timestamp       23997 non-null  datetime64[ns] \n",
      " 16  cad_dp_UnitStatus      23997 non-null  object         \n",
      " 17  cad_dp_FullKey         23997 non-null  object         \n",
      " 18  cad_er_IncidentNumber  23997 non-null  object         \n",
      " 19  cad_er_UnitID          23997 non-null  object         \n",
      " 20  cad_er_Timestamp       23997 non-null  datetime64[ns] \n",
      " 21  cad_er_UnitStatus      23997 non-null  object         \n",
      " 22  cad_er_FullKey         23997 non-null  object         \n",
      " 23  cad_Timestamp_Turnout  23997 non-null  timedelta64[ns]\n",
      " 24  CAD_vs_AVL_Turnout     23997 non-null  timedelta64[ns]\n",
      "dtypes: datetime64[ns](4), object(18), timedelta64[ns](3)\n",
      "memory usage: 4.8+ MB\n"
     ]
    }
   ],
   "source": [
    "dfALL_CADless60.info()"
   ]
  },
  {
   "cell_type": "code",
   "execution_count": 157,
   "id": "fb93de6e",
   "metadata": {},
   "outputs": [],
   "source": [
    "dfALL_AVLless60 = df_ALL[df_ALL['avl_Timestamp_Turnout'].dt.total_seconds() <= 60]"
   ]
  },
  {
   "cell_type": "code",
   "execution_count": 158,
   "id": "873b3182",
   "metadata": {},
   "outputs": [
    {
     "name": "stdout",
     "output_type": "stream",
     "text": [
      "<class 'pandas.core.frame.DataFrame'>\n",
      "Int64Index: 23056 entries, 0 to 44413\n",
      "Data columns (total 25 columns):\n",
      " #   Column                 Non-Null Count  Dtype          \n",
      "---  ------                 --------------  -----          \n",
      " 0   avl_dp_IncidentNumber  23056 non-null  object         \n",
      " 1   avl_dp_UnitID          23056 non-null  object         \n",
      " 2   avl_dp_Timestamp       23056 non-null  datetime64[ns] \n",
      " 3   avl_dp_UnitStatus      23056 non-null  object         \n",
      " 4   avl_dp_Speed           23056 non-null  object         \n",
      " 5   avl_dp_FullKey         23056 non-null  object         \n",
      " 6   avl_er_IncidentNumber  23056 non-null  object         \n",
      " 7   avl_er_UnitID          23056 non-null  object         \n",
      " 8   avl_er_Timestamp       23056 non-null  datetime64[ns] \n",
      " 9   avl_er_UnitStatus      23056 non-null  object         \n",
      " 10  avl_er_Speed           23056 non-null  object         \n",
      " 11  avl_er_FullKey         23056 non-null  object         \n",
      " 12  avl_Timestamp_Turnout  23056 non-null  timedelta64[ns]\n",
      " 13  cad_dp_IncidentNumber  23056 non-null  object         \n",
      " 14  cad_dp_UnitID          23056 non-null  object         \n",
      " 15  cad_dp_Timestamp       23056 non-null  datetime64[ns] \n",
      " 16  cad_dp_UnitStatus      23056 non-null  object         \n",
      " 17  cad_dp_FullKey         23056 non-null  object         \n",
      " 18  cad_er_IncidentNumber  23056 non-null  object         \n",
      " 19  cad_er_UnitID          23056 non-null  object         \n",
      " 20  cad_er_Timestamp       23056 non-null  datetime64[ns] \n",
      " 21  cad_er_UnitStatus      23056 non-null  object         \n",
      " 22  cad_er_FullKey         23056 non-null  object         \n",
      " 23  cad_Timestamp_Turnout  23056 non-null  timedelta64[ns]\n",
      " 24  CAD_vs_AVL_Turnout     23056 non-null  timedelta64[ns]\n",
      "dtypes: datetime64[ns](4), object(18), timedelta64[ns](3)\n",
      "memory usage: 4.6+ MB\n"
     ]
    }
   ],
   "source": [
    "dfALL_AVLless60.info()"
   ]
  },
  {
   "cell_type": "code",
   "execution_count": 160,
   "id": "b607aa2b",
   "metadata": {},
   "outputs": [
    {
     "name": "stdout",
     "output_type": "stream",
     "text": [
      "<class 'pandas.core.frame.DataFrame'>\n",
      "Int64Index: 35106 entries, 1 to 44414\n",
      "Data columns (total 25 columns):\n",
      " #   Column                 Non-Null Count  Dtype          \n",
      "---  ------                 --------------  -----          \n",
      " 0   avl_dp_IncidentNumber  35106 non-null  object         \n",
      " 1   avl_dp_UnitID          35106 non-null  object         \n",
      " 2   avl_dp_Timestamp       35106 non-null  datetime64[ns] \n",
      " 3   avl_dp_UnitStatus      35106 non-null  object         \n",
      " 4   avl_dp_Speed           35106 non-null  object         \n",
      " 5   avl_dp_FullKey         35106 non-null  object         \n",
      " 6   avl_er_IncidentNumber  35106 non-null  object         \n",
      " 7   avl_er_UnitID          35106 non-null  object         \n",
      " 8   avl_er_Timestamp       35106 non-null  datetime64[ns] \n",
      " 9   avl_er_UnitStatus      35106 non-null  object         \n",
      " 10  avl_er_Speed           35106 non-null  object         \n",
      " 11  avl_er_FullKey         35106 non-null  object         \n",
      " 12  avl_Timestamp_Turnout  35106 non-null  timedelta64[ns]\n",
      " 13  cad_dp_IncidentNumber  35106 non-null  object         \n",
      " 14  cad_dp_UnitID          35106 non-null  object         \n",
      " 15  cad_dp_Timestamp       35106 non-null  datetime64[ns] \n",
      " 16  cad_dp_UnitStatus      35106 non-null  object         \n",
      " 17  cad_dp_FullKey         35106 non-null  object         \n",
      " 18  cad_er_IncidentNumber  35106 non-null  object         \n",
      " 19  cad_er_UnitID          35106 non-null  object         \n",
      " 20  cad_er_Timestamp       35106 non-null  datetime64[ns] \n",
      " 21  cad_er_UnitStatus      35106 non-null  object         \n",
      " 22  cad_er_FullKey         35106 non-null  object         \n",
      " 23  cad_Timestamp_Turnout  35106 non-null  timedelta64[ns]\n",
      " 24  CAD_vs_AVL_Turnout     35106 non-null  timedelta64[ns]\n",
      "dtypes: datetime64[ns](4), object(18), timedelta64[ns](3)\n",
      "memory usage: 7.0+ MB\n"
     ]
    }
   ],
   "source": [
    "dfALL_less60 = df_ALL[df_ALL['CAD_vs_AVL_Turnout'].dt.total_seconds() <= 60]\n",
    "dfALL_less60.info()"
   ]
  },
  {
   "cell_type": "code",
   "execution_count": 161,
   "id": "c4a48a4e",
   "metadata": {},
   "outputs": [
    {
     "name": "stdout",
     "output_type": "stream",
     "text": [
      "<class 'pandas.core.frame.DataFrame'>\n",
      "Int64Index: 24034 entries, 1 to 44414\n",
      "Data columns (total 25 columns):\n",
      " #   Column                 Non-Null Count  Dtype          \n",
      "---  ------                 --------------  -----          \n",
      " 0   avl_dp_IncidentNumber  24034 non-null  object         \n",
      " 1   avl_dp_UnitID          24034 non-null  object         \n",
      " 2   avl_dp_Timestamp       24034 non-null  datetime64[ns] \n",
      " 3   avl_dp_UnitStatus      24034 non-null  object         \n",
      " 4   avl_dp_Speed           24034 non-null  object         \n",
      " 5   avl_dp_FullKey         24034 non-null  object         \n",
      " 6   avl_er_IncidentNumber  24034 non-null  object         \n",
      " 7   avl_er_UnitID          24034 non-null  object         \n",
      " 8   avl_er_Timestamp       24034 non-null  datetime64[ns] \n",
      " 9   avl_er_UnitStatus      24034 non-null  object         \n",
      " 10  avl_er_Speed           24034 non-null  object         \n",
      " 11  avl_er_FullKey         24034 non-null  object         \n",
      " 12  avl_Timestamp_Turnout  24034 non-null  timedelta64[ns]\n",
      " 13  cad_dp_IncidentNumber  24034 non-null  object         \n",
      " 14  cad_dp_UnitID          24034 non-null  object         \n",
      " 15  cad_dp_Timestamp       24034 non-null  datetime64[ns] \n",
      " 16  cad_dp_UnitStatus      24034 non-null  object         \n",
      " 17  cad_dp_FullKey         24034 non-null  object         \n",
      " 18  cad_er_IncidentNumber  24034 non-null  object         \n",
      " 19  cad_er_UnitID          24034 non-null  object         \n",
      " 20  cad_er_Timestamp       24034 non-null  datetime64[ns] \n",
      " 21  cad_er_UnitStatus      24034 non-null  object         \n",
      " 22  cad_er_FullKey         24034 non-null  object         \n",
      " 23  cad_Timestamp_Turnout  24034 non-null  timedelta64[ns]\n",
      " 24  CAD_vs_AVL_Turnout     24034 non-null  timedelta64[ns]\n",
      "dtypes: datetime64[ns](4), object(18), timedelta64[ns](3)\n",
      "memory usage: 4.8+ MB\n"
     ]
    }
   ],
   "source": [
    "dfALL_less30 = df_ALL[df_ALL['CAD_vs_AVL_Turnout'].dt.total_seconds() <= 30]\n",
    "dfALL_less30.info()"
   ]
  },
  {
   "cell_type": "code",
   "execution_count": 164,
   "id": "ca5e0750",
   "metadata": {},
   "outputs": [
    {
     "name": "stdout",
     "output_type": "stream",
     "text": [
      "<class 'pandas.core.frame.DataFrame'>\n",
      "Int64Index: 1342 entries, 56 to 44397\n",
      "Data columns (total 25 columns):\n",
      " #   Column                 Non-Null Count  Dtype          \n",
      "---  ------                 --------------  -----          \n",
      " 0   avl_dp_IncidentNumber  1342 non-null   object         \n",
      " 1   avl_dp_UnitID          1342 non-null   object         \n",
      " 2   avl_dp_Timestamp       1342 non-null   datetime64[ns] \n",
      " 3   avl_dp_UnitStatus      1342 non-null   object         \n",
      " 4   avl_dp_Speed           1342 non-null   object         \n",
      " 5   avl_dp_FullKey         1342 non-null   object         \n",
      " 6   avl_er_IncidentNumber  1342 non-null   object         \n",
      " 7   avl_er_UnitID          1342 non-null   object         \n",
      " 8   avl_er_Timestamp       1342 non-null   datetime64[ns] \n",
      " 9   avl_er_UnitStatus      1342 non-null   object         \n",
      " 10  avl_er_Speed           1342 non-null   object         \n",
      " 11  avl_er_FullKey         1342 non-null   object         \n",
      " 12  avl_Timestamp_Turnout  1342 non-null   timedelta64[ns]\n",
      " 13  cad_dp_IncidentNumber  1342 non-null   object         \n",
      " 14  cad_dp_UnitID          1342 non-null   object         \n",
      " 15  cad_dp_Timestamp       1342 non-null   datetime64[ns] \n",
      " 16  cad_dp_UnitStatus      1342 non-null   object         \n",
      " 17  cad_dp_FullKey         1342 non-null   object         \n",
      " 18  cad_er_IncidentNumber  1342 non-null   object         \n",
      " 19  cad_er_UnitID          1342 non-null   object         \n",
      " 20  cad_er_Timestamp       1342 non-null   datetime64[ns] \n",
      " 21  cad_er_UnitStatus      1342 non-null   object         \n",
      " 22  cad_er_FullKey         1342 non-null   object         \n",
      " 23  cad_Timestamp_Turnout  1342 non-null   timedelta64[ns]\n",
      " 24  CAD_vs_AVL_Turnout     1342 non-null   timedelta64[ns]\n",
      "dtypes: datetime64[ns](4), object(18), timedelta64[ns](3)\n",
      "memory usage: 272.6+ KB\n"
     ]
    }
   ],
   "source": [
    "dfALL_less1 = df_ALL[df_ALL['CAD_vs_AVL_Turnout'].dt.total_seconds() <= 1]\n",
    "dfALL_less1.info()"
   ]
  }
 ],
 "metadata": {
  "kernelspec": {
   "display_name": "Python 3",
   "language": "python",
   "name": "python3"
  },
  "language_info": {
   "codemirror_mode": {
    "name": "ipython",
    "version": 3
   },
   "file_extension": ".py",
   "mimetype": "text/x-python",
   "name": "python",
   "nbconvert_exporter": "python",
   "pygments_lexer": "ipython3",
   "version": "3.8.8"
  }
 },
 "nbformat": 4,
 "nbformat_minor": 5
}
