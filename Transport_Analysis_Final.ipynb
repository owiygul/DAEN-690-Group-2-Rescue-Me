{
 "cells": [
  {
   "cell_type": "code",
   "execution_count": 1,
   "id": "799660db",
   "metadata": {},
   "outputs": [],
   "source": [
    "import pandas as pd\n",
    "import numpy as np\n",
    "from datetime import datetime"
   ]
  },
  {
   "cell_type": "code",
   "execution_count": 2,
   "id": "6714745f",
   "metadata": {},
   "outputs": [
    {
     "data": {
      "text/plain": [
       "AVL_IncidentNumber    0\n",
       "AVL_UnitID            0\n",
       "AVL_Timestamp         0\n",
       "AVL_UnitStatus        0\n",
       "AVL_Speed             0\n",
       "dtype: int64"
      ]
     },
     "execution_count": 2,
     "metadata": {},
     "output_type": "execute_result"
    }
   ],
   "source": [
    "cad = pd.read_csv('GMU_2021_Summer_CAD.csv')\n",
    "avl = pd.read_csv('GMU_2021_Summer_AVL.csv')\n",
    "avl.columns = ['AVL_IncidentNumber',\n",
    "               'AVL_UnitID',\n",
    "               'AVL_Timestamp',\n",
    "               'AVL_UnitStatus',\n",
    "               'AVL_Speed']\n",
    "avl.dropna(subset = ['AVL_IncidentNumber'],\n",
    "           inplace = True)\n",
    "avl.reset_index(inplace = True, drop = True)\n",
    "avl.isna().sum()"
   ]
  },
  {
   "cell_type": "code",
   "execution_count": 3,
   "id": "b93d148d",
   "metadata": {},
   "outputs": [],
   "source": [
    "# convert object to timestamp proper\n",
    "avl['AVL_Timestamp'] = avl['AVL_Timestamp'].str.replace('ED', '')\n",
    "cad['CAD_Timestamp'] = cad['CAD_Timestamp'].str.replace('ED', '')\n",
    "avl['AVL_Timestamp'] = avl['AVL_Timestamp'].str.replace('ES', '')\n",
    "cad['CAD_Timestamp'] = cad['CAD_Timestamp'].str.replace('ES', '')\n",
    "avl['AVL_Timestamp'] = pd.to_datetime(avl['AVL_Timestamp'], format = '%Y%m%d%H%M%S')\n",
    "cad['CAD_Timestamp'] = pd.to_datetime(cad['CAD_Timestamp'], format = '%Y%m%d%H%M%S')"
   ]
  },
  {
   "cell_type": "code",
   "execution_count": 4,
   "id": "3b970f86",
   "metadata": {},
   "outputs": [],
   "source": [
    "#Create separate data sets of TA and TR to then be joined to to form \"TransportTime\" entry\n",
    "cad_ta = cad[cad['CAD_UnitStatus'].isin(['TA'])]\n",
    "cad_tr= cad[cad['CAD_UnitStatus'].isin(['TR'])]\n",
    "avl_ta = avl[avl['AVL_UnitStatus'].isin(['TA'])]\n",
    "avl_tr= avl[avl['AVL_UnitStatus'].isin(['TR'])]"
   ]
  },
  {
   "cell_type": "code",
   "execution_count": 5,
   "id": "288e33b9",
   "metadata": {},
   "outputs": [],
   "source": [
    "cad_ta=cad_ta.rename(columns={\"CAD_IncidentNumber\":\"cad_ta_IncidentNumber\",\"CAD_UnitID\":\"cad_ta_UnitID\",\"CAD_Timestamp\":\"cad_ta_Timestamp\", \"CAD_UnitStatus\":\"cad_ta_UnitStatus\"})\n",
    "cad_tr=cad_tr.rename(columns={\"CAD_IncidentNumber\":\"cad_tr_IncidentNumber\",\"CAD_UnitID\":\"cad_tr_UnitID\",\"CAD_Timestamp\":\"cad_tr_Timestamp\", \"CAD_UnitStatus\":\"cad_tr_UnitStatus\"})\n",
    "\n",
    "avl_ta=avl_ta.rename(columns={\"AVL_IncidentNumber\":\"avl_ta_IncidentNumber\",\"AVL_UnitID\":\"avl_ta_UnitID\",\"AVL_Timestamp\":\"avl_ta_Timestamp\", \"AVL_UnitStatus\":\"avl_ta_UnitStatus\", \"AVL_Speed\":\"avl_ta_Speed\"})\n",
    "avl_tr=avl_tr.rename(columns={\"AVL_IncidentNumber\":\"avl_tr_IncidentNumber\",\"AVL_UnitID\":\"avl_tr_UnitID\",\"AVL_Timestamp\":\"avl_tr_Timestamp\", \"AVL_UnitStatus\":\"avl_tr_UnitStatus\", \"AVL_Speed\":\"avl_tr_Speed\"})"
   ]
  },
  {
   "cell_type": "code",
   "execution_count": 6,
   "id": "bedef5f1",
   "metadata": {},
   "outputs": [],
   "source": [
    "#Create the FullKey to make sure the first time entry for the ER and DP status are being taken\n",
    "cad_ta['cad_ta_FullKey'] = cad_ta['cad_ta_IncidentNumber'].map(str) +  cad_ta['cad_ta_UnitID'].map(str)\n",
    "cad_tr['cad_tr_FullKey'] = cad_tr['cad_tr_IncidentNumber'].map(str) +  cad_tr['cad_tr_UnitID'].map(str)\n",
    "\n",
    "avl_ta['avl_ta_FullKey'] = avl_ta['avl_ta_IncidentNumber'].map(str) +  avl_ta['avl_ta_UnitID'].map(str)\n",
    "avl_tr['avl_tr_FullKey'] = avl_tr['avl_tr_IncidentNumber'].map(str) +  avl_tr['avl_tr_UnitID'].map(str)\n",
    "\n"
   ]
  },
  {
   "cell_type": "code",
   "execution_count": 7,
   "id": "8b1e9097",
   "metadata": {},
   "outputs": [],
   "source": [
    "#sort both dataframes by timestamp so when dups are removed taking the first time stamp\n",
    "cad_ta.sort_values(by='cad_ta_Timestamp', ascending=True)\n",
    "cad_tr.sort_values(by='cad_tr_Timestamp', ascending=True)\n",
    "\n",
    "avl_ta.sort_values(by='avl_ta_Timestamp', ascending=True)\n",
    "avl_tr.sort_values(by='avl_tr_Timestamp', ascending=True)\n",
    "\n",
    "#Remove duplicates from each dataframe, so each unit ID is only DP or ER to an incident once\n",
    "cad_ta_NEW = cad_ta.drop_duplicates(subset='cad_ta_FullKey', keep=\"first\", inplace=False)\n",
    "cad_tr_NEW = cad_tr.drop_duplicates(subset='cad_tr_FullKey', keep=\"first\", inplace=False)\n",
    "\n",
    "avl_ta_NEW = avl_ta.drop_duplicates(subset='avl_ta_FullKey', keep=\"first\", inplace=False)\n",
    "avl_tr_NEW = avl_tr.drop_duplicates(subset='avl_tr_FullKey', keep=\"first\", inplace=False)"
   ]
  },
  {
   "cell_type": "code",
   "execution_count": 8,
   "id": "7a7264fa",
   "metadata": {},
   "outputs": [
    {
     "name": "stdout",
     "output_type": "stream",
     "text": [
      "cad_ta_FullKey\n",
      "70018M401          1\n",
      "E192250323M441     1\n",
      "E192241788M429     1\n",
      "E192241809M408B    1\n",
      "E192241841M423     1\n",
      "                  ..\n",
      "E181162102M431     1\n",
      "E181162102M436     1\n",
      "E181162129M432     1\n",
      "E181162147M409     1\n",
      "E203662343M436     1\n",
      "Length: 213606, dtype: int64\n",
      "cad_tr_FullKey\n",
      "E163662548M404     1\n",
      "E192250212M440     1\n",
      "E192242785M414B    1\n",
      "E192242789M430     1\n",
      "E192242796M432     1\n",
      "                  ..\n",
      "E181162428M409     1\n",
      "E181162449M413     1\n",
      "E181162459M432     1\n",
      "E181162484M426     1\n",
      "E203662343M436     1\n",
      "Length: 215192, dtype: int64\n",
      "avl_ta_FullKey\n",
      "E163662437M429     1\n",
      "E192382531M425     1\n",
      "E192382360M422     1\n",
      "E192382372M421     1\n",
      "E192382401M410B    1\n",
      "                  ..\n",
      "E181100066M440     1\n",
      "E181100081M430     1\n",
      "E181100090M404     1\n",
      "E181100094M405E    1\n",
      "E203662343M436     1\n",
      "Length: 178278, dtype: int64\n",
      "avl_tr_FullKey\n",
      "E163662548M404     1\n",
      "E192221356M419     1\n",
      "E192221365M422     1\n",
      "E192221368E401     1\n",
      "E192221368M429     1\n",
      "                  ..\n",
      "E181011056M410B    1\n",
      "E181011063M442     1\n",
      "E181011097M419     1\n",
      "E181011102M409     1\n",
      "E203662343M436     1\n",
      "Length: 185215, dtype: int64\n"
     ]
    }
   ],
   "source": [
    "#For Validation confirm that there are NOT currently duplicate values\n",
    "dups_cad_ta_NEW = cad_ta_NEW.pivot_table(index = ['cad_ta_FullKey'], aggfunc ='size').sort_values(ascending=False)\n",
    "print(dups_cad_ta_NEW)\n",
    "dups_cad_tr_NEW = cad_tr_NEW.pivot_table(index = ['cad_tr_FullKey'], aggfunc ='size').sort_values(ascending=False)\n",
    "print(dups_cad_tr_NEW)\n",
    "\n",
    "dups_avl_ta_NEW = avl_ta_NEW.pivot_table(index = ['avl_ta_FullKey'], aggfunc ='size').sort_values(ascending=False)\n",
    "print(dups_avl_ta_NEW)\n",
    "dups_avl_tr_NEW = avl_tr_NEW.pivot_table(index = ['avl_tr_FullKey'], aggfunc ='size').sort_values(ascending=False)\n",
    "print(dups_avl_tr_NEW)"
   ]
  },
  {
   "cell_type": "code",
   "execution_count": 9,
   "id": "3603a2c9",
   "metadata": {},
   "outputs": [],
   "source": [
    "#join the CAD data framaes together and then the AVL dataframes together\n",
    "df_cad = cad_tr_NEW.merge(cad_ta_NEW, \n",
    "               how = 'inner', \n",
    "               left_on = ['cad_tr_IncidentNumber',\n",
    "                          'cad_tr_UnitID'],\n",
    "               right_on = ['cad_ta_IncidentNumber',\n",
    "                           'cad_ta_UnitID'],\n",
    "               suffixes = ('cad_tr', 'cad_ta'))\n",
    "\n",
    "df_avl = avl_tr_NEW.merge(avl_ta_NEW, \n",
    "               how = 'inner', \n",
    "               left_on = ['avl_tr_IncidentNumber',\n",
    "                          'avl_tr_UnitID'],\n",
    "               right_on = ['avl_ta_IncidentNumber',\n",
    "                           'avl_ta_UnitID'],\n",
    "               suffixes = ('avl_tr', 'avl_ta'))"
   ]
  },
  {
   "cell_type": "code",
   "execution_count": 10,
   "id": "83439acb",
   "metadata": {},
   "outputs": [],
   "source": [
    "# create TransportTime col in merged dataframe\n",
    "df_cad['cad_Timestamp_Transport'] = abs(df_cad['cad_ta_Timestamp'] - df_cad['cad_tr_Timestamp'])\n",
    "\n",
    "df_avl['avl_Timestamp_Transport'] = abs(df_avl['avl_ta_Timestamp'] - df_avl['avl_tr_Timestamp'])"
   ]
  },
  {
   "cell_type": "code",
   "execution_count": 11,
   "id": "a8f45233",
   "metadata": {},
   "outputs": [],
   "source": [
    "#convert the turnout time into seconds for simplier analysis (5 minutes =300)\n",
    "df_CADless5mins = df_cad[df_cad['cad_Timestamp_Transport'].dt.total_seconds() <= 300]\n",
    "df_AVLless5mins = df_avl[df_avl['avl_Timestamp_Transport'].dt.total_seconds() <= 300]"
   ]
  },
  {
   "cell_type": "code",
   "execution_count": 12,
   "id": "082212e1",
   "metadata": {},
   "outputs": [
    {
     "name": "stdout",
     "output_type": "stream",
     "text": [
      "<class 'pandas.core.frame.DataFrame'>\n",
      "Int64Index: 213598 entries, 0 to 213597\n",
      "Data columns (total 11 columns):\n",
      " #   Column                   Non-Null Count   Dtype          \n",
      "---  ------                   --------------   -----          \n",
      " 0   cad_tr_IncidentNumber    213598 non-null  object         \n",
      " 1   cad_tr_UnitID            213598 non-null  object         \n",
      " 2   cad_tr_Timestamp         213598 non-null  datetime64[ns] \n",
      " 3   cad_tr_UnitStatus        213598 non-null  object         \n",
      " 4   cad_tr_FullKey           213598 non-null  object         \n",
      " 5   cad_ta_IncidentNumber    213598 non-null  object         \n",
      " 6   cad_ta_UnitID            213598 non-null  object         \n",
      " 7   cad_ta_Timestamp         213598 non-null  datetime64[ns] \n",
      " 8   cad_ta_UnitStatus        213598 non-null  object         \n",
      " 9   cad_ta_FullKey           213598 non-null  object         \n",
      " 10  cad_Timestamp_Transport  213598 non-null  timedelta64[ns]\n",
      "dtypes: datetime64[ns](2), object(8), timedelta64[ns](1)\n",
      "memory usage: 19.6+ MB\n",
      "<class 'pandas.core.frame.DataFrame'>\n",
      "Int64Index: 22937 entries, 0 to 213584\n",
      "Data columns (total 11 columns):\n",
      " #   Column                   Non-Null Count  Dtype          \n",
      "---  ------                   --------------  -----          \n",
      " 0   cad_tr_IncidentNumber    22937 non-null  object         \n",
      " 1   cad_tr_UnitID            22937 non-null  object         \n",
      " 2   cad_tr_Timestamp         22937 non-null  datetime64[ns] \n",
      " 3   cad_tr_UnitStatus        22937 non-null  object         \n",
      " 4   cad_tr_FullKey           22937 non-null  object         \n",
      " 5   cad_ta_IncidentNumber    22937 non-null  object         \n",
      " 6   cad_ta_UnitID            22937 non-null  object         \n",
      " 7   cad_ta_Timestamp         22937 non-null  datetime64[ns] \n",
      " 8   cad_ta_UnitStatus        22937 non-null  object         \n",
      " 9   cad_ta_FullKey           22937 non-null  object         \n",
      " 10  cad_Timestamp_Transport  22937 non-null  timedelta64[ns]\n",
      "dtypes: datetime64[ns](2), object(8), timedelta64[ns](1)\n",
      "memory usage: 2.1+ MB\n"
     ]
    },
    {
     "data": {
      "text/plain": [
       "0.10738396426932836"
      ]
     },
     "execution_count": 12,
     "metadata": {},
     "output_type": "execute_result"
    }
   ],
   "source": [
    "df_cad.info()\n",
    "df_CADless5mins.info()\n",
    "22937/213598"
   ]
  },
  {
   "cell_type": "code",
   "execution_count": 13,
   "id": "56767f45",
   "metadata": {},
   "outputs": [
    {
     "name": "stdout",
     "output_type": "stream",
     "text": [
      "\n",
      "25th Percentile:  0 days 00:07:32\n",
      "\n",
      "50th Percentile:  0 days 00:11:02\n",
      "\n",
      "90th Percentile:  0 days 00:20:42\n"
     ]
    }
   ],
   "source": [
    "twentyfiveCAD = df_cad.cad_Timestamp_Transport.quantile(0.25)\n",
    "fiftyCAD = df_cad.cad_Timestamp_Transport.quantile(0.5)\n",
    "ninetyCAD = df_cad.cad_Timestamp_Transport.quantile(0.9)\n",
    "print (\"\\n25th Percentile: \", twentyfiveCAD)\n",
    "print (\"\\n50th Percentile: \", fiftyCAD)\n",
    "print (\"\\n90th Percentile: \", ninetyCAD)"
   ]
  },
  {
   "cell_type": "code",
   "execution_count": 14,
   "id": "4cbd58d8",
   "metadata": {},
   "outputs": [
    {
     "name": "stdout",
     "output_type": "stream",
     "text": [
      "\n",
      "25th Percentile:  0 days 00:12:34\n",
      "\n",
      "50th Percentile:  0 days 00:18:58\n",
      "\n",
      "90th Percentile:  0 days 00:47:42\n"
     ]
    }
   ],
   "source": [
    "twentyfiveAVL = df_avl.avl_Timestamp_Transport.quantile(0.25)\n",
    "fiftyAVL = df_avl.avl_Timestamp_Transport.quantile(0.5)\n",
    "ninetyAVL = df_avl.avl_Timestamp_Transport.quantile(0.9)\n",
    "print (\"\\n25th Percentile: \", twentyfiveAVL)\n",
    "print (\"\\n50th Percentile: \", fiftyAVL)\n",
    "print (\"\\n90th Percentile: \", ninetyAVL)"
   ]
  },
  {
   "cell_type": "code",
   "execution_count": 15,
   "id": "cd885372",
   "metadata": {},
   "outputs": [
    {
     "name": "stdout",
     "output_type": "stream",
     "text": [
      "<class 'pandas.core.frame.DataFrame'>\n",
      "Int64Index: 173494 entries, 0 to 173493\n",
      "Data columns (total 13 columns):\n",
      " #   Column                   Non-Null Count   Dtype          \n",
      "---  ------                   --------------   -----          \n",
      " 0   avl_tr_IncidentNumber    173494 non-null  object         \n",
      " 1   avl_tr_UnitID            173494 non-null  object         \n",
      " 2   avl_tr_Timestamp         173494 non-null  datetime64[ns] \n",
      " 3   avl_tr_UnitStatus        173494 non-null  object         \n",
      " 4   avl_tr_Speed             173494 non-null  object         \n",
      " 5   avl_tr_FullKey           173494 non-null  object         \n",
      " 6   avl_ta_IncidentNumber    173494 non-null  object         \n",
      " 7   avl_ta_UnitID            173494 non-null  object         \n",
      " 8   avl_ta_Timestamp         173494 non-null  datetime64[ns] \n",
      " 9   avl_ta_UnitStatus        173494 non-null  object         \n",
      " 10  avl_ta_Speed             173494 non-null  object         \n",
      " 11  avl_ta_FullKey           173494 non-null  object         \n",
      " 12  avl_Timestamp_Transport  173494 non-null  timedelta64[ns]\n",
      "dtypes: datetime64[ns](2), object(10), timedelta64[ns](1)\n",
      "memory usage: 18.5+ MB\n",
      "<class 'pandas.core.frame.DataFrame'>\n",
      "Int64Index: 6522 entries, 17 to 173493\n",
      "Data columns (total 13 columns):\n",
      " #   Column                   Non-Null Count  Dtype          \n",
      "---  ------                   --------------  -----          \n",
      " 0   avl_tr_IncidentNumber    6522 non-null   object         \n",
      " 1   avl_tr_UnitID            6522 non-null   object         \n",
      " 2   avl_tr_Timestamp         6522 non-null   datetime64[ns] \n",
      " 3   avl_tr_UnitStatus        6522 non-null   object         \n",
      " 4   avl_tr_Speed             6522 non-null   object         \n",
      " 5   avl_tr_FullKey           6522 non-null   object         \n",
      " 6   avl_ta_IncidentNumber    6522 non-null   object         \n",
      " 7   avl_ta_UnitID            6522 non-null   object         \n",
      " 8   avl_ta_Timestamp         6522 non-null   datetime64[ns] \n",
      " 9   avl_ta_UnitStatus        6522 non-null   object         \n",
      " 10  avl_ta_Speed             6522 non-null   object         \n",
      " 11  avl_ta_FullKey           6522 non-null   object         \n",
      " 12  avl_Timestamp_Transport  6522 non-null   timedelta64[ns]\n",
      "dtypes: datetime64[ns](2), object(10), timedelta64[ns](1)\n",
      "memory usage: 713.3+ KB\n"
     ]
    },
    {
     "data": {
      "text/plain": [
       "0.03759207811221137"
      ]
     },
     "execution_count": 15,
     "metadata": {},
     "output_type": "execute_result"
    }
   ],
   "source": [
    "df_avl.info()\n",
    "df_AVLless5mins.info()\n",
    "6522/173494"
   ]
  },
  {
   "cell_type": "code",
   "execution_count": 16,
   "id": "5ddc4c3d",
   "metadata": {},
   "outputs": [],
   "source": [
    "df_ALL = df_avl.merge(df_cad, \n",
    "               how = 'inner', \n",
    "               left_on = ['avl_ta_FullKey'],\n",
    "               right_on = ['cad_ta_FullKey'],\n",
    "               suffixes = ('avl_ta', 'cad_ta'))"
   ]
  },
  {
   "cell_type": "code",
   "execution_count": 17,
   "id": "8a3e1d0a",
   "metadata": {},
   "outputs": [],
   "source": [
    "df_ALL['CAD_vs_AVL_Transport'] = abs(df_ALL['avl_Timestamp_Transport'] - df_ALL['cad_Timestamp_Transport'])"
   ]
  },
  {
   "cell_type": "code",
   "execution_count": 18,
   "id": "3e1cce3b",
   "metadata": {},
   "outputs": [
    {
     "name": "stdout",
     "output_type": "stream",
     "text": [
      "\n",
      "25th Percentile:  0 days 00:01:03\n",
      "\n",
      "50th Percentile:  0 days 00:08:10\n",
      "\n",
      "90th Percentile:  0 days 00:33:38\n"
     ]
    }
   ],
   "source": [
    "twentyfiveALL = df_ALL.CAD_vs_AVL_Transport.quantile(0.25)\n",
    "fiftyALL = df_ALL.CAD_vs_AVL_Transport.quantile(0.5)\n",
    "ninetyALL = df_ALL.CAD_vs_AVL_Transport.quantile(0.9)\n",
    "print (\"\\n25th Percentile: \", twentyfiveALL)\n",
    "print (\"\\n50th Percentile: \", fiftyALL)\n",
    "print (\"\\n90th Percentile: \", ninetyALL)"
   ]
  },
  {
   "cell_type": "code",
   "execution_count": 19,
   "id": "b0122c50",
   "metadata": {},
   "outputs": [
    {
     "name": "stdout",
     "output_type": "stream",
     "text": [
      "<class 'pandas.core.frame.DataFrame'>\n",
      "Int64Index: 523 entries, 1093 to 173213\n",
      "Data columns (total 25 columns):\n",
      " #   Column                   Non-Null Count  Dtype          \n",
      "---  ------                   --------------  -----          \n",
      " 0   avl_tr_IncidentNumber    523 non-null    object         \n",
      " 1   avl_tr_UnitID            523 non-null    object         \n",
      " 2   avl_tr_Timestamp         523 non-null    datetime64[ns] \n",
      " 3   avl_tr_UnitStatus        523 non-null    object         \n",
      " 4   avl_tr_Speed             523 non-null    object         \n",
      " 5   avl_tr_FullKey           523 non-null    object         \n",
      " 6   avl_ta_IncidentNumber    523 non-null    object         \n",
      " 7   avl_ta_UnitID            523 non-null    object         \n",
      " 8   avl_ta_Timestamp         523 non-null    datetime64[ns] \n",
      " 9   avl_ta_UnitStatus        523 non-null    object         \n",
      " 10  avl_ta_Speed             523 non-null    object         \n",
      " 11  avl_ta_FullKey           523 non-null    object         \n",
      " 12  avl_Timestamp_Transport  523 non-null    timedelta64[ns]\n",
      " 13  cad_tr_IncidentNumber    523 non-null    object         \n",
      " 14  cad_tr_UnitID            523 non-null    object         \n",
      " 15  cad_tr_Timestamp         523 non-null    datetime64[ns] \n",
      " 16  cad_tr_UnitStatus        523 non-null    object         \n",
      " 17  cad_tr_FullKey           523 non-null    object         \n",
      " 18  cad_ta_IncidentNumber    523 non-null    object         \n",
      " 19  cad_ta_UnitID            523 non-null    object         \n",
      " 20  cad_ta_Timestamp         523 non-null    datetime64[ns] \n",
      " 21  cad_ta_UnitStatus        523 non-null    object         \n",
      " 22  cad_ta_FullKey           523 non-null    object         \n",
      " 23  cad_Timestamp_Transport  523 non-null    timedelta64[ns]\n",
      " 24  CAD_vs_AVL_Transport     523 non-null    timedelta64[ns]\n",
      "dtypes: datetime64[ns](4), object(18), timedelta64[ns](3)\n",
      "memory usage: 106.2+ KB\n",
      "<class 'pandas.core.frame.DataFrame'>\n",
      "Int64Index: 173494 entries, 0 to 173493\n",
      "Data columns (total 25 columns):\n",
      " #   Column                   Non-Null Count   Dtype          \n",
      "---  ------                   --------------   -----          \n",
      " 0   avl_tr_IncidentNumber    173494 non-null  object         \n",
      " 1   avl_tr_UnitID            173494 non-null  object         \n",
      " 2   avl_tr_Timestamp         173494 non-null  datetime64[ns] \n",
      " 3   avl_tr_UnitStatus        173494 non-null  object         \n",
      " 4   avl_tr_Speed             173494 non-null  object         \n",
      " 5   avl_tr_FullKey           173494 non-null  object         \n",
      " 6   avl_ta_IncidentNumber    173494 non-null  object         \n",
      " 7   avl_ta_UnitID            173494 non-null  object         \n",
      " 8   avl_ta_Timestamp         173494 non-null  datetime64[ns] \n",
      " 9   avl_ta_UnitStatus        173494 non-null  object         \n",
      " 10  avl_ta_Speed             173494 non-null  object         \n",
      " 11  avl_ta_FullKey           173494 non-null  object         \n",
      " 12  avl_Timestamp_Transport  173494 non-null  timedelta64[ns]\n",
      " 13  cad_tr_IncidentNumber    173494 non-null  object         \n",
      " 14  cad_tr_UnitID            173494 non-null  object         \n",
      " 15  cad_tr_Timestamp         173494 non-null  datetime64[ns] \n",
      " 16  cad_tr_UnitStatus        173494 non-null  object         \n",
      " 17  cad_tr_FullKey           173494 non-null  object         \n",
      " 18  cad_ta_IncidentNumber    173494 non-null  object         \n",
      " 19  cad_ta_UnitID            173494 non-null  object         \n",
      " 20  cad_ta_Timestamp         173494 non-null  datetime64[ns] \n",
      " 21  cad_ta_UnitStatus        173494 non-null  object         \n",
      " 22  cad_ta_FullKey           173494 non-null  object         \n",
      " 23  cad_Timestamp_Transport  173494 non-null  timedelta64[ns]\n",
      " 24  CAD_vs_AVL_Transport     173494 non-null  timedelta64[ns]\n",
      "dtypes: datetime64[ns](4), object(18), timedelta64[ns](3)\n",
      "memory usage: 34.4+ MB\n"
     ]
    },
    {
     "data": {
      "text/plain": [
       "0.0030145134702064627"
      ]
     },
     "execution_count": 19,
     "metadata": {},
     "output_type": "execute_result"
    }
   ],
   "source": [
    "equal = df_ALL[df_ALL['CAD_vs_AVL_Transport'].isin(['0 days 00:00:00'])]\n",
    "equal.info()\n",
    "df_ALL.info()\n",
    "523/173494"
   ]
  },
  {
   "cell_type": "code",
   "execution_count": 20,
   "id": "2bbdb597",
   "metadata": {},
   "outputs": [
    {
     "name": "stdout",
     "output_type": "stream",
     "text": [
      "<class 'pandas.core.frame.DataFrame'>\n",
      "Int64Index: 41922 entries, 1 to 173492\n",
      "Data columns (total 25 columns):\n",
      " #   Column                   Non-Null Count  Dtype          \n",
      "---  ------                   --------------  -----          \n",
      " 0   avl_tr_IncidentNumber    41922 non-null  object         \n",
      " 1   avl_tr_UnitID            41922 non-null  object         \n",
      " 2   avl_tr_Timestamp         41922 non-null  datetime64[ns] \n",
      " 3   avl_tr_UnitStatus        41922 non-null  object         \n",
      " 4   avl_tr_Speed             41922 non-null  object         \n",
      " 5   avl_tr_FullKey           41922 non-null  object         \n",
      " 6   avl_ta_IncidentNumber    41922 non-null  object         \n",
      " 7   avl_ta_UnitID            41922 non-null  object         \n",
      " 8   avl_ta_Timestamp         41922 non-null  datetime64[ns] \n",
      " 9   avl_ta_UnitStatus        41922 non-null  object         \n",
      " 10  avl_ta_Speed             41922 non-null  object         \n",
      " 11  avl_ta_FullKey           41922 non-null  object         \n",
      " 12  avl_Timestamp_Transport  41922 non-null  timedelta64[ns]\n",
      " 13  cad_tr_IncidentNumber    41922 non-null  object         \n",
      " 14  cad_tr_UnitID            41922 non-null  object         \n",
      " 15  cad_tr_Timestamp         41922 non-null  datetime64[ns] \n",
      " 16  cad_tr_UnitStatus        41922 non-null  object         \n",
      " 17  cad_tr_FullKey           41922 non-null  object         \n",
      " 18  cad_ta_IncidentNumber    41922 non-null  object         \n",
      " 19  cad_ta_UnitID            41922 non-null  object         \n",
      " 20  cad_ta_Timestamp         41922 non-null  datetime64[ns] \n",
      " 21  cad_ta_UnitStatus        41922 non-null  object         \n",
      " 22  cad_ta_FullKey           41922 non-null  object         \n",
      " 23  cad_Timestamp_Transport  41922 non-null  timedelta64[ns]\n",
      " 24  CAD_vs_AVL_Transport     41922 non-null  timedelta64[ns]\n",
      "dtypes: datetime64[ns](4), object(18), timedelta64[ns](3)\n",
      "memory usage: 8.3+ MB\n"
     ]
    },
    {
     "data": {
      "text/plain": [
       "0.24163371643976161"
      ]
     },
     "execution_count": 20,
     "metadata": {},
     "output_type": "execute_result"
    }
   ],
   "source": [
    "dfALL_less60 = df_ALL[df_ALL['CAD_vs_AVL_Transport'].dt.total_seconds() <= 60]\n",
    "dfALL_less60.info()\n",
    "41922/173494"
   ]
  },
  {
   "cell_type": "code",
   "execution_count": 21,
   "id": "8d87d260",
   "metadata": {},
   "outputs": [
    {
     "name": "stdout",
     "output_type": "stream",
     "text": [
      "<class 'pandas.core.frame.DataFrame'>\n",
      "Int64Index: 9190 entries, 28 to 173492\n",
      "Data columns (total 25 columns):\n",
      " #   Column                   Non-Null Count  Dtype          \n",
      "---  ------                   --------------  -----          \n",
      " 0   avl_tr_IncidentNumber    9190 non-null   object         \n",
      " 1   avl_tr_UnitID            9190 non-null   object         \n",
      " 2   avl_tr_Timestamp         9190 non-null   datetime64[ns] \n",
      " 3   avl_tr_UnitStatus        9190 non-null   object         \n",
      " 4   avl_tr_Speed             9190 non-null   object         \n",
      " 5   avl_tr_FullKey           9190 non-null   object         \n",
      " 6   avl_ta_IncidentNumber    9190 non-null   object         \n",
      " 7   avl_ta_UnitID            9190 non-null   object         \n",
      " 8   avl_ta_Timestamp         9190 non-null   datetime64[ns] \n",
      " 9   avl_ta_UnitStatus        9190 non-null   object         \n",
      " 10  avl_ta_Speed             9190 non-null   object         \n",
      " 11  avl_ta_FullKey           9190 non-null   object         \n",
      " 12  avl_Timestamp_Transport  9190 non-null   timedelta64[ns]\n",
      " 13  cad_tr_IncidentNumber    9190 non-null   object         \n",
      " 14  cad_tr_UnitID            9190 non-null   object         \n",
      " 15  cad_tr_Timestamp         9190 non-null   datetime64[ns] \n",
      " 16  cad_tr_UnitStatus        9190 non-null   object         \n",
      " 17  cad_tr_FullKey           9190 non-null   object         \n",
      " 18  cad_ta_IncidentNumber    9190 non-null   object         \n",
      " 19  cad_ta_UnitID            9190 non-null   object         \n",
      " 20  cad_ta_Timestamp         9190 non-null   datetime64[ns] \n",
      " 21  cad_ta_UnitStatus        9190 non-null   object         \n",
      " 22  cad_ta_FullKey           9190 non-null   object         \n",
      " 23  cad_Timestamp_Transport  9190 non-null   timedelta64[ns]\n",
      " 24  CAD_vs_AVL_Transport     9190 non-null   timedelta64[ns]\n",
      "dtypes: datetime64[ns](4), object(18), timedelta64[ns](3)\n",
      "memory usage: 1.8+ MB\n"
     ]
    },
    {
     "data": {
      "text/plain": [
       "0.05297013153192617"
      ]
     },
     "execution_count": 21,
     "metadata": {},
     "output_type": "execute_result"
    }
   ],
   "source": [
    "dfALL_less10 = df_ALL[df_ALL['CAD_vs_AVL_Transport'].dt.total_seconds() <= 10]\n",
    "dfALL_less10.info()\n",
    "9190/173494"
   ]
  },
  {
   "cell_type": "code",
   "execution_count": 22,
   "id": "70634b87",
   "metadata": {},
   "outputs": [],
   "source": [
    "###creating subset of CAD transport is 5 mins or less\n",
    "dfALL_CADless5 = df_ALL[df_ALL['cad_Timestamp_Transport'].dt.total_seconds() <= 300]"
   ]
  },
  {
   "cell_type": "code",
   "execution_count": 23,
   "id": "31c6086a",
   "metadata": {},
   "outputs": [
    {
     "name": "stdout",
     "output_type": "stream",
     "text": [
      "\n",
      "25th Percentile:  0 days 00:00:52\n",
      "\n",
      "50th Percentile:  0 days 00:08:27\n",
      "\n",
      "90th Percentile:  0 days 00:32:02\n"
     ]
    }
   ],
   "source": [
    "twentyfive_CADless5 = dfALL_CADless5.CAD_vs_AVL_Transport.quantile(0.25)\n",
    "fifty_CADless5 = dfALL_CADless5.CAD_vs_AVL_Transport.quantile(0.5)\n",
    "ninety_CADless5 = dfALL_CADless5.CAD_vs_AVL_Transport.quantile(0.9)\n",
    "print (\"\\n25th Percentile: \", twentyfive_CADless5)\n",
    "print (\"\\n50th Percentile: \", fifty_CADless5)\n",
    "print (\"\\n90th Percentile: \", ninety_CADless5)"
   ]
  },
  {
   "cell_type": "code",
   "execution_count": 24,
   "id": "fbbbcb80",
   "metadata": {},
   "outputs": [
    {
     "name": "stdout",
     "output_type": "stream",
     "text": [
      "<class 'pandas.core.frame.DataFrame'>\n",
      "Int64Index: 74 entries, 2236 to 171002\n",
      "Data columns (total 25 columns):\n",
      " #   Column                   Non-Null Count  Dtype          \n",
      "---  ------                   --------------  -----          \n",
      " 0   avl_tr_IncidentNumber    74 non-null     object         \n",
      " 1   avl_tr_UnitID            74 non-null     object         \n",
      " 2   avl_tr_Timestamp         74 non-null     datetime64[ns] \n",
      " 3   avl_tr_UnitStatus        74 non-null     object         \n",
      " 4   avl_tr_Speed             74 non-null     object         \n",
      " 5   avl_tr_FullKey           74 non-null     object         \n",
      " 6   avl_ta_IncidentNumber    74 non-null     object         \n",
      " 7   avl_ta_UnitID            74 non-null     object         \n",
      " 8   avl_ta_Timestamp         74 non-null     datetime64[ns] \n",
      " 9   avl_ta_UnitStatus        74 non-null     object         \n",
      " 10  avl_ta_Speed             74 non-null     object         \n",
      " 11  avl_ta_FullKey           74 non-null     object         \n",
      " 12  avl_Timestamp_Transport  74 non-null     timedelta64[ns]\n",
      " 13  cad_tr_IncidentNumber    74 non-null     object         \n",
      " 14  cad_tr_UnitID            74 non-null     object         \n",
      " 15  cad_tr_Timestamp         74 non-null     datetime64[ns] \n",
      " 16  cad_tr_UnitStatus        74 non-null     object         \n",
      " 17  cad_tr_FullKey           74 non-null     object         \n",
      " 18  cad_ta_IncidentNumber    74 non-null     object         \n",
      " 19  cad_ta_UnitID            74 non-null     object         \n",
      " 20  cad_ta_Timestamp         74 non-null     datetime64[ns] \n",
      " 21  cad_ta_UnitStatus        74 non-null     object         \n",
      " 22  cad_ta_FullKey           74 non-null     object         \n",
      " 23  cad_Timestamp_Transport  74 non-null     timedelta64[ns]\n",
      " 24  CAD_vs_AVL_Transport     74 non-null     timedelta64[ns]\n",
      "dtypes: datetime64[ns](4), object(18), timedelta64[ns](3)\n",
      "memory usage: 15.0+ KB\n",
      "<class 'pandas.core.frame.DataFrame'>\n",
      "Int64Index: 15696 entries, 15 to 173492\n",
      "Data columns (total 25 columns):\n",
      " #   Column                   Non-Null Count  Dtype          \n",
      "---  ------                   --------------  -----          \n",
      " 0   avl_tr_IncidentNumber    15696 non-null  object         \n",
      " 1   avl_tr_UnitID            15696 non-null  object         \n",
      " 2   avl_tr_Timestamp         15696 non-null  datetime64[ns] \n",
      " 3   avl_tr_UnitStatus        15696 non-null  object         \n",
      " 4   avl_tr_Speed             15696 non-null  object         \n",
      " 5   avl_tr_FullKey           15696 non-null  object         \n",
      " 6   avl_ta_IncidentNumber    15696 non-null  object         \n",
      " 7   avl_ta_UnitID            15696 non-null  object         \n",
      " 8   avl_ta_Timestamp         15696 non-null  datetime64[ns] \n",
      " 9   avl_ta_UnitStatus        15696 non-null  object         \n",
      " 10  avl_ta_Speed             15696 non-null  object         \n",
      " 11  avl_ta_FullKey           15696 non-null  object         \n",
      " 12  avl_Timestamp_Transport  15696 non-null  timedelta64[ns]\n",
      " 13  cad_tr_IncidentNumber    15696 non-null  object         \n",
      " 14  cad_tr_UnitID            15696 non-null  object         \n",
      " 15  cad_tr_Timestamp         15696 non-null  datetime64[ns] \n",
      " 16  cad_tr_UnitStatus        15696 non-null  object         \n",
      " 17  cad_tr_FullKey           15696 non-null  object         \n",
      " 18  cad_ta_IncidentNumber    15696 non-null  object         \n",
      " 19  cad_ta_UnitID            15696 non-null  object         \n",
      " 20  cad_ta_Timestamp         15696 non-null  datetime64[ns] \n",
      " 21  cad_ta_UnitStatus        15696 non-null  object         \n",
      " 22  cad_ta_FullKey           15696 non-null  object         \n",
      " 23  cad_Timestamp_Transport  15696 non-null  timedelta64[ns]\n",
      " 24  CAD_vs_AVL_Transport     15696 non-null  timedelta64[ns]\n",
      "dtypes: datetime64[ns](4), object(18), timedelta64[ns](3)\n",
      "memory usage: 3.1+ MB\n"
     ]
    },
    {
     "data": {
      "text/plain": [
       "0.004714576962283384"
      ]
     },
     "execution_count": 24,
     "metadata": {},
     "output_type": "execute_result"
    }
   ],
   "source": [
    "equal_under5 = dfALL_CADless5[dfALL_CADless5['CAD_vs_AVL_Transport'].isin(['0 days 00:00:00'])]\n",
    "equal_under5.info()\n",
    "dfALL_CADless5.info()\n",
    "74/15696"
   ]
  },
  {
   "cell_type": "code",
   "execution_count": 30,
   "id": "a03efaaf",
   "metadata": {},
   "outputs": [
    {
     "name": "stdout",
     "output_type": "stream",
     "text": [
      "<class 'pandas.core.frame.DataFrame'>\n",
      "Int64Index: 15696 entries, 15 to 173492\n",
      "Data columns (total 26 columns):\n",
      " #   Column                   Non-Null Count  Dtype          \n",
      "---  ------                   --------------  -----          \n",
      " 0   avl_tr_IncidentNumber    15696 non-null  object         \n",
      " 1   avl_tr_UnitID            15696 non-null  object         \n",
      " 2   avl_tr_Timestamp         15696 non-null  datetime64[ns] \n",
      " 3   avl_tr_UnitStatus        15696 non-null  object         \n",
      " 4   avl_tr_Speed             15696 non-null  object         \n",
      " 5   avl_tr_FullKey           15696 non-null  object         \n",
      " 6   avl_ta_IncidentNumber    15696 non-null  object         \n",
      " 7   avl_ta_UnitID            15696 non-null  object         \n",
      " 8   avl_ta_Timestamp         15696 non-null  datetime64[ns] \n",
      " 9   avl_ta_UnitStatus        15696 non-null  object         \n",
      " 10  avl_ta_Speed             15696 non-null  object         \n",
      " 11  avl_ta_FullKey           15696 non-null  object         \n",
      " 12  avl_Timestamp_Transport  15696 non-null  timedelta64[ns]\n",
      " 13  cad_tr_IncidentNumber    15696 non-null  object         \n",
      " 14  cad_tr_UnitID            15696 non-null  object         \n",
      " 15  cad_tr_Timestamp         15696 non-null  datetime64[ns] \n",
      " 16  cad_tr_UnitStatus        15696 non-null  object         \n",
      " 17  cad_tr_FullKey           15696 non-null  object         \n",
      " 18  cad_ta_IncidentNumber    15696 non-null  object         \n",
      " 19  cad_ta_UnitID            15696 non-null  object         \n",
      " 20  cad_ta_Timestamp         15696 non-null  datetime64[ns] \n",
      " 21  cad_ta_UnitStatus        15696 non-null  object         \n",
      " 22  cad_ta_FullKey           15696 non-null  object         \n",
      " 23  cad_Timestamp_Transport  15696 non-null  timedelta64[ns]\n",
      " 24  CAD_vs_AVL_Transport     15696 non-null  timedelta64[ns]\n",
      " 25  Apparatus                15696 non-null  object         \n",
      "dtypes: datetime64[ns](4), object(19), timedelta64[ns](3)\n",
      "memory usage: 3.2+ MB\n"
     ]
    }
   ],
   "source": [
    "dfALL_CADless5.info()"
   ]
  },
  {
   "cell_type": "code",
   "execution_count": 29,
   "id": "7bae1ec6",
   "metadata": {},
   "outputs": [
    {
     "name": "stderr",
     "output_type": "stream",
     "text": [
      "<ipython-input-29-29b7de28938b>:1: SettingWithCopyWarning: \n",
      "A value is trying to be set on a copy of a slice from a DataFrame.\n",
      "Try using .loc[row_indexer,col_indexer] = value instead\n",
      "\n",
      "See the caveats in the documentation: https://pandas.pydata.org/pandas-docs/stable/user_guide/indexing.html#returning-a-view-versus-a-copy\n",
      "  dfALL_CADless5['Apparatus'] = dfALL_CADless5['avl_tr_UnitID'].astype(str).str[0]\n"
     ]
    }
   ],
   "source": [
    "dfALL_CADless5['Apparatus'] = dfALL_CADless5['avl_tr_UnitID'].astype(str).str[0]"
   ]
  },
  {
   "cell_type": "code",
   "execution_count": 37,
   "id": "93c9f1a6",
   "metadata": {},
   "outputs": [
    {
     "data": {
      "image/png": "[encoded data removed]",
      "text/plain": [
       "<Figure size 1440x576 with 2 Axes>"
      ]
     },
     "metadata": {},
     "output_type": "display_data"
    }
   ],
   "source": [
    "import pandas as pd\n",
    "import numpy as np\n",
    "from matplotlib import pyplot as plt\n",
    "import seaborn as sns\n",
    "\n",
    "fig, (ax1, ax2) = plt.subplots(1,2,figsize=(20,8))\n",
    "\n",
    "sns.boxplot(y = dfALL_CADless5['cad_Timestamp_Transport'].dt.total_seconds()/60, x = [\"\"] * len(dfALL_CADless5), hue=dfALL_CADless5['Apparatus'],\n",
    "                 showfliers = False,ax=ax1)\n",
    "sns.set(rc={'figure.figsize':(10,10)})\n",
    "\n",
    "sns.boxplot(y = dfALL_CADless5['avl_Timestamp_Transport'].dt.total_seconds()/60, x = [\"\"] * len(dfALL_CADless5), hue=dfALL_CADless5['Apparatus'],\n",
    "                 showfliers = False,ax=ax2)\n",
    "sns.set(rc={'figure.figsize':(10,10)})\n",
    "\n",
    "ax1.set_xlabel('Unit')\n",
    "ax1.set_ylabel('Transport (Minutes) - CAD')\n",
    "ax2.set_xlabel('Unit')\n",
    "ax2.set_ylabel('Transport (Minutes) - AVL')\n",
    "ax1.set_title('Transport Time of CAD for each unit type\\n for Transport Time < 5 Minutes(Extreme Outliers Removed)')\n",
    "ax2.set_title('Transport Time of AVL \\nfor each unit type\\n for CAD Transport Time < 5 Minutes(Extreme Outliers Removed)')\n",
    "ax1.set_ylim([-1, 30])\n",
    "ax2.set_ylim([-1, 30])\n",
    "\n",
    "plt.show()"
   ]
  },
  {
   "cell_type": "code",
   "execution_count": 40,
   "id": "c9c0119b",
   "metadata": {},
   "outputs": [],
   "source": [
    "engines = df_ALL[df_ALL['Apparatus'].isin(['E'])]\n",
    "medics= df_ALL[df_ALL['Apparatus'].isin(['M'])]\n",
    "trucks = df_ALL[df_ALL['Apparatus'].isin(['T'])]\n",
    "rescueSquad= df_ALL[df_ALL['Apparatus'].isin(['R'])]\n",
    "ambulance= df_ALL[df_ALL['Apparatus'].isin(['A'])]"
   ]
  },
  {
   "cell_type": "code",
   "execution_count": 39,
   "id": "83224304",
   "metadata": {},
   "outputs": [],
   "source": [
    "df_ALL['Apparatus'] = df_ALL['avl_tr_UnitID'].astype(str).str[0]"
   ]
  },
  {
   "cell_type": "code",
   "execution_count": 42,
   "id": "5d1a2062",
   "metadata": {},
   "outputs": [
    {
     "name": "stdout",
     "output_type": "stream",
     "text": [
      "\n",
      "90th Percentile for Engines Turnout (CAD):  0 days 00:23:13\n",
      "\n",
      "90th Percentile for Engines Turnout (AVL):  0 days 00:28:44.900000\n"
     ]
    }
   ],
   "source": [
    "ninetyEngines = engines.cad_Timestamp_Transport.quantile(0.9)\n",
    "print (\"\\n90th Percentile for Engines Turnout (CAD): \", ninetyEngines)\n",
    "\n",
    "\n",
    "ninetyEnginesA = engines.avl_Timestamp_Transport.quantile(0.9)\n",
    "print (\"\\n90th Percentile for Engines Turnout (AVL): \", ninetyEnginesA)\n"
   ]
  },
  {
   "cell_type": "code",
   "execution_count": 43,
   "id": "1b5e7819",
   "metadata": {},
   "outputs": [
    {
     "name": "stdout",
     "output_type": "stream",
     "text": [
      "\n",
      "90th Percentile for Medics Turnout (CAD):  0 days 00:20:41\n",
      "\n",
      "90th Percentile for Medics Turnout (AVL):  0 days 00:47:52\n"
     ]
    }
   ],
   "source": [
    "\n",
    "ninetyMedics = medics.cad_Timestamp_Transport.quantile(0.9)\n",
    "\n",
    "print (\"\\n90th Percentile for Medics Turnout (CAD): \", ninetyMedics)\n",
    "\n",
    "\n",
    "ninetyMedicsA = medics.avl_Timestamp_Transport.quantile(0.9)\n",
    "\n",
    "print (\"\\n90th Percentile for Medics Turnout (AVL): \", ninetyMedicsA)"
   ]
  },
  {
   "cell_type": "code",
   "execution_count": 44,
   "id": "ed122b17",
   "metadata": {},
   "outputs": [
    {
     "name": "stdout",
     "output_type": "stream",
     "text": [
      "\n",
      "90th Percentile for Trucks Turnout (CAD):  0 days 00:20:12\n",
      "\n",
      "90th Percentile for Trucks Turnout (AVL):  0 days 00:22:04.200000\n"
     ]
    }
   ],
   "source": [
    "\n",
    "ninetyTrucks = trucks.cad_Timestamp_Transport.quantile(0.9)\n",
    "\n",
    "print (\"\\n90th Percentile for Trucks Turnout (CAD): \", ninetyTrucks)\n",
    "\n",
    "\n",
    "ninetyTrucksA = trucks.avl_Timestamp_Transport.quantile(0.9)\n",
    "\n",
    "print (\"\\n90th Percentile for Trucks Turnout (AVL): \", ninetyTrucksA)"
   ]
  },
  {
   "cell_type": "code",
   "execution_count": 45,
   "id": "13a8f3c6",
   "metadata": {},
   "outputs": [
    {
     "name": "stdout",
     "output_type": "stream",
     "text": [
      "\n",
      "90th Percentile for RescueSquad Turnout (CAD):  0 days 00:25:11.500000\n",
      "\n",
      "90th Percentile for RescueSquad Turnout (AVL):  0 days 00:31:48\n"
     ]
    }
   ],
   "source": [
    "\n",
    "ninetyRescueSquad = rescueSquad.cad_Timestamp_Transport.quantile(0.9)\n",
    "\n",
    "print (\"\\n90th Percentile for RescueSquad Turnout (CAD): \", ninetyRescueSquad)\n",
    "\n",
    "\n",
    "ninetyRescueSquadA = rescueSquad.avl_Timestamp_Transport.quantile(0.9)\n",
    "\n",
    "print (\"\\n90th Percentile for RescueSquad Turnout (AVL): \", ninetyRescueSquadA)"
   ]
  },
  {
   "cell_type": "code",
   "execution_count": 46,
   "id": "08dc0eb2",
   "metadata": {},
   "outputs": [
    {
     "name": "stdout",
     "output_type": "stream",
     "text": [
      "\n",
      "90th Percentile for Ambulance Turnout (CAD):  0 days 00:20:40.600000\n",
      "\n",
      "90th Percentile for Ambulance Turnout (AVL):  0 days 00:44:25.800000\n"
     ]
    }
   ],
   "source": [
    "\n",
    "ninetyAmbulance = ambulance.cad_Timestamp_Transport.quantile(0.9)\n",
    "\n",
    "print (\"\\n90th Percentile for Ambulance Turnout (CAD): \", ninetyAmbulance)\n",
    "\n",
    "\n",
    "ninetyAmbulanceA = ambulance.avl_Timestamp_Transport.quantile(0.9)\n",
    "\n",
    "print (\"\\n90th Percentile for Ambulance Turnout (AVL): \", ninetyAmbulanceA)"
   ]
  }
 ],
 "metadata": {
  "kernelspec": {
   "display_name": "Python 3",
   "language": "python",
   "name": "python3"
  },
  "language_info": {
   "codemirror_mode": {
    "name": "ipython",
    "version": 3
   },
   "file_extension": ".py",
   "mimetype": "text/x-python",
   "name": "python",
   "nbconvert_exporter": "python",
   "pygments_lexer": "ipython3",
   "version": "3.8.8"
  }
 },
 "nbformat": 4,
 "nbformat_minor": 5
}
