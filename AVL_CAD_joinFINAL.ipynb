{
 "cells": [
  {
   "cell_type": "code",
   "execution_count": 1,
   "id": "a356b3ad",
   "metadata": {},
   "outputs": [],
   "source": [
    "import pandas as pd\n",
    "import numpy as np\n",
    "from datetime import datetime"
   ]
  },
  {
   "cell_type": "code",
   "execution_count": 2,
   "id": "2cc3e800",
   "metadata": {},
   "outputs": [
    {
     "data": {
      "text/plain": [
       "AVL_IncidentNumber    0\n",
       "AVL_UnitID            0\n",
       "AVL_Timestamp         0\n",
       "AVL_UnitStatus        0\n",
       "AVL_Speed             0\n",
       "dtype: int64"
      ]
     },
     "execution_count": 2,
     "metadata": {},
     "output_type": "execute_result"
    }
   ],
   "source": [
    "cad = pd.read_csv('GMU_2021_Summer_CAD.csv')\n",
    "avl = pd.read_csv('GMU_2021_Summer_AVL.csv')\n",
    "avl.columns = ['AVL_IncidentNumber',\n",
    "               'AVL_UnitID',\n",
    "               'AVL_Timestamp',\n",
    "               'AVL_UnitStatus',\n",
    "               'AVL_Speed']\n",
    "avl.dropna(subset = ['AVL_IncidentNumber'],\n",
    "           inplace = True)\n",
    "avl.reset_index(inplace = True, drop = True)\n",
    "avl.isna().sum()"
   ]
  },
  {
   "cell_type": "code",
   "execution_count": 3,
   "id": "837bd0ff",
   "metadata": {},
   "outputs": [],
   "source": [
    "# convert object to timestamp proper\n",
    "avl['AVL_Timestamp'] = avl['AVL_Timestamp'].str.replace('ED', '')\n",
    "cad['CAD_Timestamp'] = cad['CAD_Timestamp'].str.replace('ED', '')\n",
    "avl['AVL_Timestamp'] = avl['AVL_Timestamp'].str.replace('ES', '')\n",
    "cad['CAD_Timestamp'] = cad['CAD_Timestamp'].str.replace('ES', '')\n",
    "avl['AVL_Timestamp'] = pd.to_datetime(avl['AVL_Timestamp'], format = '%Y%m%d%H%M%S')\n",
    "cad['CAD_Timestamp'] = pd.to_datetime(cad['CAD_Timestamp'], format = '%Y%m%d%H%M%S')"
   ]
  },
  {
   "cell_type": "code",
   "execution_count": 4,
   "id": "0f769b21",
   "metadata": {},
   "outputs": [],
   "source": [
    "avl['AVL_FullKey'] = avl['AVL_IncidentNumber'].map(str) +  avl['AVL_UnitID'].map(str) +  avl['AVL_UnitStatus'].map(str)\n",
    "cad['CAD_FullKey'] = cad['CAD_IncidentNumber'].map(str) +  cad['CAD_UnitID'].map(str) +  cad['CAD_UnitStatus'].map(str)"
   ]
  },
  {
   "cell_type": "code",
   "execution_count": 5,
   "id": "ecb1c025",
   "metadata": {},
   "outputs": [],
   "source": [
    "avl = avl.sort_values(by='AVL_Timestamp', ascending=True)\n",
    "cad = cad.sort_values(by='CAD_Timestamp', ascending=True)"
   ]
  },
  {
   "cell_type": "code",
   "execution_count": 6,
   "id": "90af1364",
   "metadata": {},
   "outputs": [],
   "source": [
    "avl_CLEAN = avl.drop_duplicates(subset='AVL_FullKey', keep=\"first\", inplace=False)\n",
    "cad_CLEAN = cad.drop_duplicates(subset='CAD_FullKey', keep=\"first\", inplace=False)"
   ]
  },
  {
   "cell_type": "code",
   "execution_count": 7,
   "id": "e273236b",
   "metadata": {},
   "outputs": [
    {
     "name": "stdout",
     "output_type": "stream",
     "text": [
      "<class 'pandas.core.frame.DataFrame'>\n",
      "Int64Index: 1673937 entries, 3849796 to 17911943\n",
      "Data columns (total 6 columns):\n",
      " #   Column              Non-Null Count    Dtype         \n",
      "---  ------              --------------    -----         \n",
      " 0   AVL_IncidentNumber  1673937 non-null  object        \n",
      " 1   AVL_UnitID          1673937 non-null  object        \n",
      " 2   AVL_Timestamp       1673937 non-null  datetime64[ns]\n",
      " 3   AVL_UnitStatus      1673937 non-null  object        \n",
      " 4   AVL_Speed           1673937 non-null  object        \n",
      " 5   AVL_FullKey         1673937 non-null  object        \n",
      "dtypes: datetime64[ns](1), object(5)\n",
      "memory usage: 89.4+ MB\n"
     ]
    }
   ],
   "source": [
    "avl_CLEAN.info()"
   ]
  },
  {
   "cell_type": "code",
   "execution_count": 8,
   "id": "60702b9f",
   "metadata": {},
   "outputs": [
    {
     "name": "stdout",
     "output_type": "stream",
     "text": [
      "<class 'pandas.core.frame.DataFrame'>\n",
      "Int64Index: 4186845 entries, 2515485 to 1702468\n",
      "Data columns (total 5 columns):\n",
      " #   Column              Dtype         \n",
      "---  ------              -----         \n",
      " 0   CAD_IncidentNumber  object        \n",
      " 1   CAD_UnitID          object        \n",
      " 2   CAD_Timestamp       datetime64[ns]\n",
      " 3   CAD_UnitStatus      object        \n",
      " 4   CAD_FullKey         object        \n",
      "dtypes: datetime64[ns](1), object(4)\n",
      "memory usage: 191.7+ MB\n"
     ]
    }
   ],
   "source": [
    "cad_CLEAN.info()"
   ]
  },
  {
   "cell_type": "code",
   "execution_count": 22,
   "id": "57cdad49",
   "metadata": {},
   "outputs": [],
   "source": [
    "df_inner = avl_CLEAN.merge(cad_CLEAN, \n",
    "               how = 'inner', \n",
    "               left_on = ['AVL_IncidentNumber',\n",
    "                          'AVL_UnitID',\n",
    "                          'AVL_UnitStatus'],\n",
    "               right_on = ['CAD_IncidentNumber',\n",
    "                           'CAD_UnitID',\n",
    "                           'CAD_UnitStatus'],\n",
    "               suffixes = ('_avl', '_cad'))"
   ]
  },
  {
   "cell_type": "code",
   "execution_count": 23,
   "id": "08e46e12",
   "metadata": {},
   "outputs": [],
   "source": [
    "df_outer = avl_CLEAN.merge(cad_CLEAN, \n",
    "               how = 'outer', \n",
    "               left_on = ['AVL_IncidentNumber',\n",
    "                          'AVL_UnitID',\n",
    "                          'AVL_UnitStatus'],\n",
    "               right_on = ['CAD_IncidentNumber',\n",
    "                           'CAD_UnitID',\n",
    "                           'CAD_UnitStatus'],\n",
    "               suffixes = ('_avl', '_cad'))"
   ]
  },
  {
   "cell_type": "code",
   "execution_count": 26,
   "id": "c7163385",
   "metadata": {},
   "outputs": [],
   "source": [
    "df_outer2 = avl_CLEAN.merge(cad_CLEAN, \n",
    "               how = 'outer', \n",
    "               left_on = ['AVL_IncidentNumber',\n",
    "                          'AVL_UnitID'],\n",
    "               right_on = ['CAD_IncidentNumber',\n",
    "                           'CAD_UnitID'],\n",
    "               suffixes = ('_avl', '_cad'))"
   ]
  },
  {
   "cell_type": "code",
   "execution_count": 29,
   "id": "627842a6",
   "metadata": {},
   "outputs": [],
   "source": [
    "df_inner2 = avl_CLEAN.merge(cad_CLEAN, \n",
    "               how = 'inner', \n",
    "               left_on = ['AVL_IncidentNumber',\n",
    "                          'AVL_UnitID'],\n",
    "               right_on = ['CAD_IncidentNumber',\n",
    "                           'CAD_UnitID'],\n",
    "               suffixes = ('_avl', '_cad'))"
   ]
  }
 ],
 "metadata": {
  "kernelspec": {
   "display_name": "Python 3",
   "language": "python",
   "name": "python3"
  },
  "language_info": {
   "codemirror_mode": {
    "name": "ipython",
    "version": 3
   },
   "file_extension": ".py",
   "mimetype": "text/x-python",
   "name": "python",
   "nbconvert_exporter": "python",
   "pygments_lexer": "ipython3",
   "version": "3.8.8"
  }
 },
 "nbformat": 4,
 "nbformat_minor": 5
}
