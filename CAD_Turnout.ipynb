{
 "cells": [
  {
   "cell_type": "code",
   "execution_count": 1,
   "id": "41a6f482",
   "metadata": {},
   "outputs": [],
   "source": [
    "import pandas as pd\n",
    "import numpy as np\n",
    "from datetime import datetime"
   ]
  },
  {
   "cell_type": "code",
   "execution_count": 7,
   "id": "74763ba0",
   "metadata": {},
   "outputs": [],
   "source": [
    "cad = pd.read_csv('GMU_2021_Summer_CAD.csv')"
   ]
  },
  {
   "cell_type": "code",
   "execution_count": 9,
   "id": "8283bef3",
   "metadata": {},
   "outputs": [],
   "source": [
    "cad['CAD_Timestamp'] = cad['CAD_Timestamp'].str.replace('ED', '')\n",
    "cad['CAD_Timestamp'] = cad['CAD_Timestamp'].str.replace('ES', '')\n",
    "cad['CAD_Timestamp'] = pd.to_datetime(cad['CAD_Timestamp'], format = '%Y%m%d%H%M%S')"
   ]
  },
  {
   "cell_type": "code",
   "execution_count": 10,
   "id": "81c7589b",
   "metadata": {},
   "outputs": [],
   "source": [
    "er = cad[cad['CAD_UnitStatus'].isin(['ER'])]\n",
    "dp= cad[cad['CAD_UnitStatus'].isin(['DP'])]"
   ]
  },
  {
   "cell_type": "code",
   "execution_count": 11,
   "id": "b3c9da13",
   "metadata": {},
   "outputs": [],
   "source": [
    "er =er.rename(columns={\"CAD_IncidentNumber\":\"er_IncidentNumber\",\"CAD_UnitID\":\"er_UnitID\",\"CAD_Timestamp\":\"er_Timestamp\", \"CAD_UnitStatus\":\"er_UnitStatus\", \"FullKey\": \"er_FullKey\"})\n",
    "dp =dp.rename(columns={\"CAD_IncidentNumber\":\"dp_IncidentNumber\",\"CAD_UnitID\":\"dp_UnitID\",\"CAD_Timestamp\":\"dp_Timestamp\", \"CAD_UnitStatus\":\"dp_UnitStatus\", \"FullKey\": \"dp_FullKey\"})"
   ]
  },
  {
   "cell_type": "code",
   "execution_count": 12,
   "id": "8e6bfe1c",
   "metadata": {},
   "outputs": [],
   "source": [
    "df = dp.merge(er, \n",
    "               how = 'inner', \n",
    "               left_on = ['dp_IncidentNumber',\n",
    "                          'dp_UnitID'],\n",
    "               right_on = ['er_IncidentNumber',\n",
    "                           'er_UnitID'],\n",
    "               suffixes = ('_dp', '_er'))"
   ]
  },
  {
   "cell_type": "code",
   "execution_count": 13,
   "id": "4374a074",
   "metadata": {},
   "outputs": [
    {
     "name": "stdout",
     "output_type": "stream",
     "text": [
      "<class 'pandas.core.frame.DataFrame'>\n",
      "Int64Index: 867413 entries, 0 to 867412\n",
      "Data columns (total 8 columns):\n",
      " #   Column             Non-Null Count   Dtype         \n",
      "---  ------             --------------   -----         \n",
      " 0   dp_IncidentNumber  867413 non-null  object        \n",
      " 1   dp_UnitID          867413 non-null  object        \n",
      " 2   dp_Timestamp       867413 non-null  datetime64[ns]\n",
      " 3   dp_UnitStatus      867413 non-null  object        \n",
      " 4   er_IncidentNumber  867413 non-null  object        \n",
      " 5   er_UnitID          867413 non-null  object        \n",
      " 6   er_Timestamp       867413 non-null  datetime64[ns]\n",
      " 7   er_UnitStatus      867413 non-null  object        \n",
      "dtypes: datetime64[ns](2), object(6)\n",
      "memory usage: 59.6+ MB\n"
     ]
    }
   ],
   "source": [
    "df.head()\n",
    "df.info(verbose=True)"
   ]
  },
  {
   "cell_type": "code",
   "execution_count": 15,
   "id": "bef106d5",
   "metadata": {},
   "outputs": [],
   "source": [
    "# create transport col\n",
    "df['CAD_Timestamp_Turnout'] = abs(df['er_Timestamp'] - df['dp_Timestamp'])"
   ]
  },
  {
   "cell_type": "code",
   "execution_count": 16,
   "id": "f21d17c9",
   "metadata": {},
   "outputs": [
    {
     "data": {
      "text/html": [
       "<div>\n",
       "<style scoped>\n",
       "    .dataframe tbody tr th:only-of-type {\n",
       "        vertical-align: middle;\n",
       "    }\n",
       "\n",
       "    .dataframe tbody tr th {\n",
       "        vertical-align: top;\n",
       "    }\n",
       "\n",
       "    .dataframe thead th {\n",
       "        text-align: right;\n",
       "    }\n",
       "</style>\n",
       "<table border=\"1\" class=\"dataframe\">\n",
       "  <thead>\n",
       "    <tr style=\"text-align: right;\">\n",
       "      <th></th>\n",
       "      <th>dp_IncidentNumber</th>\n",
       "      <th>dp_UnitID</th>\n",
       "      <th>dp_Timestamp</th>\n",
       "      <th>dp_UnitStatus</th>\n",
       "      <th>er_IncidentNumber</th>\n",
       "      <th>er_UnitID</th>\n",
       "      <th>er_Timestamp</th>\n",
       "      <th>er_UnitStatus</th>\n",
       "      <th>CAD_Timestamp_Turnout</th>\n",
       "    </tr>\n",
       "  </thead>\n",
       "  <tbody>\n",
       "    <tr>\n",
       "      <th>0</th>\n",
       "      <td>E200890111</td>\n",
       "      <td>E430</td>\n",
       "      <td>2020-03-29 01:35:54</td>\n",
       "      <td>DP</td>\n",
       "      <td>E200890111</td>\n",
       "      <td>E430</td>\n",
       "      <td>2020-03-29 01:37:33</td>\n",
       "      <td>ER</td>\n",
       "      <td>0 days 00:01:39</td>\n",
       "    </tr>\n",
       "    <tr>\n",
       "      <th>1</th>\n",
       "      <td>E182263037</td>\n",
       "      <td>M414</td>\n",
       "      <td>2018-08-14 22:39:08</td>\n",
       "      <td>DP</td>\n",
       "      <td>E182263037</td>\n",
       "      <td>M414</td>\n",
       "      <td>2018-08-14 22:40:21</td>\n",
       "      <td>ER</td>\n",
       "      <td>0 days 00:01:13</td>\n",
       "    </tr>\n",
       "    <tr>\n",
       "      <th>2</th>\n",
       "      <td>E191072366</td>\n",
       "      <td>E405</td>\n",
       "      <td>2019-04-17 19:23:23</td>\n",
       "      <td>DP</td>\n",
       "      <td>E191072366</td>\n",
       "      <td>E405</td>\n",
       "      <td>2019-04-17 19:24:22</td>\n",
       "      <td>ER</td>\n",
       "      <td>0 days 00:00:59</td>\n",
       "    </tr>\n",
       "    <tr>\n",
       "      <th>3</th>\n",
       "      <td>E172781213</td>\n",
       "      <td>E405</td>\n",
       "      <td>2017-10-05 10:27:15</td>\n",
       "      <td>DP</td>\n",
       "      <td>E172781213</td>\n",
       "      <td>E405</td>\n",
       "      <td>2017-10-05 10:28:13</td>\n",
       "      <td>ER</td>\n",
       "      <td>0 days 00:00:58</td>\n",
       "    </tr>\n",
       "    <tr>\n",
       "      <th>4</th>\n",
       "      <td>E172781213</td>\n",
       "      <td>E405</td>\n",
       "      <td>2017-10-05 10:27:15</td>\n",
       "      <td>DP</td>\n",
       "      <td>E172781213</td>\n",
       "      <td>E405</td>\n",
       "      <td>2017-10-05 10:27:28</td>\n",
       "      <td>ER</td>\n",
       "      <td>0 days 00:00:13</td>\n",
       "    </tr>\n",
       "  </tbody>\n",
       "</table>\n",
       "</div>"
      ],
      "text/plain": [
       "  dp_IncidentNumber dp_UnitID        dp_Timestamp dp_UnitStatus  \\\n",
       "0        E200890111      E430 2020-03-29 01:35:54            DP   \n",
       "1        E182263037      M414 2018-08-14 22:39:08            DP   \n",
       "2        E191072366      E405 2019-04-17 19:23:23            DP   \n",
       "3        E172781213      E405 2017-10-05 10:27:15            DP   \n",
       "4        E172781213      E405 2017-10-05 10:27:15            DP   \n",
       "\n",
       "  er_IncidentNumber er_UnitID        er_Timestamp er_UnitStatus  \\\n",
       "0        E200890111      E430 2020-03-29 01:37:33            ER   \n",
       "1        E182263037      M414 2018-08-14 22:40:21            ER   \n",
       "2        E191072366      E405 2019-04-17 19:24:22            ER   \n",
       "3        E172781213      E405 2017-10-05 10:28:13            ER   \n",
       "4        E172781213      E405 2017-10-05 10:27:28            ER   \n",
       "\n",
       "  CAD_Timestamp_Turnout  \n",
       "0       0 days 00:01:39  \n",
       "1       0 days 00:01:13  \n",
       "2       0 days 00:00:59  \n",
       "3       0 days 00:00:58  \n",
       "4       0 days 00:00:13  "
      ]
     },
     "execution_count": 16,
     "metadata": {},
     "output_type": "execute_result"
    }
   ],
   "source": [
    "df.head()"
   ]
  }
 ],
 "metadata": {
  "kernelspec": {
   "display_name": "Python 3",
   "language": "python",
   "name": "python3"
  },
  "language_info": {
   "codemirror_mode": {
    "name": "ipython",
    "version": 3
   },
   "file_extension": ".py",
   "mimetype": "text/x-python",
   "name": "python",
   "nbconvert_exporter": "python",
   "pygments_lexer": "ipython3",
   "version": "3.8.8"
  }
 },
 "nbformat": 4,
 "nbformat_minor": 5
}
