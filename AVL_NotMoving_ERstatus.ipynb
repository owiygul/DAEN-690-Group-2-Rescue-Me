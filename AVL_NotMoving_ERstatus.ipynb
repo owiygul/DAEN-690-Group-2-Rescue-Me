{
 "cells": [
  {
   "cell_type": "code",
   "execution_count": 1,
   "id": "a9ab7ec6",
   "metadata": {},
   "outputs": [],
   "source": [
    "import pandas as pd\n",
    "import numpy as np\n",
    "from datetime import datetime"
   ]
  },
  {
   "cell_type": "code",
   "execution_count": 2,
   "id": "87396d35",
   "metadata": {},
   "outputs": [
    {
     "data": {
      "text/plain": [
       "AVL_IncidentNumber    0\n",
       "AVL_UnitID            0\n",
       "AVL_Timestamp         0\n",
       "AVL_UnitStatus        0\n",
       "AVL_Speed             0\n",
       "dtype: int64"
      ]
     },
     "execution_count": 2,
     "metadata": {},
     "output_type": "execute_result"
    }
   ],
   "source": [
    "avl = pd.read_csv('GMU_2021_Summer_AVL.csv')\n",
    "avl.columns = ['AVL_IncidentNumber',\n",
    "               'AVL_UnitID',\n",
    "               'AVL_Timestamp',\n",
    "               'AVL_UnitStatus',\n",
    "               'AVL_Speed']\n",
    "avl.dropna(subset = ['AVL_IncidentNumber'],\n",
    "           inplace = True)\n",
    "avl.reset_index(inplace = True, drop = True)\n",
    "avl.isna().sum()"
   ]
  },
  {
   "cell_type": "code",
   "execution_count": 3,
   "id": "4ef68128",
   "metadata": {},
   "outputs": [],
   "source": [
    "# convert object to timestamp proper\n",
    "avl['AVL_Timestamp'] = avl['AVL_Timestamp'].str.replace('ED', '')\n",
    "avl['AVL_Timestamp'] = avl['AVL_Timestamp'].str.replace('ES', '')\n",
    "avl['AVL_Timestamp'] = pd.to_datetime(avl['AVL_Timestamp'], format = '%Y%m%d%H%M%S')"
   ]
  },
  {
   "cell_type": "code",
   "execution_count": 5,
   "id": "2d15350c",
   "metadata": {},
   "outputs": [],
   "source": [
    "avl['AVL_FullKey'] = avl['AVL_IncidentNumber'].map(str) +  avl['AVL_UnitID'].map(str) +  avl['AVL_UnitStatus'].map(str)"
   ]
  },
  {
   "cell_type": "code",
   "execution_count": 9,
   "id": "42c1d45d",
   "metadata": {},
   "outputs": [],
   "source": [
    "avl = avl.sort_values(by='AVL_Timestamp', ascending=True)\n",
    "avl_CLEAN = avl.drop_duplicates(subset='AVL_FullKey', keep=\"first\", inplace=False)"
   ]
  },
  {
   "cell_type": "code",
   "execution_count": 30,
   "id": "f9763936",
   "metadata": {},
   "outputs": [],
   "source": [
    "avl_ER = avl_CLEAN[(avl_CLEAN[\"AVL_UnitStatus\"] == \"ER\")]"
   ]
  },
  {
   "cell_type": "code",
   "execution_count": 27,
   "id": "1a62a4f6",
   "metadata": {},
   "outputs": [],
   "source": [
    "notMoving_ER = avl_ER[(avl_ER[\"AVL_Speed\"] == \"not moving\")]"
   ]
  },
  {
   "cell_type": "code",
   "execution_count": 28,
   "id": "0b3d0736",
   "metadata": {},
   "outputs": [
    {
     "name": "stdout",
     "output_type": "stream",
     "text": [
      "<class 'pandas.core.frame.DataFrame'>\n",
      "Int64Index: 208134 entries, 3849903 to 17911943\n",
      "Data columns (total 6 columns):\n",
      " #   Column              Non-Null Count   Dtype         \n",
      "---  ------              --------------   -----         \n",
      " 0   AVL_IncidentNumber  208134 non-null  object        \n",
      " 1   AVL_UnitID          208134 non-null  object        \n",
      " 2   AVL_Timestamp       208134 non-null  datetime64[ns]\n",
      " 3   AVL_UnitStatus      208134 non-null  object        \n",
      " 4   AVL_Speed           208134 non-null  object        \n",
      " 5   AVL_FullKey         208134 non-null  object        \n",
      "dtypes: datetime64[ns](1), object(5)\n",
      "memory usage: 11.1+ MB\n"
     ]
    }
   ],
   "source": [
    "notMoving_ER.info()"
   ]
  },
  {
   "cell_type": "code",
   "execution_count": 29,
   "id": "02072a30",
   "metadata": {},
   "outputs": [
    {
     "data": {
      "text/plain": [
       "0.29252517188843974"
      ]
     },
     "execution_count": 29,
     "metadata": {},
     "output_type": "execute_result"
    }
   ],
   "source": [
    "208134/711508"
   ]
  },
  {
   "cell_type": "code",
   "execution_count": 16,
   "id": "4d27dbe3",
   "metadata": {},
   "outputs": [],
   "source": [
    "cad = pd.read_csv('GMU_2021_Summer_CAD.csv')\n",
    "cad['CAD_Timestamp'] = cad['CAD_Timestamp'].str.replace('ED', '')\n",
    "cad['CAD_Timestamp'] = cad['CAD_Timestamp'].str.replace('ES', '')\n",
    "cad['CAD_Timestamp'] = pd.to_datetime(cad['CAD_Timestamp'], format = '%Y%m%d%H%M%S')\n",
    "cad['CAD_FullKey'] = cad['CAD_IncidentNumber'].map(str) +  cad['CAD_UnitID'].map(str) +  cad['CAD_UnitStatus'].map(str)\n",
    "cad = cad.sort_values(by='CAD_Timestamp', ascending=True)\n",
    "cad_CLEAN = cad.drop_duplicates(subset='CAD_FullKey', keep=\"first\", inplace=False)"
   ]
  },
  {
   "cell_type": "code",
   "execution_count": 31,
   "id": "16a919b8",
   "metadata": {},
   "outputs": [],
   "source": [
    "cad_ER = cad_CLEAN[(cad_CLEAN[\"CAD_UnitStatus\"] == \"ER\")]"
   ]
  },
  {
   "cell_type": "code",
   "execution_count": 32,
   "id": "b19844e9",
   "metadata": {},
   "outputs": [
    {
     "name": "stdout",
     "output_type": "stream",
     "text": [
      "<class 'pandas.core.frame.DataFrame'>\n",
      "Int64Index: 822765 entries, 3862128 to 1702468\n",
      "Data columns (total 5 columns):\n",
      " #   Column              Non-Null Count   Dtype         \n",
      "---  ------              --------------   -----         \n",
      " 0   CAD_IncidentNumber  822765 non-null  object        \n",
      " 1   CAD_UnitID          822765 non-null  object        \n",
      " 2   CAD_Timestamp       822765 non-null  datetime64[ns]\n",
      " 3   CAD_UnitStatus      822765 non-null  object        \n",
      " 4   CAD_FullKey         822765 non-null  object        \n",
      "dtypes: datetime64[ns](1), object(4)\n",
      "memory usage: 37.7+ MB\n"
     ]
    }
   ],
   "source": [
    "cad_ER.info()"
   ]
  },
  {
   "cell_type": "code",
   "execution_count": 22,
   "id": "d41edc4f",
   "metadata": {},
   "outputs": [
    {
     "name": "stdout",
     "output_type": "stream",
     "text": [
      "<class 'pandas.core.frame.DataFrame'>\n",
      "Int64Index: 4186845 entries, 2515485 to 1702468\n",
      "Data columns (total 5 columns):\n",
      " #   Column              Dtype         \n",
      "---  ------              -----         \n",
      " 0   CAD_IncidentNumber  object        \n",
      " 1   CAD_UnitID          object        \n",
      " 2   CAD_Timestamp       datetime64[ns]\n",
      " 3   CAD_UnitStatus      object        \n",
      " 4   CAD_FullKey         object        \n",
      "dtypes: datetime64[ns](1), object(4)\n",
      "memory usage: 191.7+ MB\n"
     ]
    }
   ],
   "source": [
    "cad_CLEAN.info()"
   ]
  },
  {
   "cell_type": "code",
   "execution_count": 34,
   "id": "69ed2434",
   "metadata": {},
   "outputs": [],
   "source": [
    "df_er = cad_ER.merge(avl_CLEAN, \n",
    "               how = 'inner', \n",
    "               left_on = ['CAD_IncidentNumber',\n",
    "                          'CAD_UnitID',\n",
    "                          'CAD_UnitStatus'],\n",
    "               right_on = ['AVL_IncidentNumber',\n",
    "                           'AVL_UnitID',\n",
    "                           'AVL_UnitStatus'],\n",
    "               suffixes = ('_avl', '_cad'))"
   ]
  },
  {
   "cell_type": "code",
   "execution_count": 35,
   "id": "28dd534b",
   "metadata": {},
   "outputs": [
    {
     "name": "stdout",
     "output_type": "stream",
     "text": [
      "<class 'pandas.core.frame.DataFrame'>\n",
      "Int64Index: 711500 entries, 0 to 711499\n",
      "Data columns (total 11 columns):\n",
      " #   Column              Non-Null Count   Dtype         \n",
      "---  ------              --------------   -----         \n",
      " 0   CAD_IncidentNumber  711500 non-null  object        \n",
      " 1   CAD_UnitID          711500 non-null  object        \n",
      " 2   CAD_Timestamp       711500 non-null  datetime64[ns]\n",
      " 3   CAD_UnitStatus      711500 non-null  object        \n",
      " 4   CAD_FullKey         711500 non-null  object        \n",
      " 5   AVL_IncidentNumber  711500 non-null  object        \n",
      " 6   AVL_UnitID          711500 non-null  object        \n",
      " 7   AVL_Timestamp       711500 non-null  datetime64[ns]\n",
      " 8   AVL_UnitStatus      711500 non-null  object        \n",
      " 9   AVL_Speed           711500 non-null  object        \n",
      " 10  AVL_FullKey         711500 non-null  object        \n",
      "dtypes: datetime64[ns](2), object(9)\n",
      "memory usage: 65.1+ MB\n"
     ]
    }
   ],
   "source": [
    "df_er.info()"
   ]
  },
  {
   "cell_type": "code",
   "execution_count": 36,
   "id": "e3a328ae",
   "metadata": {},
   "outputs": [],
   "source": [
    "notMoving_cadER = df_er[(df_er[\"CAD_UnitStatus\"] == \"ER\") & (df_er[\"AVL_Speed\"] == \"not moving\")]"
   ]
  },
  {
   "cell_type": "code",
   "execution_count": 37,
   "id": "b0f8ce4b",
   "metadata": {},
   "outputs": [
    {
     "name": "stdout",
     "output_type": "stream",
     "text": [
      "<class 'pandas.core.frame.DataFrame'>\n",
      "Int64Index: 208132 entries, 6 to 711499\n",
      "Data columns (total 11 columns):\n",
      " #   Column              Non-Null Count   Dtype         \n",
      "---  ------              --------------   -----         \n",
      " 0   CAD_IncidentNumber  208132 non-null  object        \n",
      " 1   CAD_UnitID          208132 non-null  object        \n",
      " 2   CAD_Timestamp       208132 non-null  datetime64[ns]\n",
      " 3   CAD_UnitStatus      208132 non-null  object        \n",
      " 4   CAD_FullKey         208132 non-null  object        \n",
      " 5   AVL_IncidentNumber  208132 non-null  object        \n",
      " 6   AVL_UnitID          208132 non-null  object        \n",
      " 7   AVL_Timestamp       208132 non-null  datetime64[ns]\n",
      " 8   AVL_UnitStatus      208132 non-null  object        \n",
      " 9   AVL_Speed           208132 non-null  object        \n",
      " 10  AVL_FullKey         208132 non-null  object        \n",
      "dtypes: datetime64[ns](2), object(9)\n",
      "memory usage: 19.1+ MB\n"
     ]
    }
   ],
   "source": [
    "notMoving_cadER.info()"
   ]
  },
  {
   "cell_type": "code",
   "execution_count": 38,
   "id": "5d2adb11",
   "metadata": {},
   "outputs": [
    {
     "data": {
      "text/plain": [
       "0.29252565003513703"
      ]
     },
     "execution_count": 38,
     "metadata": {},
     "output_type": "execute_result"
    }
   ],
   "source": [
    "208132/711500"
   ]
  }
 ],
 "metadata": {
  "kernelspec": {
   "display_name": "Python 3",
   "language": "python",
   "name": "python3"
  },
  "language_info": {
   "codemirror_mode": {
    "name": "ipython",
    "version": 3
   },
   "file_extension": ".py",
   "mimetype": "text/x-python",
   "name": "python",
   "nbconvert_exporter": "python",
   "pygments_lexer": "ipython3",
   "version": "3.8.8"
  }
 },
 "nbformat": 4,
 "nbformat_minor": 5
}
