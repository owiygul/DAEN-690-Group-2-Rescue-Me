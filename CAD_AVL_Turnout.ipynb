{
 "cells": [
  {
   "cell_type": "code",
   "execution_count": 1,
   "id": "8824118b",
   "metadata": {},
   "outputs": [],
   "source": [
    "import pandas as pd\n",
    "import numpy as np\n",
    "from datetime import datetime"
   ]
  },
  {
   "cell_type": "code",
   "execution_count": 2,
   "id": "74188daf",
   "metadata": {},
   "outputs": [
    {
     "data": {
      "text/plain": [
       "AVL_IncidentNumber    0\n",
       "AVL_UnitID            0\n",
       "AVL_Timestamp         0\n",
       "AVL_UnitStatus        0\n",
       "AVL_Speed             0\n",
       "dtype: int64"
      ]
     },
     "execution_count": 2,
     "metadata": {},
     "output_type": "execute_result"
    }
   ],
   "source": [
    "cad = pd.read_csv('GMU_2021_Summer_CAD.csv')\n",
    "avl = pd.read_csv('GMU_2021_Summer_AVL.csv')\n",
    "avl.columns = ['AVL_IncidentNumber',\n",
    "               'AVL_UnitID',\n",
    "               'AVL_Timestamp',\n",
    "               'AVL_UnitStatus',\n",
    "               'AVL_Speed']\n",
    "avl.dropna(subset = ['AVL_IncidentNumber'],\n",
    "           inplace = True)\n",
    "avl.reset_index(inplace = True, drop = True)\n",
    "avl.isna().sum()"
   ]
  },
  {
   "cell_type": "code",
   "execution_count": 3,
   "id": "9ca248d7",
   "metadata": {},
   "outputs": [],
   "source": [
    "# convert object to timestamp proper\n",
    "avl['AVL_Timestamp'] = avl['AVL_Timestamp'].str.replace('ED', '')\n",
    "cad['CAD_Timestamp'] = cad['CAD_Timestamp'].str.replace('ED', '')\n",
    "avl['AVL_Timestamp'] = avl['AVL_Timestamp'].str.replace('ES', '')\n",
    "cad['CAD_Timestamp'] = cad['CAD_Timestamp'].str.replace('ES', '')\n",
    "avl['AVL_Timestamp'] = pd.to_datetime(avl['AVL_Timestamp'], format = '%Y%m%d%H%M%S')\n",
    "cad['CAD_Timestamp'] = pd.to_datetime(cad['CAD_Timestamp'], format = '%Y%m%d%H%M%S')"
   ]
  },
  {
   "cell_type": "code",
   "execution_count": 4,
   "id": "0691c596",
   "metadata": {},
   "outputs": [],
   "source": [
    "#Create separate dat sets of ER and DP to then be joined to to form \"transport\" entry\n",
    "cad_er = cad[cad['CAD_UnitStatus'].isin(['ER'])]\n",
    "cad_dp= cad[cad['CAD_UnitStatus'].isin(['DP'])]\n",
    "avl_er = avl[avl['AVL_UnitStatus'].isin(['ER'])]\n",
    "avl_dp= avl[avl['AVL_UnitStatus'].isin(['DP'])]"
   ]
  },
  {
   "cell_type": "code",
   "execution_count": 5,
   "id": "942b6838",
   "metadata": {},
   "outputs": [],
   "source": [
    "#rename the columns so that that are labeled CAD or AVL and er or dp data frame\n",
    "cad_er=cad_er.rename(columns={\"CAD_IncidentNumber\":\"cad_er_IncidentNumber\",\"CAD_UnitID\":\"cad_er_UnitID\",\"CAD_Timestamp\":\"cad_er_Timestamp\", \"CAD_UnitStatus\":\"cad_er_UnitStatus\"})\n",
    "cad_dp=cad_dp.rename(columns={\"CAD_IncidentNumber\":\"cad_dp_IncidentNumber\",\"CAD_UnitID\":\"cad_dp_UnitID\",\"CAD_Timestamp\":\"cad_dp_Timestamp\", \"CAD_UnitStatus\":\"cad_dp_UnitStatus\"})\n",
    "\n",
    "avl_er=avl_er.rename(columns={\"AVL_IncidentNumber\":\"avl_er_IncidentNumber\",\"AVL_UnitID\":\"avl_er_UnitID\",\"AVL_Timestamp\":\"avl_er_Timestamp\", \"AVL_UnitStatus\":\"avl_er_UnitStatus\", \"AVL_Speed\":\"avl_er_Speed\"})\n",
    "avl_dp=avl_dp.rename(columns={\"AVL_IncidentNumber\":\"avl_dp_IncidentNumber\",\"AVL_UnitID\":\"avl_dp_UnitID\",\"AVL_Timestamp\":\"avl_dp_Timestamp\", \"AVL_UnitStatus\":\"avl_dp_UnitStatus\", \"AVL_Speed\":\"avl_dp_Speed\"})"
   ]
  },
  {
   "cell_type": "code",
   "execution_count": 6,
   "id": "9d00f87f",
   "metadata": {},
   "outputs": [],
   "source": [
    "#Create the FullKey to make sure the first time entry for the ER and DP status are being taken\n",
    "cad_er['cad_er_FullKey'] = cad_er['cad_er_IncidentNumber'].map(str) +  cad_er['cad_er_UnitID'].map(str)\n",
    "cad_dp['cad_dp_FullKey'] = cad_dp['cad_dp_IncidentNumber'].map(str) +  cad_dp['cad_dp_UnitID'].map(str)\n",
    "\n",
    "avl_er['avl_er_FullKey'] = avl_er['avl_er_IncidentNumber'].map(str) +  avl_er['avl_er_UnitID'].map(str)\n",
    "avl_dp['avl_dp_FullKey'] = avl_dp['avl_dp_IncidentNumber'].map(str) +  avl_dp['avl_dp_UnitID'].map(str)\n",
    "\n",
    "#for validation note that there are currently duplicates in the data frames\n",
    "dups_cad_er = cad_er.pivot_table(index = ['cad_er_FullKey'], aggfunc ='size').sort_values(ascending=False)\n",
    "# print(dups_cad_er)\n",
    "dups_cad_dp = cad_dp.pivot_table(index = ['cad_dp_FullKey'], aggfunc ='size').sort_values(ascending=False)\n",
    "# print(dups_cad_dp)\n",
    "\n",
    "dups_avl_er = avl_er.pivot_table(index = ['avl_er_FullKey'], aggfunc ='size').sort_values(ascending=False)\n",
    "# print(dups_avl_er)\n",
    "dups_avl_dp = avl_dp.pivot_table(index = ['avl_dp_FullKey'], aggfunc ='size').sort_values(ascending=False)\n",
    "# print(dups_avl_dp)"
   ]
  },
  {
   "cell_type": "code",
   "execution_count": 7,
   "id": "d1b16169",
   "metadata": {},
   "outputs": [],
   "source": [
    "#sort both dataframes by timestamp so when dups are removed taking the first time stamp\n",
    "cad_er.sort_values(by='cad_er_Timestamp', ascending=True)\n",
    "cad_dp.sort_values(by='cad_dp_Timestamp', ascending=True)\n",
    "\n",
    "avl_er.sort_values(by='avl_er_Timestamp', ascending=True)\n",
    "avl_dp.sort_values(by='avl_dp_Timestamp', ascending=True)\n",
    "\n",
    "#Remove duplicates from each dataframe, so each unit ID is only DP or ER to an incident once\n",
    "cad_er_NEW = cad_er.drop_duplicates(subset='cad_er_FullKey', keep=\"first\", inplace=False)\n",
    "cad_dp_NEW = cad_dp.drop_duplicates(subset='cad_dp_FullKey', keep=\"first\", inplace=False)\n",
    "\n",
    "avl_er_NEW = avl_er.drop_duplicates(subset='avl_er_FullKey', keep=\"first\", inplace=False)\n",
    "avl_dp_NEW = avl_dp.drop_duplicates(subset='avl_dp_FullKey', keep=\"first\", inplace=False)"
   ]
  },
  {
   "cell_type": "code",
   "execution_count": 8,
   "id": "72d7288d",
   "metadata": {},
   "outputs": [],
   "source": [
    "#For Validation confirm that there are NOT currently duplicate values\n",
    "dups_cad_er_NEW = cad_er_NEW.pivot_table(index = ['cad_er_FullKey'], aggfunc ='size').sort_values(ascending=False)\n",
    "# print(dups_cad_er_NEW)\n",
    "dups_cad_dp_NEW = cad_dp_NEW.pivot_table(index = ['cad_dp_FullKey'], aggfunc ='size').sort_values(ascending=False)\n",
    "# print(dups_cad_dp_NEW)\n",
    "\n",
    "dups_avl_er_NEW = avl_er_NEW.pivot_table(index = ['avl_er_FullKey'], aggfunc ='size').sort_values(ascending=False)\n",
    "# print(dups_avl_er_NEW)\n",
    "dups_avl_dp_NEW = avl_dp_NEW.pivot_table(index = ['avl_dp_FullKey'], aggfunc ='size').sort_values(ascending=False)\n",
    "# print(dups_avl_dp_NEW)"
   ]
  },
  {
   "cell_type": "code",
   "execution_count": 9,
   "id": "62bcd32c",
   "metadata": {},
   "outputs": [],
   "source": [
    "#join the CAD data framaes together and then the AVL dataframes together\n",
    "df_cad = cad_dp_NEW.merge(cad_er_NEW, \n",
    "               how = 'inner', \n",
    "               left_on = ['cad_dp_IncidentNumber',\n",
    "                          'cad_dp_UnitID'],\n",
    "               right_on = ['cad_er_IncidentNumber',\n",
    "                           'cad_er_UnitID'],\n",
    "               suffixes = ('cad_dp', 'cad_er'))\n",
    "\n",
    "df_avl = avl_dp_NEW.merge(avl_er_NEW, \n",
    "               how = 'inner', \n",
    "               left_on = ['avl_dp_IncidentNumber',\n",
    "                          'avl_dp_UnitID'],\n",
    "               right_on = ['avl_er_IncidentNumber',\n",
    "                           'avl_er_UnitID'],\n",
    "               suffixes = ('avl_dp', 'avl_er'))"
   ]
  },
  {
   "cell_type": "code",
   "execution_count": 10,
   "id": "42a666af",
   "metadata": {},
   "outputs": [],
   "source": [
    "# create turnout col in merged dataframe\n",
    "df_cad['cad_Timestamp_Turnout'] = abs(df_cad['cad_er_Timestamp'] - df_cad['cad_dp_Timestamp'])\n",
    "\n",
    "df_avl['avl_Timestamp_Turnout'] = abs(df_avl['avl_er_Timestamp'] - df_avl['avl_dp_Timestamp'])"
   ]
  },
  {
   "cell_type": "code",
   "execution_count": 11,
   "id": "13aad2ee",
   "metadata": {},
   "outputs": [],
   "source": [
    "#convert the turnout time into seconds for simplier analysis\n",
    "df_CADless60 = df_cad[df_cad['cad_Timestamp_Turnout'].dt.total_seconds() <= 60]\n",
    "df_AVLless60 = df_avl[df_avl['avl_Timestamp_Turnout'].dt.total_seconds() <= 60]"
   ]
  },
  {
   "cell_type": "code",
   "execution_count": 12,
   "id": "8c99f6cc",
   "metadata": {},
   "outputs": [],
   "source": [
    "# #Different Analytics\n",
    "# df_cad.info()\n",
    "# df_CADless60.info()\n",
    "# 516138/822376\n",
    "# #about 63% of incidents had a turnout time of 60 seconds or less in CAD dataset\n",
    "\n",
    "# df_avl.info()\n",
    "# df_AVLless60.info()\n",
    "# 23061/44420\n",
    "# #only about 52% of incidents had a turnout time of 60 seconds or less in CAD dataset"
   ]
  },
  {
   "cell_type": "code",
   "execution_count": 13,
   "id": "44f1a30d",
   "metadata": {},
   "outputs": [
    {
     "data": {
      "text/plain": [
       "Timedelta('0 days 00:03:37.305920756')"
      ]
     },
     "execution_count": 13,
     "metadata": {},
     "output_type": "execute_result"
    }
   ],
   "source": [
    "df_avl[\"avl_Timestamp_Turnout\"].mean()"
   ]
  },
  {
   "cell_type": "code",
   "execution_count": 14,
   "id": "6671ea6c",
   "metadata": {},
   "outputs": [
    {
     "data": {
      "text/plain": [
       "Timedelta('0 days 00:01:17.788538332')"
      ]
     },
     "execution_count": 14,
     "metadata": {},
     "output_type": "execute_result"
    }
   ],
   "source": [
    "df_cad[\"cad_Timestamp_Turnout\"].mean()"
   ]
  },
  {
   "cell_type": "code",
   "execution_count": 15,
   "id": "e1b2e51a",
   "metadata": {},
   "outputs": [
    {
     "data": {
      "text/plain": [
       "Timedelta('11 days 05:19:44')"
      ]
     },
     "execution_count": 15,
     "metadata": {},
     "output_type": "execute_result"
    }
   ],
   "source": [
    "df_cad[\"cad_Timestamp_Turnout\"].max()"
   ]
  },
  {
   "cell_type": "code",
   "execution_count": 16,
   "id": "98fa2df7",
   "metadata": {},
   "outputs": [
    {
     "data": {
      "text/plain": [
       "Timedelta('11 days 05:24:47')"
      ]
     },
     "execution_count": 16,
     "metadata": {},
     "output_type": "execute_result"
    }
   ],
   "source": [
    "df_avl[\"avl_Timestamp_Turnout\"].max()"
   ]
  },
  {
   "cell_type": "code",
   "execution_count": 17,
   "id": "768cd338",
   "metadata": {},
   "outputs": [
    {
     "data": {
      "text/plain": [
       "Timedelta('0 days 00:00:00')"
      ]
     },
     "execution_count": 17,
     "metadata": {},
     "output_type": "execute_result"
    }
   ],
   "source": [
    "df_cad[\"cad_Timestamp_Turnout\"].min()"
   ]
  },
  {
   "cell_type": "code",
   "execution_count": 18,
   "id": "fe3f7eb9",
   "metadata": {},
   "outputs": [
    {
     "data": {
      "text/plain": [
       "Timedelta('0 days 00:00:00')"
      ]
     },
     "execution_count": 18,
     "metadata": {},
     "output_type": "execute_result"
    }
   ],
   "source": [
    "df_avl[\"avl_Timestamp_Turnout\"].min()"
   ]
  },
  {
   "cell_type": "code",
   "execution_count": 19,
   "id": "8c2317b9",
   "metadata": {},
   "outputs": [
    {
     "name": "stdout",
     "output_type": "stream",
     "text": [
      "<class 'pandas.core.frame.DataFrame'>\n",
      "Int64Index: 28855 entries, 45 to 822343\n",
      "Data columns (total 11 columns):\n",
      " #   Column                 Non-Null Count  Dtype          \n",
      "---  ------                 --------------  -----          \n",
      " 0   cad_dp_IncidentNumber  28855 non-null  object         \n",
      " 1   cad_dp_UnitID          28855 non-null  object         \n",
      " 2   cad_dp_Timestamp       28855 non-null  datetime64[ns] \n",
      " 3   cad_dp_UnitStatus      28855 non-null  object         \n",
      " 4   cad_dp_FullKey         28855 non-null  object         \n",
      " 5   cad_er_IncidentNumber  28855 non-null  object         \n",
      " 6   cad_er_UnitID          28855 non-null  object         \n",
      " 7   cad_er_Timestamp       28855 non-null  datetime64[ns] \n",
      " 8   cad_er_UnitStatus      28855 non-null  object         \n",
      " 9   cad_er_FullKey         28855 non-null  object         \n",
      " 10  cad_Timestamp_Turnout  28855 non-null  timedelta64[ns]\n",
      "dtypes: datetime64[ns](2), object(8), timedelta64[ns](1)\n",
      "memory usage: 2.6+ MB\n"
     ]
    }
   ],
   "source": [
    "df_cad[df_cad['cad_Timestamp_Turnout'].isin(['0 days 00:00:00'])].info()"
   ]
  },
  {
   "cell_type": "code",
   "execution_count": 20,
   "id": "54003cf1",
   "metadata": {},
   "outputs": [
    {
     "name": "stdout",
     "output_type": "stream",
     "text": [
      "<class 'pandas.core.frame.DataFrame'>\n",
      "Int64Index: 40 entries, 998 to 36197\n",
      "Data columns (total 13 columns):\n",
      " #   Column                 Non-Null Count  Dtype          \n",
      "---  ------                 --------------  -----          \n",
      " 0   avl_dp_IncidentNumber  40 non-null     object         \n",
      " 1   avl_dp_UnitID          40 non-null     object         \n",
      " 2   avl_dp_Timestamp       40 non-null     datetime64[ns] \n",
      " 3   avl_dp_UnitStatus      40 non-null     object         \n",
      " 4   avl_dp_Speed           40 non-null     object         \n",
      " 5   avl_dp_FullKey         40 non-null     object         \n",
      " 6   avl_er_IncidentNumber  40 non-null     object         \n",
      " 7   avl_er_UnitID          40 non-null     object         \n",
      " 8   avl_er_Timestamp       40 non-null     datetime64[ns] \n",
      " 9   avl_er_UnitStatus      40 non-null     object         \n",
      " 10  avl_er_Speed           40 non-null     object         \n",
      " 11  avl_er_FullKey         40 non-null     object         \n",
      " 12  avl_Timestamp_Turnout  40 non-null     timedelta64[ns]\n",
      "dtypes: datetime64[ns](2), object(10), timedelta64[ns](1)\n",
      "memory usage: 4.4+ KB\n"
     ]
    }
   ],
   "source": [
    "df_avl[df_avl['avl_Timestamp_Turnout'].isin(['0 days 00:00:00'])].info()"
   ]
  },
  {
   "cell_type": "code",
   "execution_count": 21,
   "id": "ca84cbb9",
   "metadata": {},
   "outputs": [
    {
     "data": {
      "text/html": [
       "<div>\n",
       "<style scoped>\n",
       "    .dataframe tbody tr th:only-of-type {\n",
       "        vertical-align: middle;\n",
       "    }\n",
       "\n",
       "    .dataframe tbody tr th {\n",
       "        vertical-align: top;\n",
       "    }\n",
       "\n",
       "    .dataframe thead th {\n",
       "        text-align: right;\n",
       "    }\n",
       "</style>\n",
       "<table border=\"1\" class=\"dataframe\">\n",
       "  <thead>\n",
       "    <tr style=\"text-align: right;\">\n",
       "      <th></th>\n",
       "      <th>cad_dp_IncidentNumber</th>\n",
       "      <th>cad_dp_UnitID</th>\n",
       "      <th>cad_dp_Timestamp</th>\n",
       "      <th>cad_dp_UnitStatus</th>\n",
       "      <th>cad_dp_FullKey</th>\n",
       "      <th>cad_er_IncidentNumber</th>\n",
       "      <th>cad_er_UnitID</th>\n",
       "      <th>cad_er_Timestamp</th>\n",
       "      <th>cad_er_UnitStatus</th>\n",
       "      <th>cad_er_FullKey</th>\n",
       "      <th>cad_Timestamp_Turnout</th>\n",
       "    </tr>\n",
       "  </thead>\n",
       "  <tbody>\n",
       "    <tr>\n",
       "      <th>206080</th>\n",
       "      <td>E170333099</td>\n",
       "      <td>R419</td>\n",
       "      <td>2017-02-14 02:30:56</td>\n",
       "      <td>DP</td>\n",
       "      <td>E170333099R419</td>\n",
       "      <td>E170333099</td>\n",
       "      <td>R419</td>\n",
       "      <td>2017-02-02 21:11:12</td>\n",
       "      <td>ER</td>\n",
       "      <td>E170333099R419</td>\n",
       "      <td>11 days 05:19:44</td>\n",
       "    </tr>\n",
       "  </tbody>\n",
       "</table>\n",
       "</div>"
      ],
      "text/plain": [
       "       cad_dp_IncidentNumber cad_dp_UnitID    cad_dp_Timestamp  \\\n",
       "206080            E170333099          R419 2017-02-14 02:30:56   \n",
       "\n",
       "       cad_dp_UnitStatus  cad_dp_FullKey cad_er_IncidentNumber cad_er_UnitID  \\\n",
       "206080                DP  E170333099R419            E170333099          R419   \n",
       "\n",
       "          cad_er_Timestamp cad_er_UnitStatus  cad_er_FullKey  \\\n",
       "206080 2017-02-02 21:11:12                ER  E170333099R419   \n",
       "\n",
       "       cad_Timestamp_Turnout  \n",
       "206080      11 days 05:19:44  "
      ]
     },
     "execution_count": 21,
     "metadata": {},
     "output_type": "execute_result"
    }
   ],
   "source": [
    "df_cad[df_cad['cad_Timestamp_Turnout'].isin(['11 days 05:19:44'])]"
   ]
  },
  {
   "cell_type": "code",
   "execution_count": 22,
   "id": "5ab47988",
   "metadata": {},
   "outputs": [
    {
     "data": {
      "text/html": [
       "<div>\n",
       "<style scoped>\n",
       "    .dataframe tbody tr th:only-of-type {\n",
       "        vertical-align: middle;\n",
       "    }\n",
       "\n",
       "    .dataframe tbody tr th {\n",
       "        vertical-align: top;\n",
       "    }\n",
       "\n",
       "    .dataframe thead th {\n",
       "        text-align: right;\n",
       "    }\n",
       "</style>\n",
       "<table border=\"1\" class=\"dataframe\">\n",
       "  <thead>\n",
       "    <tr style=\"text-align: right;\">\n",
       "      <th></th>\n",
       "      <th>avl_dp_IncidentNumber</th>\n",
       "      <th>avl_dp_UnitID</th>\n",
       "      <th>avl_dp_Timestamp</th>\n",
       "      <th>avl_dp_UnitStatus</th>\n",
       "      <th>avl_dp_Speed</th>\n",
       "      <th>avl_dp_FullKey</th>\n",
       "      <th>avl_er_IncidentNumber</th>\n",
       "      <th>avl_er_UnitID</th>\n",
       "      <th>avl_er_Timestamp</th>\n",
       "      <th>avl_er_UnitStatus</th>\n",
       "      <th>avl_er_Speed</th>\n",
       "      <th>avl_er_FullKey</th>\n",
       "      <th>avl_Timestamp_Turnout</th>\n",
       "    </tr>\n",
       "  </thead>\n",
       "  <tbody>\n",
       "    <tr>\n",
       "      <th>14726</th>\n",
       "      <td>E170333099</td>\n",
       "      <td>R419</td>\n",
       "      <td>2017-02-14 02:37:33</td>\n",
       "      <td>DP</td>\n",
       "      <td>not moving</td>\n",
       "      <td>E170333099R419</td>\n",
       "      <td>E170333099</td>\n",
       "      <td>R419</td>\n",
       "      <td>2017-02-02 21:12:46</td>\n",
       "      <td>ER</td>\n",
       "      <td>moving</td>\n",
       "      <td>E170333099R419</td>\n",
       "      <td>11 days 05:24:47</td>\n",
       "    </tr>\n",
       "  </tbody>\n",
       "</table>\n",
       "</div>"
      ],
      "text/plain": [
       "      avl_dp_IncidentNumber avl_dp_UnitID    avl_dp_Timestamp  \\\n",
       "14726            E170333099          R419 2017-02-14 02:37:33   \n",
       "\n",
       "      avl_dp_UnitStatus avl_dp_Speed  avl_dp_FullKey avl_er_IncidentNumber  \\\n",
       "14726                DP   not moving  E170333099R419            E170333099   \n",
       "\n",
       "      avl_er_UnitID    avl_er_Timestamp avl_er_UnitStatus avl_er_Speed  \\\n",
       "14726          R419 2017-02-02 21:12:46                ER       moving   \n",
       "\n",
       "       avl_er_FullKey avl_Timestamp_Turnout  \n",
       "14726  E170333099R419      11 days 05:24:47  "
      ]
     },
     "execution_count": 22,
     "metadata": {},
     "output_type": "execute_result"
    }
   ],
   "source": [
    "df_avl[df_avl['avl_Timestamp_Turnout'].isin(['11 days 05:24:47'])]"
   ]
  },
  {
   "cell_type": "code",
   "execution_count": 23,
   "id": "7c883a74",
   "metadata": {},
   "outputs": [],
   "source": [
    "cad_SORT = cad.sort_values('CAD_Timestamp').groupby(['CAD_IncidentNumber','CAD_UnitID','CAD_UnitStatus'])['CAD_Timestamp'].agg(['first'])"
   ]
  },
  {
   "cell_type": "code",
   "execution_count": null,
   "id": "d3ac720a-f15a-44b3-81a8-f2cf7661f07b",
   "metadata": {},
   "outputs": [],
   "source": []
  },
  {
   "cell_type": "code",
   "execution_count": 24,
   "id": "af827edd-000e-4e82-9a86-7cdc118f7e39",
   "metadata": {},
   "outputs": [],
   "source": [
    "avl_SORT = avl.sort_values('AVL_Timestamp').groupby(['AVL_IncidentNumber','AVL_UnitID','AVL_UnitStatus'])['AVL_Timestamp'].agg(['first'])"
   ]
  },
  {
   "cell_type": "code",
   "execution_count": 25,
   "id": "9e32729c-2d6e-4f9a-8c10-d82cebf17f9e",
   "metadata": {},
   "outputs": [],
   "source": [
    "cad_SORT = cad_SORT.reset_index()"
   ]
  },
  {
   "cell_type": "code",
   "execution_count": 26,
   "id": "5f80c3fb-ed4f-47ba-ab6d-31da1b545fdf",
   "metadata": {},
   "outputs": [],
   "source": [
    "avl_SORT = avl_SORT.reset_index()"
   ]
  },
  {
   "cell_type": "code",
   "execution_count": 27,
   "id": "0979c64e-b0f5-48ee-8cde-f59f48dcc65b",
   "metadata": {},
   "outputs": [
    {
     "data": {
      "text/html": [
       "<div>\n",
       "<style scoped>\n",
       "    .dataframe tbody tr th:only-of-type {\n",
       "        vertical-align: middle;\n",
       "    }\n",
       "\n",
       "    .dataframe tbody tr th {\n",
       "        vertical-align: top;\n",
       "    }\n",
       "\n",
       "    .dataframe thead th {\n",
       "        text-align: right;\n",
       "    }\n",
       "</style>\n",
       "<table border=\"1\" class=\"dataframe\">\n",
       "  <thead>\n",
       "    <tr style=\"text-align: right;\">\n",
       "      <th></th>\n",
       "      <th>CAD_IncidentNumber</th>\n",
       "      <th>CAD_UnitID</th>\n",
       "      <th>CAD_UnitStatus</th>\n",
       "      <th>first</th>\n",
       "    </tr>\n",
       "  </thead>\n",
       "  <tbody>\n",
       "    <tr>\n",
       "      <th>0</th>\n",
       "      <td>70018</td>\n",
       "      <td>M401</td>\n",
       "      <td>TA</td>\n",
       "      <td>2020-08-29 11:46:22</td>\n",
       "    </tr>\n",
       "    <tr>\n",
       "      <th>1</th>\n",
       "      <td>70018</td>\n",
       "      <td>M401</td>\n",
       "      <td>UC</td>\n",
       "      <td>2020-08-29 12:44:57</td>\n",
       "    </tr>\n",
       "    <tr>\n",
       "      <th>2</th>\n",
       "      <td>70018</td>\n",
       "      <td>M401</td>\n",
       "      <td>UE</td>\n",
       "      <td>2020-08-29 12:44:56</td>\n",
       "    </tr>\n",
       "    <tr>\n",
       "      <th>3</th>\n",
       "      <td>70018</td>\n",
       "      <td>M401</td>\n",
       "      <td>UU</td>\n",
       "      <td>2020-08-29 12:44:56</td>\n",
       "    </tr>\n",
       "    <tr>\n",
       "      <th>4</th>\n",
       "      <td>70135</td>\n",
       "      <td>E413</td>\n",
       "      <td>ER</td>\n",
       "      <td>2017-05-24 08:08:45</td>\n",
       "    </tr>\n",
       "  </tbody>\n",
       "</table>\n",
       "</div>"
      ],
      "text/plain": [
       "  CAD_IncidentNumber CAD_UnitID CAD_UnitStatus               first\n",
       "0              70018       M401             TA 2020-08-29 11:46:22\n",
       "1              70018       M401             UC 2020-08-29 12:44:57\n",
       "2              70018       M401             UE 2020-08-29 12:44:56\n",
       "3              70018       M401             UU 2020-08-29 12:44:56\n",
       "4              70135       E413             ER 2017-05-24 08:08:45"
      ]
     },
     "execution_count": 27,
     "metadata": {},
     "output_type": "execute_result"
    }
   ],
   "source": [
    "cad_SORT.head()"
   ]
  },
  {
   "cell_type": "code",
   "execution_count": 28,
   "id": "bcb80af2-7fc7-4a75-a659-9d8db90218a4",
   "metadata": {},
   "outputs": [
    {
     "data": {
      "text/html": [
       "<div>\n",
       "<style scoped>\n",
       "    .dataframe tbody tr th:only-of-type {\n",
       "        vertical-align: middle;\n",
       "    }\n",
       "\n",
       "    .dataframe tbody tr th {\n",
       "        vertical-align: top;\n",
       "    }\n",
       "\n",
       "    .dataframe thead th {\n",
       "        text-align: right;\n",
       "    }\n",
       "</style>\n",
       "<table border=\"1\" class=\"dataframe\">\n",
       "  <thead>\n",
       "    <tr style=\"text-align: right;\">\n",
       "      <th></th>\n",
       "      <th>AVL_IncidentNumber</th>\n",
       "      <th>AVL_UnitID</th>\n",
       "      <th>AVL_UnitStatus</th>\n",
       "      <th>first</th>\n",
       "    </tr>\n",
       "  </thead>\n",
       "  <tbody>\n",
       "    <tr>\n",
       "      <th>0</th>\n",
       "      <td>E163662437</td>\n",
       "      <td>M429</td>\n",
       "      <td>TA</td>\n",
       "      <td>2017-01-01 00:09:23</td>\n",
       "    </tr>\n",
       "    <tr>\n",
       "      <th>1</th>\n",
       "      <td>E163662542</td>\n",
       "      <td>E429</td>\n",
       "      <td>OS</td>\n",
       "      <td>2017-01-01 00:02:00</td>\n",
       "    </tr>\n",
       "    <tr>\n",
       "      <th>2</th>\n",
       "      <td>E163662542</td>\n",
       "      <td>TT429</td>\n",
       "      <td>OS</td>\n",
       "      <td>2017-01-01 00:02:14</td>\n",
       "    </tr>\n",
       "    <tr>\n",
       "      <th>3</th>\n",
       "      <td>E163662548</td>\n",
       "      <td>M404</td>\n",
       "      <td>TA</td>\n",
       "      <td>2017-01-01 00:18:41</td>\n",
       "    </tr>\n",
       "    <tr>\n",
       "      <th>4</th>\n",
       "      <td>E163662548</td>\n",
       "      <td>M404</td>\n",
       "      <td>TR</td>\n",
       "      <td>2017-01-01 00:05:04</td>\n",
       "    </tr>\n",
       "  </tbody>\n",
       "</table>\n",
       "</div>"
      ],
      "text/plain": [
       "  AVL_IncidentNumber AVL_UnitID AVL_UnitStatus               first\n",
       "0         E163662437       M429             TA 2017-01-01 00:09:23\n",
       "1         E163662542       E429             OS 2017-01-01 00:02:00\n",
       "2         E163662542      TT429             OS 2017-01-01 00:02:14\n",
       "3         E163662548       M404             TA 2017-01-01 00:18:41\n",
       "4         E163662548       M404             TR 2017-01-01 00:05:04"
      ]
     },
     "execution_count": 28,
     "metadata": {},
     "output_type": "execute_result"
    }
   ],
   "source": [
    "avl_SORT.head()"
   ]
  },
  {
   "cell_type": "code",
   "execution_count": 29,
   "id": "8d80c451-394d-4072-8953-2b461b9b36e9",
   "metadata": {},
   "outputs": [],
   "source": [
    "sort = avl_SORT.merge(cad_SORT, \n",
    "               how = 'inner', \n",
    "               left_on = ['AVL_IncidentNumber',\n",
    "                          'AVL_UnitID',\n",
    "                          'AVL_UnitStatus'],\n",
    "               right_on = ['CAD_IncidentNumber',\n",
    "                           'CAD_UnitID',\n",
    "                           'CAD_UnitStatus'],\n",
    "               suffixes = ('avl', 'cad'))\n",
    "\n"
   ]
  },
  {
   "cell_type": "code",
   "execution_count": 30,
   "id": "d1687cff-8dbe-4c7e-aa0e-8db047b37363",
   "metadata": {},
   "outputs": [
    {
     "data": {
      "text/html": [
       "<div>\n",
       "<style scoped>\n",
       "    .dataframe tbody tr th:only-of-type {\n",
       "        vertical-align: middle;\n",
       "    }\n",
       "\n",
       "    .dataframe tbody tr th {\n",
       "        vertical-align: top;\n",
       "    }\n",
       "\n",
       "    .dataframe thead th {\n",
       "        text-align: right;\n",
       "    }\n",
       "</style>\n",
       "<table border=\"1\" class=\"dataframe\">\n",
       "  <thead>\n",
       "    <tr style=\"text-align: right;\">\n",
       "      <th></th>\n",
       "      <th>AVL_IncidentNumber</th>\n",
       "      <th>AVL_UnitID</th>\n",
       "      <th>AVL_UnitStatus</th>\n",
       "      <th>firstavl</th>\n",
       "      <th>CAD_IncidentNumber</th>\n",
       "      <th>CAD_UnitID</th>\n",
       "      <th>CAD_UnitStatus</th>\n",
       "      <th>firstcad</th>\n",
       "    </tr>\n",
       "  </thead>\n",
       "  <tbody>\n",
       "    <tr>\n",
       "      <th>0</th>\n",
       "      <td>E163662548</td>\n",
       "      <td>M404</td>\n",
       "      <td>TA</td>\n",
       "      <td>2017-01-01 00:18:41</td>\n",
       "      <td>E163662548</td>\n",
       "      <td>M404</td>\n",
       "      <td>TA</td>\n",
       "      <td>2017-01-01 00:08:42</td>\n",
       "    </tr>\n",
       "    <tr>\n",
       "      <th>1</th>\n",
       "      <td>E163662548</td>\n",
       "      <td>M404</td>\n",
       "      <td>TR</td>\n",
       "      <td>2017-01-01 00:05:04</td>\n",
       "      <td>E163662548</td>\n",
       "      <td>M404</td>\n",
       "      <td>TR</td>\n",
       "      <td>2017-01-01 00:04:03</td>\n",
       "    </tr>\n",
       "    <tr>\n",
       "      <th>2</th>\n",
       "      <td>E163662555</td>\n",
       "      <td>M402</td>\n",
       "      <td>TA</td>\n",
       "      <td>2017-01-01 01:19:54</td>\n",
       "      <td>E163662555</td>\n",
       "      <td>M402</td>\n",
       "      <td>TA</td>\n",
       "      <td>2017-01-01 00:23:01</td>\n",
       "    </tr>\n",
       "    <tr>\n",
       "      <th>3</th>\n",
       "      <td>E163662555</td>\n",
       "      <td>M402</td>\n",
       "      <td>TR</td>\n",
       "      <td>2017-01-01 00:11:18</td>\n",
       "      <td>E163662555</td>\n",
       "      <td>M402</td>\n",
       "      <td>TR</td>\n",
       "      <td>2017-01-01 00:10:42</td>\n",
       "    </tr>\n",
       "    <tr>\n",
       "      <th>4</th>\n",
       "      <td>E163662561</td>\n",
       "      <td>M408B</td>\n",
       "      <td>WP</td>\n",
       "      <td>2017-01-01 00:09:18</td>\n",
       "      <td>E163662561</td>\n",
       "      <td>M408B</td>\n",
       "      <td>WP</td>\n",
       "      <td>2017-01-01 00:05:55</td>\n",
       "    </tr>\n",
       "  </tbody>\n",
       "</table>\n",
       "</div>"
      ],
      "text/plain": [
       "  AVL_IncidentNumber AVL_UnitID AVL_UnitStatus            firstavl  \\\n",
       "0         E163662548       M404             TA 2017-01-01 00:18:41   \n",
       "1         E163662548       M404             TR 2017-01-01 00:05:04   \n",
       "2         E163662555       M402             TA 2017-01-01 01:19:54   \n",
       "3         E163662555       M402             TR 2017-01-01 00:11:18   \n",
       "4         E163662561      M408B             WP 2017-01-01 00:09:18   \n",
       "\n",
       "  CAD_IncidentNumber CAD_UnitID CAD_UnitStatus            firstcad  \n",
       "0         E163662548       M404             TA 2017-01-01 00:08:42  \n",
       "1         E163662548       M404             TR 2017-01-01 00:04:03  \n",
       "2         E163662555       M402             TA 2017-01-01 00:23:01  \n",
       "3         E163662555       M402             TR 2017-01-01 00:10:42  \n",
       "4         E163662561      M408B             WP 2017-01-01 00:05:55  "
      ]
     },
     "execution_count": 30,
     "metadata": {},
     "output_type": "execute_result"
    }
   ],
   "source": [
    "sort.head()"
   ]
  },
  {
   "cell_type": "code",
   "execution_count": 31,
   "id": "c61b18c1-6170-44f1-8a2d-23a262957a1f",
   "metadata": {},
   "outputs": [],
   "source": [
    "sort['delta'] = abs(sort['firstavl'] - sort['firstcad'])"
   ]
  },
  {
   "cell_type": "code",
   "execution_count": 32,
   "id": "787cca7e-801b-4dfc-8d15-0dec7455a0fc",
   "metadata": {},
   "outputs": [],
   "source": [
    "import matplotlib.pyplot as plt"
   ]
  },
  {
   "cell_type": "code",
   "execution_count": 33,
   "id": "8e6e2afa-7170-44f9-b1f2-1e767be8107e",
   "metadata": {},
   "outputs": [
    {
     "data": {
      "image/png": "[encoded data removed]",
      "text/plain": [
       "<Figure size 432x288 with 1 Axes>"
      ]
     },
     "metadata": {
      "needs_background": "light"
     },
     "output_type": "display_data"
    }
   ],
   "source": [
    "(sort['delta'] / pd.Timedelta(minutes=1)).hist()\n",
    "deltas = (sort['delta'] / pd.Timedelta(minutes=1))\n",
    "plt.title('AVL and CAD Timestamp Deltas')\n",
    "plt.xlabel('Delta (minutes)')\n",
    "plt.ylabel('Count of Instances');"
   ]
  },
  {
   "cell_type": "code",
   "execution_count": 34,
   "id": "84cfe594-2a1d-4e25-8c69-b32eb0638041",
   "metadata": {},
   "outputs": [
    {
     "data": {
      "image/png": "[encoded data removed]",
      "text/plain": [
       "<Figure size 432x288 with 1 Axes>"
      ]
     },
     "metadata": {
      "needs_background": "light"
     },
     "output_type": "display_data"
    }
   ],
   "source": [
    "(sort[sort['delta'] < sort['delta'].max()/565]['delta'] / pd.Timedelta(minutes=1)).hist()\n",
    "plt.title('AVL and CAD Timestamp Deltas (<30 Mins)')\n",
    "plt.xlabel('Delta (minutes)')\n",
    "plt.ylabel('Count of Instances');"
   ]
  },
  {
   "cell_type": "code",
   "execution_count": 35,
   "id": "26c6d366-d178-4ea9-8eff-0a38bae2403e",
   "metadata": {},
   "outputs": [
    {
     "data": {
      "text/html": [
       "<div>\n",
       "<style scoped>\n",
       "    .dataframe tbody tr th:only-of-type {\n",
       "        vertical-align: middle;\n",
       "    }\n",
       "\n",
       "    .dataframe tbody tr th {\n",
       "        vertical-align: top;\n",
       "    }\n",
       "\n",
       "    .dataframe thead th {\n",
       "        text-align: right;\n",
       "    }\n",
       "</style>\n",
       "<table border=\"1\" class=\"dataframe\">\n",
       "  <thead>\n",
       "    <tr style=\"text-align: right;\">\n",
       "      <th></th>\n",
       "      <th>AVL_IncidentNumber</th>\n",
       "      <th>AVL_UnitID</th>\n",
       "      <th>AVL_UnitStatus</th>\n",
       "      <th>firstavl</th>\n",
       "      <th>CAD_IncidentNumber</th>\n",
       "      <th>CAD_UnitID</th>\n",
       "      <th>CAD_UnitStatus</th>\n",
       "      <th>firstcad</th>\n",
       "      <th>delta</th>\n",
       "    </tr>\n",
       "  </thead>\n",
       "  <tbody>\n",
       "    <tr>\n",
       "      <th>40023</th>\n",
       "      <td>E170333099</td>\n",
       "      <td>R419</td>\n",
       "      <td>DP</td>\n",
       "      <td>2017-02-14 02:37:33</td>\n",
       "      <td>E170333099</td>\n",
       "      <td>R419</td>\n",
       "      <td>DP</td>\n",
       "      <td>2017-02-02 21:10:37</td>\n",
       "      <td>11 days 05:26:56</td>\n",
       "    </tr>\n",
       "    <tr>\n",
       "      <th>40017</th>\n",
       "      <td>E170333099</td>\n",
       "      <td>R414</td>\n",
       "      <td>DP</td>\n",
       "      <td>2017-02-13 22:30:27</td>\n",
       "      <td>E170333099</td>\n",
       "      <td>R414</td>\n",
       "      <td>DP</td>\n",
       "      <td>2017-02-03 12:34:19</td>\n",
       "      <td>10 days 09:56:08</td>\n",
       "    </tr>\n",
       "    <tr>\n",
       "      <th>39919</th>\n",
       "      <td>E170333099</td>\n",
       "      <td>E419</td>\n",
       "      <td>DP</td>\n",
       "      <td>2017-02-13 02:46:21</td>\n",
       "      <td>E170333099</td>\n",
       "      <td>E419</td>\n",
       "      <td>DP</td>\n",
       "      <td>2017-02-02 21:10:25</td>\n",
       "      <td>10 days 05:35:56</td>\n",
       "    </tr>\n",
       "    <tr>\n",
       "      <th>39927</th>\n",
       "      <td>E170333099</td>\n",
       "      <td>E422</td>\n",
       "      <td>DP</td>\n",
       "      <td>2017-02-09 18:43:08</td>\n",
       "      <td>E170333099</td>\n",
       "      <td>E422</td>\n",
       "      <td>DP</td>\n",
       "      <td>2017-02-02 21:21:09</td>\n",
       "      <td>6 days 21:21:59</td>\n",
       "    </tr>\n",
       "    <tr>\n",
       "      <th>39948</th>\n",
       "      <td>E170333099</td>\n",
       "      <td>E427</td>\n",
       "      <td>ER</td>\n",
       "      <td>2017-02-09 06:49:29</td>\n",
       "      <td>E170333099</td>\n",
       "      <td>E427</td>\n",
       "      <td>ER</td>\n",
       "      <td>2017-02-03 18:32:47</td>\n",
       "      <td>5 days 12:16:42</td>\n",
       "    </tr>\n",
       "    <tr>\n",
       "      <th>40038</th>\n",
       "      <td>E170333099</td>\n",
       "      <td>T441</td>\n",
       "      <td>DP</td>\n",
       "      <td>2017-02-07 18:11:22</td>\n",
       "      <td>E170333099</td>\n",
       "      <td>T441</td>\n",
       "      <td>DP</td>\n",
       "      <td>2017-02-02 21:10:33</td>\n",
       "      <td>4 days 21:00:49</td>\n",
       "    </tr>\n",
       "    <tr>\n",
       "      <th>39947</th>\n",
       "      <td>E170333099</td>\n",
       "      <td>E427</td>\n",
       "      <td>DP</td>\n",
       "      <td>2017-02-08 07:18:51</td>\n",
       "      <td>E170333099</td>\n",
       "      <td>E427</td>\n",
       "      <td>DP</td>\n",
       "      <td>2017-02-03 18:31:13</td>\n",
       "      <td>4 days 12:47:38</td>\n",
       "    </tr>\n",
       "    <tr>\n",
       "      <th>39973</th>\n",
       "      <td>E170333099</td>\n",
       "      <td>E440</td>\n",
       "      <td>DP</td>\n",
       "      <td>2017-02-09 03:06:54</td>\n",
       "      <td>E170333099</td>\n",
       "      <td>E440</td>\n",
       "      <td>DP</td>\n",
       "      <td>2017-02-04 22:29:11</td>\n",
       "      <td>4 days 04:37:43</td>\n",
       "    </tr>\n",
       "    <tr>\n",
       "      <th>39954</th>\n",
       "      <td>E170333099</td>\n",
       "      <td>E431</td>\n",
       "      <td>DP</td>\n",
       "      <td>2017-02-07 18:43:00</td>\n",
       "      <td>E170333099</td>\n",
       "      <td>E431</td>\n",
       "      <td>DP</td>\n",
       "      <td>2017-02-03 18:11:55</td>\n",
       "      <td>4 days 00:31:05</td>\n",
       "    </tr>\n",
       "    <tr>\n",
       "      <th>39958</th>\n",
       "      <td>E170333099</td>\n",
       "      <td>E432</td>\n",
       "      <td>DP</td>\n",
       "      <td>2017-02-06 11:00:02</td>\n",
       "      <td>E170333099</td>\n",
       "      <td>E432</td>\n",
       "      <td>DP</td>\n",
       "      <td>2017-02-02 22:49:26</td>\n",
       "      <td>3 days 12:10:36</td>\n",
       "    </tr>\n",
       "    <tr>\n",
       "      <th>40042</th>\n",
       "      <td>E170333099</td>\n",
       "      <td>TL401</td>\n",
       "      <td>DP</td>\n",
       "      <td>2017-02-07 06:32:36</td>\n",
       "      <td>E170333099</td>\n",
       "      <td>TL401</td>\n",
       "      <td>DP</td>\n",
       "      <td>2017-02-03 18:53:01</td>\n",
       "      <td>3 days 11:39:35</td>\n",
       "    </tr>\n",
       "    <tr>\n",
       "      <th>39885</th>\n",
       "      <td>E170333099</td>\n",
       "      <td>E401</td>\n",
       "      <td>DP</td>\n",
       "      <td>2017-02-06 18:49:51</td>\n",
       "      <td>E170333099</td>\n",
       "      <td>E401</td>\n",
       "      <td>DP</td>\n",
       "      <td>2017-02-03 12:34:17</td>\n",
       "      <td>3 days 06:15:34</td>\n",
       "    </tr>\n",
       "    <tr>\n",
       "      <th>39933</th>\n",
       "      <td>E170333099</td>\n",
       "      <td>E423</td>\n",
       "      <td>DP</td>\n",
       "      <td>2017-02-08 00:34:15</td>\n",
       "      <td>E170333099</td>\n",
       "      <td>E423</td>\n",
       "      <td>DP</td>\n",
       "      <td>2017-02-05 02:31:10</td>\n",
       "      <td>2 days 22:03:05</td>\n",
       "    </tr>\n",
       "    <tr>\n",
       "      <th>40054</th>\n",
       "      <td>E170333099</td>\n",
       "      <td>TL440</td>\n",
       "      <td>DP</td>\n",
       "      <td>2017-02-05 18:26:57</td>\n",
       "      <td>E170333099</td>\n",
       "      <td>TL440</td>\n",
       "      <td>DP</td>\n",
       "      <td>2017-02-03 18:31:13</td>\n",
       "      <td>1 days 23:55:44</td>\n",
       "    </tr>\n",
       "    <tr>\n",
       "      <th>152490</th>\n",
       "      <td>E171291600</td>\n",
       "      <td>A437</td>\n",
       "      <td>OS</td>\n",
       "      <td>2017-05-11 10:40:08</td>\n",
       "      <td>E171291600</td>\n",
       "      <td>A437</td>\n",
       "      <td>OS</td>\n",
       "      <td>2017-05-09 12:51:12</td>\n",
       "      <td>1 days 21:48:56</td>\n",
       "    </tr>\n",
       "    <tr>\n",
       "      <th>983637</th>\n",
       "      <td>E191291535</td>\n",
       "      <td>A438E</td>\n",
       "      <td>OS</td>\n",
       "      <td>2019-05-11 10:55:47</td>\n",
       "      <td>E191291535</td>\n",
       "      <td>A438E</td>\n",
       "      <td>OS</td>\n",
       "      <td>2019-05-09 15:09:34</td>\n",
       "      <td>1 days 19:46:13</td>\n",
       "    </tr>\n",
       "    <tr>\n",
       "      <th>39961</th>\n",
       "      <td>E170333099</td>\n",
       "      <td>E435</td>\n",
       "      <td>DP</td>\n",
       "      <td>2017-02-04 06:58:08</td>\n",
       "      <td>E170333099</td>\n",
       "      <td>E435</td>\n",
       "      <td>DP</td>\n",
       "      <td>2017-02-02 21:10:29</td>\n",
       "      <td>1 days 09:47:39</td>\n",
       "    </tr>\n",
       "    <tr>\n",
       "      <th>1307521</th>\n",
       "      <td>E200390725</td>\n",
       "      <td>M424</td>\n",
       "      <td>DP</td>\n",
       "      <td>2020-02-09 15:20:03</td>\n",
       "      <td>E200390725</td>\n",
       "      <td>M424</td>\n",
       "      <td>DP</td>\n",
       "      <td>2020-02-08 10:29:37</td>\n",
       "      <td>1 days 04:50:26</td>\n",
       "    </tr>\n",
       "    <tr>\n",
       "      <th>39903</th>\n",
       "      <td>E170333099</td>\n",
       "      <td>E411</td>\n",
       "      <td>DP</td>\n",
       "      <td>2017-02-06 22:47:40</td>\n",
       "      <td>E170333099</td>\n",
       "      <td>E411</td>\n",
       "      <td>DP</td>\n",
       "      <td>2017-02-05 18:06:51</td>\n",
       "      <td>1 days 04:40:49</td>\n",
       "    </tr>\n",
       "    <tr>\n",
       "      <th>194529</th>\n",
       "      <td>E171643229</td>\n",
       "      <td>E401</td>\n",
       "      <td>OS</td>\n",
       "      <td>2017-06-13 22:34:09</td>\n",
       "      <td>E171643229</td>\n",
       "      <td>E401</td>\n",
       "      <td>OS</td>\n",
       "      <td>2017-06-12 22:34:00</td>\n",
       "      <td>1 days 00:00:09</td>\n",
       "    </tr>\n",
       "  </tbody>\n",
       "</table>\n",
       "</div>"
      ],
      "text/plain": [
       "        AVL_IncidentNumber AVL_UnitID AVL_UnitStatus            firstavl  \\\n",
       "40023           E170333099       R419             DP 2017-02-14 02:37:33   \n",
       "40017           E170333099       R414             DP 2017-02-13 22:30:27   \n",
       "39919           E170333099       E419             DP 2017-02-13 02:46:21   \n",
       "39927           E170333099       E422             DP 2017-02-09 18:43:08   \n",
       "39948           E170333099       E427             ER 2017-02-09 06:49:29   \n",
       "40038           E170333099       T441             DP 2017-02-07 18:11:22   \n",
       "39947           E170333099       E427             DP 2017-02-08 07:18:51   \n",
       "39973           E170333099       E440             DP 2017-02-09 03:06:54   \n",
       "39954           E170333099       E431             DP 2017-02-07 18:43:00   \n",
       "39958           E170333099       E432             DP 2017-02-06 11:00:02   \n",
       "40042           E170333099      TL401             DP 2017-02-07 06:32:36   \n",
       "39885           E170333099       E401             DP 2017-02-06 18:49:51   \n",
       "39933           E170333099       E423             DP 2017-02-08 00:34:15   \n",
       "40054           E170333099      TL440             DP 2017-02-05 18:26:57   \n",
       "152490          E171291600       A437             OS 2017-05-11 10:40:08   \n",
       "983637          E191291535      A438E             OS 2019-05-11 10:55:47   \n",
       "39961           E170333099       E435             DP 2017-02-04 06:58:08   \n",
       "1307521         E200390725       M424             DP 2020-02-09 15:20:03   \n",
       "39903           E170333099       E411             DP 2017-02-06 22:47:40   \n",
       "194529          E171643229       E401             OS 2017-06-13 22:34:09   \n",
       "\n",
       "        CAD_IncidentNumber CAD_UnitID CAD_UnitStatus            firstcad  \\\n",
       "40023           E170333099       R419             DP 2017-02-02 21:10:37   \n",
       "40017           E170333099       R414             DP 2017-02-03 12:34:19   \n",
       "39919           E170333099       E419             DP 2017-02-02 21:10:25   \n",
       "39927           E170333099       E422             DP 2017-02-02 21:21:09   \n",
       "39948           E170333099       E427             ER 2017-02-03 18:32:47   \n",
       "40038           E170333099       T441             DP 2017-02-02 21:10:33   \n",
       "39947           E170333099       E427             DP 2017-02-03 18:31:13   \n",
       "39973           E170333099       E440             DP 2017-02-04 22:29:11   \n",
       "39954           E170333099       E431             DP 2017-02-03 18:11:55   \n",
       "39958           E170333099       E432             DP 2017-02-02 22:49:26   \n",
       "40042           E170333099      TL401             DP 2017-02-03 18:53:01   \n",
       "39885           E170333099       E401             DP 2017-02-03 12:34:17   \n",
       "39933           E170333099       E423             DP 2017-02-05 02:31:10   \n",
       "40054           E170333099      TL440             DP 2017-02-03 18:31:13   \n",
       "152490          E171291600       A437             OS 2017-05-09 12:51:12   \n",
       "983637          E191291535      A438E             OS 2019-05-09 15:09:34   \n",
       "39961           E170333099       E435             DP 2017-02-02 21:10:29   \n",
       "1307521         E200390725       M424             DP 2020-02-08 10:29:37   \n",
       "39903           E170333099       E411             DP 2017-02-05 18:06:51   \n",
       "194529          E171643229       E401             OS 2017-06-12 22:34:00   \n",
       "\n",
       "                   delta  \n",
       "40023   11 days 05:26:56  \n",
       "40017   10 days 09:56:08  \n",
       "39919   10 days 05:35:56  \n",
       "39927    6 days 21:21:59  \n",
       "39948    5 days 12:16:42  \n",
       "40038    4 days 21:00:49  \n",
       "39947    4 days 12:47:38  \n",
       "39973    4 days 04:37:43  \n",
       "39954    4 days 00:31:05  \n",
       "39958    3 days 12:10:36  \n",
       "40042    3 days 11:39:35  \n",
       "39885    3 days 06:15:34  \n",
       "39933    2 days 22:03:05  \n",
       "40054    1 days 23:55:44  \n",
       "152490   1 days 21:48:56  \n",
       "983637   1 days 19:46:13  \n",
       "39961    1 days 09:47:39  \n",
       "1307521  1 days 04:50:26  \n",
       "39903    1 days 04:40:49  \n",
       "194529   1 days 00:00:09  "
      ]
     },
     "execution_count": 35,
     "metadata": {},
     "output_type": "execute_result"
    }
   ],
   "source": [
    "sort.sort_values(by = 'delta', ascending = False).head(20)"
   ]
  },
  {
   "cell_type": "code",
   "execution_count": 36,
   "id": "1a5be4ff-c0de-4720-a396-c1a63f2236c7",
   "metadata": {},
   "outputs": [
    {
     "name": "stdout",
     "output_type": "stream",
     "text": [
      "count                      1673903\n",
      "mean     0 days 00:03:49.047632987\n",
      "std      0 days 00:27:18.527662193\n",
      "min                0 days 00:00:00\n",
      "25%                0 days 00:00:28\n",
      "50%                0 days 00:01:06\n",
      "75%                0 days 00:06:08\n",
      "max               11 days 05:26:56\n",
      "Name: delta, dtype: object\n",
      "90th percentile:  0 days 00:09:30\n"
     ]
    }
   ],
   "source": [
    "print(sort['delta'].describe())\n",
    "print(\"90th percentile: \", pd.to_timedelta(np.percentile(sort['delta'], 90), unit = \"sec\"))"
   ]
  },
  {
   "cell_type": "markdown",
   "id": "f4e55e6f-4269-4ee5-aab3-38eae616eaeb",
   "metadata": {},
   "source": [
    "## Next steps\n",
    "\n",
    "- Breakdown visualizations by status (find deltas by the status)\n",
    "- Make visualizations prettier\n",
    "- Do analysis at the 90th percentile"
   ]
  },
  {
   "cell_type": "code",
   "execution_count": 37,
   "id": "cd461d76-4ded-4b28-9f6d-ae008e968e8d",
   "metadata": {},
   "outputs": [],
   "source": [
    "uniqueStatus = sort['AVL_UnitStatus'].unique()"
   ]
  },
  {
   "cell_type": "code",
   "execution_count": 38,
   "id": "b76868fa-bb12-4fed-bbc7-d6c64f40a549",
   "metadata": {},
   "outputs": [
    {
     "name": "stdout",
     "output_type": "stream",
     "text": [
      "Timestamp Deltas Between AVL and CAD Data Summary Stats by Unit Stats\n",
      "Unit Status: TA\n",
      "count                       178277\n",
      "mean     0 days 00:12:36.075954834\n",
      "std      0 days 00:15:27.553229872\n",
      "min                0 days 00:00:00\n",
      "25%                0 days 00:00:45\n",
      "50%                0 days 00:09:14\n",
      "75%                0 days 00:15:11\n",
      "max                0 days 13:10:12\n",
      "Name: delta, dtype: object\n",
      "\n",
      "90th Percentile: 0 days 00:35:03\n",
      "\n",
      "Distribution Plot: \n"
     ]
    },
    {
     "data": {
      "image/png": "[encoded data removed]",
      "text/plain": [
       "<Figure size 432x288 with 1 Axes>"
      ]
     },
     "metadata": {
      "needs_background": "light"
     },
     "output_type": "display_data"
    },
    {
     "name": "stdout",
     "output_type": "stream",
     "text": [
      "------------------------------------------------------------------------------------------\n",
      "Unit Status: TR\n",
      "count                       185215\n",
      "mean     0 days 00:01:03.075388062\n",
      "std      0 days 00:01:27.630391558\n",
      "min                0 days 00:00:00\n",
      "25%                0 days 00:00:31\n",
      "50%                0 days 00:00:51\n",
      "75%                0 days 00:01:16\n",
      "max                0 days 02:47:58\n",
      "Name: delta, dtype: object\n",
      "\n",
      "90th Percentile: 0 days 00:01:48\n",
      "\n",
      "Distribution Plot: \n"
     ]
    },
    {
     "data": {
      "image/png": "[encoded data removed]",
      "text/plain": [
       "<Figure size 432x288 with 1 Axes>"
      ]
     },
     "metadata": {
      "needs_background": "light"
     },
     "output_type": "display_data"
    },
    {
     "name": "stdout",
     "output_type": "stream",
     "text": [
      "------------------------------------------------------------------------------------------\n",
      "Unit Status: WP\n",
      "count                       210825\n",
      "mean     0 days 00:07:18.461558164\n",
      "std      0 days 00:02:47.195954826\n",
      "min                0 days 00:00:00\n",
      "25%                0 days 00:06:33\n",
      "50%                0 days 00:07:53\n",
      "75%                0 days 00:08:36\n",
      "max                0 days 04:02:40\n",
      "Name: delta, dtype: object\n",
      "\n",
      "90th Percentile: 0 days 00:09:03\n",
      "\n",
      "Distribution Plot: \n"
     ]
    },
    {
     "data": {
      "image/png": "[encoded data removed]",
      "text/plain": [
       "<Figure size 432x288 with 1 Axes>"
      ]
     },
     "metadata": {
      "needs_background": "light"
     },
     "output_type": "display_data"
    },
    {
     "name": "stdout",
     "output_type": "stream",
     "text": [
      "------------------------------------------------------------------------------------------\n",
      "Unit Status: OS\n",
      "count                       341735\n",
      "mean     0 days 00:04:27.772777151\n",
      "std      0 days 00:10:21.659210134\n",
      "min                0 days 00:00:00\n",
      "25%                0 days 00:00:10\n",
      "50%                0 days 00:01:10\n",
      "75%                0 days 00:09:30\n",
      "max                1 days 21:48:56\n",
      "Name: delta, dtype: object\n",
      "\n",
      "90th Percentile: 0 days 00:09:49\n",
      "\n",
      "Distribution Plot: \n"
     ]
    },
    {
     "data": {
      "image/png": "[encoded data removed]",
      "text/plain": [
       "<Figure size 432x288 with 1 Axes>"
      ]
     },
     "metadata": {
      "needs_background": "light"
     },
     "output_type": "display_data"
    },
    {
     "name": "stdout",
     "output_type": "stream",
     "text": [
      "------------------------------------------------------------------------------------------\n",
      "Unit Status: ER\n",
      "count                       711500\n",
      "mean     0 days 00:01:02.235352073\n",
      "std      0 days 00:09:42.930470774\n",
      "min                0 days 00:00:00\n",
      "25%                0 days 00:00:29\n",
      "50%                0 days 00:00:52\n",
      "75%                0 days 00:01:20\n",
      "max                5 days 12:16:42\n",
      "Name: delta, dtype: object\n",
      "\n",
      "90th Percentile: 0 days 00:01:54\n",
      "\n",
      "Distribution Plot: \n"
     ]
    },
    {
     "data": {
      "image/png": "[encoded data removed]",
      "text/plain": [
       "<Figure size 432x288 with 1 Axes>"
      ]
     },
     "metadata": {
      "needs_background": "light"
     },
     "output_type": "display_data"
    },
    {
     "name": "stdout",
     "output_type": "stream",
     "text": [
      "------------------------------------------------------------------------------------------\n",
      "Unit Status: DP\n",
      "count                        46275\n",
      "mean     0 days 00:03:07.955094543\n",
      "std      0 days 02:32:31.273400187\n",
      "min                0 days 00:00:00\n",
      "25%                0 days 00:00:06\n",
      "50%                0 days 00:00:23\n",
      "75%                0 days 00:00:59\n",
      "max               11 days 05:26:56\n",
      "Name: delta, dtype: object\n",
      "\n",
      "90th Percentile: 0 days 00:01:32\n",
      "\n",
      "Distribution Plot: \n"
     ]
    },
    {
     "data": {
      "image/png": "[encoded data removed]",
      "text/plain": [
       "<Figure size 432x288 with 1 Axes>"
      ]
     },
     "metadata": {
      "needs_background": "light"
     },
     "output_type": "display_data"
    },
    {
     "name": "stdout",
     "output_type": "stream",
     "text": [
      "------------------------------------------------------------------------------------------\n",
      "Unit Status: AK\n",
      "count                           76\n",
      "mean     0 days 00:01:18.894736842\n",
      "std      0 days 00:01:52.294206315\n",
      "min                0 days 00:00:01\n",
      "25%                0 days 00:00:15\n",
      "50%                0 days 00:00:42\n",
      "75%         0 days 00:01:29.250000\n",
      "max                0 days 00:09:17\n",
      "Name: delta, dtype: object\n",
      "\n",
      "90th Percentile: 0 days 00:02:58\n",
      "\n",
      "Distribution Plot: \n"
     ]
    },
    {
     "data": {
      "image/png": "[encoded data removed]",
      "text/plain": [
       "<Figure size 432x288 with 1 Axes>"
      ]
     },
     "metadata": {
      "needs_background": "light"
     },
     "output_type": "display_data"
    },
    {
     "name": "stdout",
     "output_type": "stream",
     "text": [
      "------------------------------------------------------------------------------------------\n"
     ]
    }
   ],
   "source": [
    "(sort['delta'] / pd.Timedelta(minutes=1)).hist()\n",
    "deltas = (sort['delta'] / pd.Timedelta(minutes=1))\n",
    "plt.title('AVL and CAD Timestamp Deltas')\n",
    "plt.xlabel('Delta (minutes)')\n",
    "plt.ylabel('Count of Instances');\n",
    "\n",
    "\n",
    "print('Timestamp Deltas Between AVL and CAD Data Summary Stats by Unit Stats')\n",
    "for i in uniqueStatus:\n",
    "    print('Unit Status: {}'.format(i))\n",
    "    print(sort[sort['AVL_UnitStatus'] == i]['delta'].describe())\n",
    "    print()\n",
    "    print('90th Percentile: {}'.format(\n",
    "        pd.to_timedelta(np.percentile((sort[sort['AVL_UnitStatus'] == i]['delta']), 90), unit = 'sec' )))\n",
    "    print()\n",
    "    print('Distribution Plot: ')\n",
    "    plt.show((sort[sort['AVL_UnitStatus']==i]['delta']/pd.Timedelta(minutes=1)).hist())\n",
    "    print('---' * 30)"
   ]
  },
  {
   "cell_type": "code",
   "execution_count": 39,
   "id": "288cc05a-8406-4d52-b01b-4f740564d0cc",
   "metadata": {},
   "outputs": [
    {
     "data": {
      "image/png": "[encoded data removed]",
      "text/plain": [
       "<Figure size 432x288 with 4 Axes>"
      ]
     },
     "metadata": {
      "needs_background": "light"
     },
     "output_type": "display_data"
    },
    {
     "data": {
      "image/png": "[encoded data removed]",
      "text/plain": [
       "<Figure size 432x288 with 2 Axes>"
      ]
     },
     "metadata": {
      "needs_background": "light"
     },
     "output_type": "display_data"
    },
    {
     "data": {
      "image/png": "[encoded data removed]",
      "text/plain": [
       "<Figure size 432x288 with 4 Axes>"
      ]
     },
     "metadata": {
      "needs_background": "light"
     },
     "output_type": "display_data"
    }
   ],
   "source": [
    "fig, axs = plt.subplots(2, 2)\n",
    "\n",
    "# using tuple unpacking for multiple Axes\n",
    "fig, (ax1, ax2) = plt.subplots(1, 2)\n",
    "fig, ((ax1, ax2), (ax3, ax4)) = plt.subplots(2, 2)"
   ]
  },
  {
   "cell_type": "code",
   "execution_count": 59,
   "id": "43b0015f-8591-446e-bcca-ec4e0eee25e1",
   "metadata": {},
   "outputs": [
    {
     "data": {
      "image/png": "[encoded data removed]",
      "text/plain": [
       "<Figure size 1800x1800 with 1 Axes>"
      ]
     },
     "metadata": {},
     "output_type": "display_data"
    }
   ],
   "source": [
    "import pandas as pd\n",
    "import numpy as np\n",
    "from matplotlib import pyplot as plt\n",
    "import seaborn as sns\n",
    "\n",
    "\n",
    "ax = sns.boxplot(x = sort['delta'].dt.total_seconds()/60, y = [\"\"] * len(sort), hue=sort[\"AVL_UnitStatus\"])  # RUN PLOT   \n",
    "sns.set(rc={'figure.figsize':(10, 25)})\n",
    "plt.show()\n",
    "\n",
    "# plt.clf()\n",
    "# plt.close()"
   ]
  },
  {
   "cell_type": "code",
   "execution_count": 86,
   "id": "5ac1bd0c-1561-44b1-8ca4-835babc9740d",
   "metadata": {},
   "outputs": [
    {
     "data": {
      "image/png": "[encoded data removed]",
      "text/plain": [
       "<Figure size 720x720 with 1 Axes>"
      ]
     },
     "metadata": {},
     "output_type": "display_data"
    },
    {
     "data": {
      "text/plain": [
       "<Figure size 720x720 with 0 Axes>"
      ]
     },
     "metadata": {},
     "output_type": "display_data"
    }
   ],
   "source": [
    "import pandas as pd\n",
    "import numpy as np\n",
    "from matplotlib import pyplot as plt\n",
    "import seaborn as sns\n",
    "\n",
    "\n",
    "# ax = sns.boxplot(x = sort['delta'].dt.total_seconds()/60, y = [\"\"] * len(sort), hue=sort[\"AVL_UnitStatus\"], showfliers = False)  # RUN PLOT   \n",
    "ax = sns.boxplot(y = sort['delta'].dt.total_seconds()/60, x = [\"\"] * len(sort), hue=sort[\"AVL_UnitStatus\"],\n",
    "                 showfliers = False,)\n",
    "#                  whis = [0,90])  # RUN PLOT   \n",
    "\n",
    "sns.set(rc={'figure.figsize':(10,10)})\n",
    "plt.xlabel('Unit Status')\n",
    "plt.ylabel('Time Difference (Minutes)')\n",
    "plt.title('Time Difference Between AVL and CAD for Each Unit Status\\n(Extreme Outliers Removed)')\n",
    "plt.show()\n",
    "\n",
    "plt.clf()\n",
    "# plt.close()"
   ]
  },
  {
   "cell_type": "code",
   "execution_count": null,
   "id": "21c28f3e-7850-4d0a-a094-76ffbd8ec03c",
   "metadata": {},
   "outputs": [],
   "source": []
  }
 ],
 "metadata": {
  "kernelspec": {
   "display_name": "Python 3",
   "language": "python",
   "name": "python3"
  },
  "language_info": {
   "codemirror_mode": {
    "name": "ipython",
    "version": 3
   },
   "file_extension": ".py",
   "mimetype": "text/x-python",
   "name": "python",
   "nbconvert_exporter": "python",
   "pygments_lexer": "ipython3",
   "version": "3.8.8"
  }
 },
 "nbformat": 4,
 "nbformat_minor": 5
}
