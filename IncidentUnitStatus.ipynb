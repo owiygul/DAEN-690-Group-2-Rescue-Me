{
 "cells": [
  {
   "cell_type": "code",
   "execution_count": 1,
   "id": "ed025368-ae2b-42bf-8f50-0514429e8992",
   "metadata": {},
   "outputs": [
    {
     "data": {
      "text/plain": [
       "14.258763735786609"
      ]
     },
     "execution_count": 1,
     "metadata": {},
     "output_type": "execute_result"
    }
   ],
   "source": [
    "import pandas as pd\n",
    "import numpy as np\n",
    "from datetime import datetime\n",
    "import matplotlib.pyplot as plt\n",
    "import seaborn as sns\n",
    "\n",
    "## Data Imports\n",
    "avl = pd.read_csv('GMU_2021_Summer_AVL.csv')\n",
    "cad = pd.read_csv('GMU_2021_Summer_CAD.csv')\n",
    "\n",
    "## Assign AVL column values\n",
    "avl.columns = ['AVL_IncidentNumber',\n",
    "               'AVL_UnitID',\n",
    "               'AVL_Timestamp',\n",
    "               'AVL_UnitStatus',\n",
    "               'AVL_Speed']\n",
    "avl.dropna(subset = ['AVL_IncidentNumber'],\n",
    "           inplace = True)\n",
    "avl.reset_index(inplace = True, drop = True)\n",
    "\n",
    "## Merge AVL and CAD datasets\n",
    "# I think doing an outer join is probably better cause then we can figure out what incidents do not have a\n",
    "# corresponding record between datasets\n",
    "df = avl.merge(cad, \n",
    "               how = 'outer', \n",
    "               left_on = ['AVL_IncidentNumber',\n",
    "                          'AVL_UnitID',\n",
    "                          'AVL_UnitStatus'],\n",
    "               right_on = ['CAD_IncidentNumber',\n",
    "                           'CAD_UnitID',\n",
    "                           'CAD_UnitStatus'],\n",
    "               suffixes = ('_avl', '_cad'))\n",
    "\n",
    "# ### Inner Join Info ###\n",
    "# <class 'pandas.core.frame.DataFrame'>\n",
    "# Int64Index: 21696754 entries, 0 to 21696753\n",
    "# Data columns (total 9 columns):\n",
    "#  #   Column              Dtype \n",
    "# ---  ------              ----- \n",
    "#  0   AVL_IncidentNumber  object\n",
    "#  1   AVL_UnitID          object\n",
    "#  2   AVL_Timestamp       object\n",
    "#  3   AVL_UnitStatus      object\n",
    "#  4   AVL_Speed           object\n",
    "#  5   CAD_IncidentNumber  object\n",
    "#  6   CAD_UnitID          object\n",
    "#  7   CAD_Timestamp       object\n",
    "#  8   CAD_UnitStatus      object\n",
    "# dtypes: object(9)\n",
    "# memory usage: 1.6+ GB\n",
    "\n",
    "# ### Nulls ###\n",
    "# AVL_IncidentNumber    0\n",
    "# AVL_UnitID            0\n",
    "# AVL_Timestamp         0\n",
    "# AVL_UnitStatus        0\n",
    "# AVL_Speed             0\n",
    "# CAD_IncidentNumber    0\n",
    "# CAD_UnitID            0\n",
    "# CAD_Timestamp         0\n",
    "# CAD_UnitStatus        0\n",
    "# dtype: int64\n",
    "\n",
    "\n",
    "# ---------------------------------------------------------------------------------------------\n",
    "### Outer Join Info ###\n",
    "### Info ###\n",
    "# <class 'pandas.core.frame.DataFrame'>\n",
    "# Int64Index: 24321445 entries, 0 to 24321444\n",
    "# Data columns (total 9 columns):\n",
    "#  #   Column              Dtype \n",
    "# ---  ------              ----- \n",
    "#  0   AVL_IncidentNumber  object\n",
    "#  1   AVL_UnitID          object\n",
    "#  2   AVL_Timestamp       object\n",
    "#  3   AVL_UnitStatus      object\n",
    "#  4   AVL_Speed           object\n",
    "#  5   CAD_IncidentNumber  object\n",
    "#  6   CAD_UnitID          object\n",
    "#  7   CAD_Timestamp       object\n",
    "#  8   CAD_UnitStatus      object\n",
    "# dtypes: object(9)\n",
    "# memory usage: 1.8+ GB\n",
    "\n",
    "#### Nulls ####\n",
    "# AVL_IncidentNumber    2624424\n",
    "# AVL_UnitID            2624424\n",
    "# AVL_Timestamp         2624424\n",
    "# AVL_UnitStatus        2624424\n",
    "# AVL_Speed             2624424\n",
    "# CAD_IncidentNumber        267\n",
    "# CAD_UnitID                267\n",
    "# CAD_Timestamp             267\n",
    "# CAD_UnitStatus            267\n",
    "\n",
    "# convert object to timestamp proper\n",
    "df['AVL_Timestamp'] = df['AVL_Timestamp'].str.replace('ED', '')\n",
    "df['CAD_Timestamp'] = df['CAD_Timestamp'].str.replace('ED', '')\n",
    "df['AVL_Timestamp'] = df['AVL_Timestamp'].str.replace('ES', '')\n",
    "df['CAD_Timestamp'] = df['CAD_Timestamp'].str.replace('ES', '')\n",
    "\n",
    "# convert timestamp data to DateTime format\n",
    "df['AVL_Timestamp'] = pd.to_datetime(df['AVL_Timestamp'], format = '%Y%m%d%H%M%S')\n",
    "df['CAD_Timestamp'] = pd.to_datetime(df['CAD_Timestamp'], format = '%Y%m%d%H%M%S')\n",
    "\n",
    "# create delta col\n",
    "df['CAD_AVL_Timestamp_DELTA'] = abs(df['AVL_Timestamp'] - df['CAD_Timestamp'])\n",
    "\n",
    "# moving and not moving statuses\n",
    "moving_statuses = ['ER','TR']\n",
    "not_moving = ['AM','AQ','OS','OT','TA','WP']\n",
    "\n",
    "# create Status Speed Match\n",
    "df['Status_Speed_Match'] = np.where((df['AVL_Speed'].isin(['Moving', 'moving']) & df['CAD_UnitStatus'].isin(['ER'])), True, False)\n",
    "\n",
    "# create a subset of data that only has Cad status = er\n",
    "er = df[df['CAD_UnitStatus'].isin(['ER'])]\n",
    "er[er['Status_Speed_Match'] == False]\n",
    "\n",
    "# what percentage of ER status are not moving?\n",
    "len(er[er['Status_Speed_Match'] == False]) / len(er) * 100"
   ]
  },
  {
   "cell_type": "markdown",
   "id": "11e68226-1d4d-45f7-8a06-4ae51c1934ef",
   "metadata": {},
   "source": [
    "Unit Prefixes: \n",
    "- A – ambulance \n",
    "- E – engine \n",
    "- M – medic \n",
    "- R – rescue squad \n",
    "- T/TT/TL – truck/tiller/tower \n",
    "Unit Status: \n",
    "- AK – acknowledge \n",
    "- AM – available on mobile (cell phone) - AQ – available in quarters (station) - AR – available on radio \n",
    "- DP – dispatched \n",
    "- ER – enroute \n",
    "- OS – on-scene \n",
    "- OT – out of service \n",
    "- TA – transport arrived (at medical facility) - TR – transport (begins) \n",
    "- WP – with patient \n",
    "Response Times: \n",
    "Unit Suffixes: \n",
    "- B – supplemental \n",
    "- C – supplemental \n",
    "- E – supplemental (usually volunteer, no  career firefighters) \n",
    "\n",
    "- eastern daylight = ED (end of timestamp)\n",
    "- Turnout: Unit dispatch to enroute "
   ]
  },
  {
   "cell_type": "markdown",
   "id": "8816f425-7a34-4dc4-863f-15f0c3bee30a",
   "metadata": {},
   "source": [
    "## Analysis ideas\n",
    "\n",
    "- CHRIS: create a timestamp delta col, plot the distribution of the deltas\n",
    "- CHRIS: create thresholds? maybe? of timestamps - 1 min delta, 5 min, etc.\n",
    "- find delta in first instance of status to first instance of next status, compare to cad, check if deltas in each dataset are close\n",
    "    - define turnout (standby to dispatch/ dispatch to en route only?)\n",
    "    - calculating turnout: \n",
    "    - maybe create another column for incident start time\n",
    "    - sort data by composite key + timestamp\n",
    "- CAROLYN: get turnaround: query by incident id, start stop time, and status\n",
    "- OSCAR AND JESS: given cad unit status = en route, does moving col = moving?\n",
    "- UNASSIGNED: pick out incident samples and plot timestamps just to find examples, see if its doing what we think its doing\n",
    "    - incident and unit and see side by side of the cad and avl data, see if behaving predictably (dispatch time detlas, en route deltas, etc. )"
   ]
  },
  {
   "cell_type": "markdown",
   "id": "c326bead-5dbb-4ce4-9ec9-7ef54cd0320a",
   "metadata": {},
   "source": [
    "- Distribution plots:\n",
    "    - Overall timestamps differences in the composite key join datetime columns\n",
    "    - For a given incident number, how much time is spent with status == ER AND speed == not moving "
   ]
  },
  {
   "cell_type": "code",
   "execution_count": 2,
   "id": "caf68114-7a5c-4e62-a9ed-268e83cef089",
   "metadata": {},
   "outputs": [
    {
     "data": {
      "text/html": [
       "<div>\n",
       "<style scoped>\n",
       "    .dataframe tbody tr th:only-of-type {\n",
       "        vertical-align: middle;\n",
       "    }\n",
       "\n",
       "    .dataframe tbody tr th {\n",
       "        vertical-align: top;\n",
       "    }\n",
       "\n",
       "    .dataframe thead th {\n",
       "        text-align: right;\n",
       "    }\n",
       "</style>\n",
       "<table border=\"1\" class=\"dataframe\">\n",
       "  <thead>\n",
       "    <tr style=\"text-align: right;\">\n",
       "      <th></th>\n",
       "      <th>AVL_IncidentNumber</th>\n",
       "      <th>AVL_UnitID</th>\n",
       "      <th>AVL_Timestamp</th>\n",
       "      <th>AVL_UnitStatus</th>\n",
       "      <th>AVL_Speed</th>\n",
       "      <th>CAD_IncidentNumber</th>\n",
       "      <th>CAD_UnitID</th>\n",
       "      <th>CAD_Timestamp</th>\n",
       "      <th>CAD_UnitStatus</th>\n",
       "      <th>CAD_AVL_Timestamp_DELTA</th>\n",
       "      <th>Status_Speed_Match</th>\n",
       "    </tr>\n",
       "  </thead>\n",
       "  <tbody>\n",
       "    <tr>\n",
       "      <th>0</th>\n",
       "      <td>E192700962</td>\n",
       "      <td>E423</td>\n",
       "      <td>2019-09-27 09:45:46</td>\n",
       "      <td>WP</td>\n",
       "      <td>moving</td>\n",
       "      <td>E192700962</td>\n",
       "      <td>E423</td>\n",
       "      <td>2019-09-27 09:37:11</td>\n",
       "      <td>WP</td>\n",
       "      <td>0 days 00:08:35</td>\n",
       "      <td>False</td>\n",
       "    </tr>\n",
       "    <tr>\n",
       "      <th>1</th>\n",
       "      <td>E192700962</td>\n",
       "      <td>E423</td>\n",
       "      <td>2019-09-27 09:45:46</td>\n",
       "      <td>WP</td>\n",
       "      <td>moving</td>\n",
       "      <td>E192700962</td>\n",
       "      <td>E423</td>\n",
       "      <td>2019-09-27 09:36:51</td>\n",
       "      <td>WP</td>\n",
       "      <td>0 days 00:08:55</td>\n",
       "      <td>False</td>\n",
       "    </tr>\n",
       "    <tr>\n",
       "      <th>2</th>\n",
       "      <td>E192700962</td>\n",
       "      <td>E423</td>\n",
       "      <td>2019-09-27 09:47:52</td>\n",
       "      <td>WP</td>\n",
       "      <td>moving</td>\n",
       "      <td>E192700962</td>\n",
       "      <td>E423</td>\n",
       "      <td>2019-09-27 09:37:11</td>\n",
       "      <td>WP</td>\n",
       "      <td>0 days 00:10:41</td>\n",
       "      <td>False</td>\n",
       "    </tr>\n",
       "    <tr>\n",
       "      <th>3</th>\n",
       "      <td>E192700962</td>\n",
       "      <td>E423</td>\n",
       "      <td>2019-09-27 09:47:52</td>\n",
       "      <td>WP</td>\n",
       "      <td>moving</td>\n",
       "      <td>E192700962</td>\n",
       "      <td>E423</td>\n",
       "      <td>2019-09-27 09:36:51</td>\n",
       "      <td>WP</td>\n",
       "      <td>0 days 00:11:01</td>\n",
       "      <td>False</td>\n",
       "    </tr>\n",
       "    <tr>\n",
       "      <th>4</th>\n",
       "      <td>E192701000</td>\n",
       "      <td>R401</td>\n",
       "      <td>2019-09-27 09:45:46</td>\n",
       "      <td>ER</td>\n",
       "      <td>moving</td>\n",
       "      <td>E192701000</td>\n",
       "      <td>R401</td>\n",
       "      <td>2019-09-27 09:41:59</td>\n",
       "      <td>ER</td>\n",
       "      <td>0 days 00:03:47</td>\n",
       "      <td>True</td>\n",
       "    </tr>\n",
       "  </tbody>\n",
       "</table>\n",
       "</div>"
      ],
      "text/plain": [
       "  AVL_IncidentNumber AVL_UnitID       AVL_Timestamp AVL_UnitStatus AVL_Speed  \\\n",
       "0         E192700962       E423 2019-09-27 09:45:46             WP    moving   \n",
       "1         E192700962       E423 2019-09-27 09:45:46             WP    moving   \n",
       "2         E192700962       E423 2019-09-27 09:47:52             WP    moving   \n",
       "3         E192700962       E423 2019-09-27 09:47:52             WP    moving   \n",
       "4         E192701000       R401 2019-09-27 09:45:46             ER    moving   \n",
       "\n",
       "  CAD_IncidentNumber CAD_UnitID       CAD_Timestamp CAD_UnitStatus  \\\n",
       "0         E192700962       E423 2019-09-27 09:37:11             WP   \n",
       "1         E192700962       E423 2019-09-27 09:36:51             WP   \n",
       "2         E192700962       E423 2019-09-27 09:37:11             WP   \n",
       "3         E192700962       E423 2019-09-27 09:36:51             WP   \n",
       "4         E192701000       R401 2019-09-27 09:41:59             ER   \n",
       "\n",
       "  CAD_AVL_Timestamp_DELTA  Status_Speed_Match  \n",
       "0         0 days 00:08:35               False  \n",
       "1         0 days 00:08:55               False  \n",
       "2         0 days 00:10:41               False  \n",
       "3         0 days 00:11:01               False  \n",
       "4         0 days 00:03:47                True  "
      ]
     },
     "execution_count": 2,
     "metadata": {},
     "output_type": "execute_result"
    }
   ],
   "source": [
    "df.head()"
   ]
  },
  {
   "cell_type": "code",
   "execution_count": 3,
   "id": "1fa6f716-a803-40f8-b10d-888bde4305d7",
   "metadata": {},
   "outputs": [
    {
     "data": {
      "text/plain": [
       "count                     21696754\n",
       "mean     0 days 00:16:50.965599370\n",
       "std      0 days 03:38:50.298041371\n",
       "min                0 days 00:00:00\n",
       "25%                0 days 00:02:13\n",
       "50%                0 days 00:04:30\n",
       "75%                0 days 00:09:56\n",
       "max               11 days 18:46:17\n",
       "Name: CAD_AVL_Timestamp_DELTA, dtype: object"
      ]
     },
     "execution_count": 3,
     "metadata": {},
     "output_type": "execute_result"
    }
   ],
   "source": [
    "df['CAD_AVL_Timestamp_DELTA'].describe()"
   ]
  },
  {
   "cell_type": "code",
   "execution_count": 4,
   "id": "00cf76f6-711b-4101-a5ad-f120c71baebd",
   "metadata": {},
   "outputs": [
    {
     "data": {
      "text/plain": [
       "<Figure size 1440x1008 with 0 Axes>"
      ]
     },
     "execution_count": 4,
     "metadata": {},
     "output_type": "execute_result"
    },
    {
     "data": {
      "text/plain": [
       "<Figure size 1440x1008 with 0 Axes>"
      ]
     },
     "metadata": {},
     "output_type": "display_data"
    }
   ],
   "source": [
    "import seaborn as sns\n",
    "from matplotlib.pyplot import figure\n",
    "figure(figsize=(20, 14))"
   ]
  },
  {
   "cell_type": "code",
   "execution_count": 7,
   "id": "b83fad74-b1bc-4fa9-8e65-89657f7f4a33",
   "metadata": {},
   "outputs": [
    {
     "data": {
      "image/png": "[encoded data removed]",
      "text/plain": [
       "<Figure size 432x288 with 1 Axes>"
      ]
     },
     "metadata": {
      "needs_background": "light"
     },
     "output_type": "display_data"
    }
   ],
   "source": [
    "(df['CAD_AVL_Timestamp_DELTA'] / pd.Timedelta(minutes=1)).hist()\n",
    "deltas = (df['CAD_AVL_Timestamp_DELTA'] / pd.Timedelta(minutes=1))\n",
    "plt.title('AVL and CAD Timestamp Deltas')\n",
    "plt.xlabel('Delta (minutes)')\n",
    "plt.ylabel('Count of Instances');"
   ]
  },
  {
   "cell_type": "code",
   "execution_count": 8,
   "id": "5b41ab2a-6bc8-416e-a3e7-2f58dbd197a9",
   "metadata": {},
   "outputs": [
    {
     "data": {
      "image/png": "[encoded data removed]",
      "text/plain": [
       "<Figure size 432x288 with 1 Axes>"
      ]
     },
     "metadata": {
      "needs_background": "light"
     },
     "output_type": "display_data"
    }
   ],
   "source": [
    "(df[df['CAD_AVL_Timestamp_DELTA'] < df['CAD_AVL_Timestamp_DELTA'].max()/565]['CAD_AVL_Timestamp_DELTA'] / pd.Timedelta(minutes=1)).hist()\n",
    "plt.title('AVL and CAD Timestamp Deltas (<30 Mins)')\n",
    "plt.xlabel('Delta (minutes)')\n",
    "plt.ylabel('Count of Instances');"
   ]
  },
  {
   "cell_type": "code",
   "execution_count": null,
   "id": "aefa88a8-6608-4286-8be9-8cc0b5ef1472",
   "metadata": {},
   "outputs": [],
   "source": [
    "df['CAD_AVL_Timestamp_DELTA'].max()/565"
   ]
  },
  {
   "cell_type": "code",
   "execution_count": null,
   "id": "e23217ee-3749-44b9-ab52-553451b3acbb",
   "metadata": {},
   "outputs": [],
   "source": [
    "# '0 days 00:00:00'"
   ]
  }
 ],
 "metadata": {
  "kernelspec": {
   "display_name": "Python 3",
   "language": "python",
   "name": "python3"
  },
  "language_info": {
   "codemirror_mode": {
    "name": "ipython",
    "version": 3
   },
   "file_extension": ".py",
   "mimetype": "text/x-python",
   "name": "python",
   "nbconvert_exporter": "python",
   "pygments_lexer": "ipython3",
   "version": "3.8.8"
  }
 },
 "nbformat": 4,
 "nbformat_minor": 5
}
